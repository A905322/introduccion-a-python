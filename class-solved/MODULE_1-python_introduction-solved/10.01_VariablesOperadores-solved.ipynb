{
 "cells": [
  {
   "cell_type": "markdown",
   "metadata": {},
   "source": [
    "# 1- Variables y Operadores\n",
    "\n",
    "Curso Introducción a Python - Tecnun, Universidad de Navarra\n"
   ]
  },
  {
   "cell_type": "markdown",
   "metadata": {},
   "source": [
    "El objetivo de este documento es conocer algunos tipos de variables y operadores empleados en Python."
   ]
  },
  {
   "cell_type": "markdown",
   "metadata": {},
   "source": [
    "## Hello, world!"
   ]
  },
  {
   "cell_type": "markdown",
   "metadata": {},
   "source": [
    "Pero, antes de entrar en materia, vamos a iniciarnos con la línea de código con la que empieza todo el mundo.\n",
    "\n",
    "El comando *print()* nos muestra por pantalla lo que le pasemos como argumento. En este caso, queremos ver por pantalla el texto \"Hello, world!\"."
   ]
  },
  {
   "cell_type": "code",
   "execution_count": 3,
   "metadata": {},
   "outputs": [
    {
     "output_type": "stream",
     "name": "stdout",
     "text": [
      "Hello, world!\nHello, world!\n"
     ]
    }
   ],
   "source": [
    "print('Hello, world!')\n",
    "print(\"Hello, world!\")"
   ]
  },
  {
   "cell_type": "code",
   "execution_count": 4,
   "metadata": {},
   "outputs": [],
   "source": [
    "import numpy as np"
   ]
  },
  {
   "cell_type": "code",
   "execution_count": 5,
   "metadata": {},
   "outputs": [
    {
     "output_type": "execute_result",
     "data": {
      "text/plain": [
       "array([1, 2, 3])"
      ]
     },
     "metadata": {},
     "execution_count": 5
    }
   ],
   "source": [
    "np.array([1,2,3])"
   ]
  },
  {
   "cell_type": "markdown",
   "metadata": {},
   "source": [
    "Obsérvese que podemos emplear tanto comillas simples como dobles para trabajar con cadenas de caracteres."
   ]
  },
  {
   "cell_type": "markdown",
   "metadata": {},
   "source": [
    "## Variables numéricas y operadores"
   ]
  },
  {
   "cell_type": "markdown",
   "metadata": {},
   "source": [
    "Vamos a empezar por las variables numéricas. Las más empleadas son las variables enteras (**int**) y flotantes (**float**). Con las primeras podremos representar los números enteros, y, con las segundas, cualquier número con decimales."
   ]
  },
  {
   "cell_type": "code",
   "execution_count": 6,
   "metadata": {},
   "outputs": [
    {
     "output_type": "stream",
     "name": "stdout",
     "text": [
      "1\n1.0\n"
     ]
    }
   ],
   "source": [
    "entero = 1\n",
    "flotante = 1.0\n",
    "\n",
    "print(entero)\n",
    "print(flotante)"
   ]
  },
  {
   "cell_type": "markdown",
   "metadata": {},
   "source": [
    "Podemos operar con los dos tipos de variables de la misma manera utilizando los operadores suma (**\\+**), resta (**\\-**), multiplicación (**\\***) y división (**\\/**). Debemos tener en cuenta que el resultado de cualquier operación realizada con variables flotantes será otra variable flotante. El resultado de cualquier operación realizada con variables enteras, por el contrario, será otra variable entera, a excepción de la división, que será flotante."
   ]
  },
  {
   "cell_type": "code",
   "execution_count": 7,
   "metadata": {},
   "outputs": [
    {
     "output_type": "stream",
     "name": "stdout",
     "text": [
      "5\n-3\n4\n4.0\n\n\n5.0\n-3.0\n4.0\n4.0\n"
     ]
    }
   ],
   "source": [
    "int1 = 1\n",
    "int2 = 4\n",
    "float1 = 1.0\n",
    "float2 = 4.0\n",
    "\n",
    "print(int1 + int2)\n",
    "print(int1 - int2)\n",
    "print(int1 * int2)\n",
    "print(int2 / int1)\n",
    "print('\\n')\n",
    "print(float1 + float2)\n",
    "print(float1 - float2)\n",
    "print(float1 * float2)\n",
    "print(float2 / float1)"
   ]
  },
  {
   "cell_type": "markdown",
   "metadata": {},
   "source": [
    "Python también permite mezclar variables enteras y flotantes en la misma operación. En este caso, el resultado siempre será flotante."
   ]
  },
  {
   "cell_type": "code",
   "execution_count": 8,
   "metadata": {},
   "outputs": [
    {
     "output_type": "stream",
     "name": "stdout",
     "text": [
      "5.0\n-3.0\n4.0\n4.0\n"
     ]
    }
   ],
   "source": [
    "print(int1 + float2)\n",
    "print(int1 - float2)\n",
    "print(int1 * float2)\n",
    "print(float2 / int1)"
   ]
  },
  {
   "cell_type": "markdown",
   "metadata": {},
   "source": [
    "Existen otros tres operadores que nos pueden resultar de utilidad: la potencia (**\\*\\***), la división entera (**//**) y el residuo de la división(**%**). El resultado de estas operaciones mantiene la naturaleza de las variables con las que estamos operando."
   ]
  },
  {
   "cell_type": "code",
   "execution_count": 9,
   "metadata": {},
   "outputs": [
    {
     "output_type": "stream",
     "name": "stdout",
     "text": [
      "8\n1.5\n1\n1\n\n\n8.0\n1.5\n1.0\n1.0\n"
     ]
    }
   ],
   "source": [
    "int1 = 2\n",
    "int2 = 3\n",
    "float1 = 2.0\n",
    "float2 = 3.0\n",
    "\n",
    "print(int1 ** int2)\n",
    "print(int2 / int1)\n",
    "print(int2 // int1)\n",
    "print(int2 % int1)\n",
    "print('\\n')\n",
    "print(float1 ** float2)\n",
    "print(float2 / float1)\n",
    "print(float2 // float1)\n",
    "print(float2 % float1)"
   ]
  },
  {
   "cell_type": "markdown",
   "metadata": {},
   "source": [
    "Para terminar con las variables numéricas, introduciremos la función **type()**. Esta función nos mostrará el tipo de variable que estamos utilizando y se puede emplear para cualquier tipo de variable."
   ]
  },
  {
   "cell_type": "code",
   "execution_count": 10,
   "metadata": {},
   "outputs": [
    {
     "output_type": "stream",
     "name": "stdout",
     "text": [
      "<class 'int'>\n<class 'float'>\n"
     ]
    }
   ],
   "source": [
    "print(type(2))\n",
    "print(type(2.0))"
   ]
  },
  {
   "cell_type": "markdown",
   "metadata": {},
   "source": [
    "## Cadenas de caracteres y operadores"
   ]
  },
  {
   "cell_type": "markdown",
   "metadata": {},
   "source": [
    "Como hemos comentado más arriba, las cadenas de caracteres (string) puede escribirse con comillas simples o dobles."
   ]
  },
  {
   "cell_type": "code",
   "execution_count": 11,
   "metadata": {},
   "outputs": [
    {
     "output_type": "stream",
     "name": "stdout",
     "text": [
      "Hello\nworld\n"
     ]
    }
   ],
   "source": [
    "h = 'Hello'\n",
    "w = \"world\"\n",
    "\n",
    "print(h)\n",
    "print(w)"
   ]
  },
  {
   "cell_type": "markdown",
   "metadata": {},
   "source": [
    "De la misma forma que hemos hecho con las variables numéricas, podemos emplear los operadores suma (**\\+**) y multiplicación (**\\***) para operar con las cadenas de caracteres. Con el primer operador concatenaremos las cadenas que estamos \"sumando\", mientras que con el segundo repetiremos la cadena tantas veces como el número que la multiplica."
   ]
  },
  {
   "cell_type": "code",
   "execution_count": 12,
   "metadata": {},
   "outputs": [
    {
     "output_type": "stream",
     "name": "stdout",
     "text": [
      "Hello, world!\nHelloHelloHello\n"
     ]
    }
   ],
   "source": [
    "print(h + ', ' + w + '!')\n",
    "print(3*h)"
   ]
  },
  {
   "source": [
    "Hay que tener mucho cuidado con los tipos de variable con los que estamos trabajando al hacer este tipo de operaciones. Véase un ejemplo:"
   ],
   "cell_type": "markdown",
   "metadata": {}
  },
  {
   "cell_type": "code",
   "execution_count": 14,
   "metadata": {},
   "outputs": [
    {
     "output_type": "stream",
     "name": "stdout",
     "text": [
      "4\n22\n"
     ]
    }
   ],
   "source": [
    "int_a = 2\n",
    "str_a = \"2\"\n",
    "\n",
    "print(int_a + int_a)\n",
    "print(str_a + str_a)\n",
    "# print(int_a + str_a) #Esta línea de código da error."
   ]
  },
  {
   "cell_type": "markdown",
   "metadata": {},
   "source": [
    "El poder emplear las comillas simples o dobles para crear las cadenas de caracteres facilita la inclusión de estos símbolos en el texto."
   ]
  },
  {
   "cell_type": "code",
   "execution_count": 15,
   "metadata": {},
   "outputs": [
    {
     "output_type": "stream",
     "name": "stdout",
     "text": [
      "Como la cadena ha sido creada con comillas simples, las comillas dobles (\") aparecerán en el texto sin problema.\nComo la cadena ha sido creada con comillas dobles, las comillas simples (') aparecerán en el texto sin problema.\n"
     ]
    }
   ],
   "source": [
    "print('Como la cadena ha sido creada con comillas simples, las comillas dobles (\") aparecerán en el texto sin problema.')\n",
    "print(\"Como la cadena ha sido creada con comillas dobles, las comillas simples (') aparecerán en el texto sin problema.\")"
   ]
  },
  {
   "cell_type": "markdown",
   "metadata": {},
   "source": [
    "Al igual que otros lenguajes de programación, Python permite acceder a los elementos de las cadenas de caracteres. Para ello, hay que tener en cuenta que el primer elemento de la cadena está ubicado en la posición 0."
   ]
  },
  {
   "cell_type": "code",
   "execution_count": 16,
   "metadata": {},
   "outputs": [
    {
     "output_type": "stream",
     "name": "stdout",
     "text": [
      "H\ne\nd\n"
     ]
    }
   ],
   "source": [
    "texto = 'Hello, world!'\n",
    "\n",
    "print(texto[0])\n",
    "print(texto[1])\n",
    "print(texto[11])"
   ]
  },
  {
   "cell_type": "markdown",
   "metadata": {},
   "source": [
    "## Conversión de tipos de variables"
   ]
  },
  {
   "cell_type": "markdown",
   "metadata": {},
   "source": [
    "Utilizando las funciones **int()**, **float()** y **str()**, se pueden convertir las variables de un tipo a otro. De todas formas, hay que tener cuidado al convertir flotantes a enteros, o cadenas de caracteres a enteros o flotantes."
   ]
  },
  {
   "cell_type": "code",
   "execution_count": 17,
   "metadata": {},
   "outputs": [
    {
     "output_type": "stream",
     "name": "stdout",
     "text": [
      "1.0\n1\n\n\n1\n1.9\n\n\n1\n1.0\n\n\n1.0\n1\n\n\n"
     ]
    }
   ],
   "source": [
    "entero = 1\n",
    "flotante = 1.9\n",
    "cadena = '1'\n",
    "cadena2 = '1.0'\n",
    "cadena3 = 'Hello, world!'\n",
    "\n",
    "print(float(entero))\n",
    "print(str(entero))\n",
    "print('\\n')\n",
    "print(int(flotante))\n",
    "print(str(flotante))\n",
    "print('\\n')\n",
    "print(int(cadena))\n",
    "print(float(cadena))\n",
    "print('\\n')\n",
    "print(float(cadena2))\n",
    "# print(int(cadena2)) #Esta línea de código da error.\n",
    "print(int(float(cadena2)))\n",
    "print('\\n')\n",
    "# print(int(cadena3)) #Esta línea de código da error.\n",
    "# print(float(cadena3)) #Esta línea de código da error."
   ]
  },
  {
   "cell_type": "markdown",
   "metadata": {},
   "source": [
    "## Listas "
   ]
  },
  {
   "cell_type": "markdown",
   "metadata": {},
   "source": [
    "Las listas son un tipo de variable que contienen distintas variables de cualquier tipo en su interior."
   ]
  },
  {
   "cell_type": "code",
   "execution_count": 18,
   "metadata": {},
   "outputs": [
    {
     "output_type": "stream",
     "name": "stdout",
     "text": [
      "[1, 2, 3, 4]\n[1.5, 6.3, 7.9]\n['Hello', 'world']\n"
     ]
    }
   ],
   "source": [
    "lista1 = [1, 2, 3, 4]\n",
    "lista2 = [1.5, 6.3, 7.9]\n",
    "lista3 = ['Hello', 'world']\n",
    "\n",
    "print(lista1)\n",
    "print(lista2)\n",
    "print(lista3)"
   ]
  },
  {
   "cell_type": "markdown",
   "metadata": {},
   "source": [
    "Las listas pueden contener elementos de distinta naturaleza."
   ]
  },
  {
   "cell_type": "code",
   "execution_count": 19,
   "metadata": {},
   "outputs": [
    {
     "output_type": "stream",
     "name": "stdout",
     "text": [
      "[1, 'Hello, world!', 3.5]\n"
     ]
    }
   ],
   "source": [
    "lista4 = [1, 'Hello, world!', 3.5]\n",
    "\n",
    "print(lista4)"
   ]
  },
  {
   "cell_type": "markdown",
   "metadata": {},
   "source": [
    "De la misma manera que con los elementos de las cadenas de caracteres, se puede acceder a los elementos de las listas de la siguiente manera:"
   ]
  },
  {
   "cell_type": "code",
   "execution_count": 20,
   "metadata": {},
   "outputs": [
    {
     "output_type": "stream",
     "name": "stdout",
     "text": [
      "1\nHello, world!\n3.5\n"
     ]
    }
   ],
   "source": [
    "print(lista4[0])\n",
    "print(lista4[1])\n",
    "print(lista4[2])"
   ]
  },
  {
   "cell_type": "markdown",
   "metadata": {},
   "source": [
    "## Otras variables "
   ]
  },
  {
   "cell_type": "markdown",
   "metadata": {},
   "source": [
    "Aunque no entraremos en detalle, vamos a introducir tres tipos de variables más: los diccionarios, las tuplas y los conjuntos."
   ]
  },
  {
   "cell_type": "code",
   "execution_count": 21,
   "metadata": {},
   "outputs": [
    {
     "output_type": "stream",
     "name": "stdout",
     "text": [
      "{'Asignatura 1': 'Ciencia de Datos en Python', 2: ['a', 2, 3.0], 3.0: 'Machine Learning', 'Asignatura 4': 10}\nCiencia de Datos en Python\n['a', 2, 3.0]\nMachine Learning\n10\n\n\n('CDPy', 2, 5.0, 'DP')\n5.0\n\n\n{2, 3.0, 'a'}\n{2, 3.0, 'a'}\n{2, 'a'}\n{2, 3.0, 4.0, 'a'}\n{3.0}\n{3.0, 4.0}\n"
     ]
    }
   ],
   "source": [
    "dictionary = {'Asignatura 1' : 'Ciencia de Datos en Python', 2 : ['a', 2, 3.0], 3.0 : 'Machine Learning', 'Asignatura 4' : 10}\n",
    "tupla = ('CDPy', 2, 5.0, 'DP')\n",
    "conjunto1 = {'a', 2, 3.0}\n",
    "conjunto2 = {'a', 2, 4.0}\n",
    "\n",
    "print(dictionary)\n",
    "print(dictionary['Asignatura 1'])\n",
    "print(dictionary[2])\n",
    "print(dictionary[3.0])\n",
    "print(dictionary['Asignatura 4'])\n",
    "# print(dictionary[0]) #Esta línea de código da error.\n",
    "print('\\n')\n",
    "print(tupla)\n",
    "print(tupla[2])\n",
    "print('\\n')\n",
    "print(conjunto1)\n",
    "# print(conjunto[0]) #Esta línea de código da error.\n",
    "conjunto1.add('a')\n",
    "print(conjunto1)\n",
    "print(conjunto1 & conjunto2)\n",
    "print(conjunto1 | conjunto2)\n",
    "print(conjunto1 - conjunto2)\n",
    "print(conjunto1 ^ conjunto2)"
   ]
  },
  {
   "cell_type": "markdown",
   "metadata": {},
   "source": [
    "## Cortes de cadenas/listas "
   ]
  },
  {
   "cell_type": "markdown",
   "metadata": {},
   "source": [
    "Como hemos comentado antes, las posiciones en las cadenas de caracteres y listas empiezan a contar desde 0.\n",
    "\n",
    "El operador **:** se emplea para obtener los valores guardados en más de una posición del vector (corte del vector)."
   ]
  },
  {
   "cell_type": "code",
   "execution_count": 22,
   "metadata": {},
   "outputs": [
    {
     "output_type": "stream",
     "name": "stdout",
     "text": [
      "abcd\n['a', 'b', 'c', 'd']\n\n\nabcd\n['a', 'b', 'c', 'd']\n"
     ]
    }
   ],
   "source": [
    "cadena4 = 'abcdefg'\n",
    "lista5 = ['a', 'b', 'c', 'd', 'e', 'f', 'g']\n",
    "\n",
    "print(cadena4[0:4])\n",
    "print(lista5[0:4])\n",
    "print('\\n')\n",
    "print(cadena4[:4])\n",
    "print(lista5[:4])"
   ]
  },
  {
   "cell_type": "markdown",
   "metadata": {},
   "source": [
    "En este caso, a pesar de poner **[0:4]** estamos extrayendo los elementos guardados en las posiciones 0, 1, 2 y 3. **Es muy importante tener en cuenta que el primer valor (0) sí que se extraerá, pero no así el último**.\n",
    "\n",
    "Aparte de acceder a los vectores por el primer elemento, también podemos acceder a ellos desde el último empleando el operador **-**."
   ]
  },
  {
   "cell_type": "code",
   "execution_count": 23,
   "metadata": {},
   "outputs": [
    {
     "output_type": "stream",
     "name": "stdout",
     "text": [
      "ef\n['e', 'f']\n\n\nefg\n['e', 'f', 'g']\n"
     ]
    }
   ],
   "source": [
    "print(cadena4[-3:-1])\n",
    "print(lista5[-3:-1])\n",
    "print('\\n')\n",
    "print(cadena4[-3:])\n",
    "print(lista5[-3:])"
   ]
  },
  {
   "cell_type": "markdown",
   "metadata": {},
   "source": [
    "También podemos extraer elementos a saltos, por ejemplo, aquellos elementos que están en posiciones pares. Para ello, volvemos a emplear el operador **:** junto con un tercer número que indica el paso."
   ]
  },
  {
   "cell_type": "code",
   "execution_count": 24,
   "metadata": {},
   "outputs": [
    {
     "output_type": "stream",
     "name": "stdout",
     "text": [
      "aceg\n['a', 'c', 'e', 'g']\n"
     ]
    }
   ],
   "source": [
    "print(cadena4[0:7:2])\n",
    "print(lista5[0:7:2])"
   ]
  },
  {
   "cell_type": "markdown",
   "metadata": {},
   "source": [
    "Para terminar, también con el operador **-** podemos darle la vuelta al vector."
   ]
  },
  {
   "cell_type": "code",
   "execution_count": 25,
   "metadata": {},
   "outputs": [
    {
     "output_type": "stream",
     "name": "stdout",
     "text": [
      "gfedcba\n['g', 'f', 'e', 'd', 'c', 'b', 'a']\n\n\ngf\n['g', 'f']\n"
     ]
    }
   ],
   "source": [
    "print(cadena4[::-1])\n",
    "print(lista5[::-1])\n",
    "print('\\n')\n",
    "print(cadena4[6:4:-1])\n",
    "print(lista5[6:4:-1])"
   ]
  }
 ],
 "metadata": {
  "kernelspec": {
   "display_name": "Python 3",
   "language": "python",
   "name": "python3"
  },
  "language_info": {
   "codemirror_mode": {
    "name": "ipython",
    "version": 3
   },
   "file_extension": ".py",
   "mimetype": "text/x-python",
   "name": "python",
   "nbconvert_exporter": "python",
   "pygments_lexer": "ipython3",
   "version": "3.6.8-final"
  }
 },
 "nbformat": 4,
 "nbformat_minor": 2
}