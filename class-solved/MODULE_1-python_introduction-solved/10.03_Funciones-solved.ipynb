{
 "cells": [
  {
   "cell_type": "markdown",
   "metadata": {},
   "source": [
    "# 3- Creación de Funciones\n",
    "\n",
    "Curso Introducción a Python - Tecnun, Universidad de Navarra"
   ]
  },
  {
   "cell_type": "markdown",
   "metadata": {},
   "source": [
    "El objetivo de este documento es mostrar cuál es la sintaxis para la creación de funciones en Python."
   ]
  },
  {
   "cell_type": "markdown",
   "metadata": {},
   "source": [
    "A modo de ejemplo, vamos a crear una función que opere con dos números, de forma que nos devuelva la suma y la resta. La sintaxis es la siguiente:"
   ]
  },
  {
   "cell_type": "code",
   "execution_count": null,
   "metadata": {},
   "outputs": [],
   "source": [
    "def operar(a, b):\n",
    "    suma = a+b\n",
    "    resta = a-b\n",
    "    return suma, resta"
   ]
  },
  {
   "cell_type": "markdown",
   "metadata": {},
   "source": [
    "Es importante que las variables de salida vienen definidas por la sentencia **return**, no se incluyen en la definición de la función. En el caso de que la función que hemos creado no contenga ningún argumento de salida no se emplea el operador **return**.\n",
    "\n",
    "Para llamar a la función sólo tendríamos que escribir lo siguiente:"
   ]
  },
  {
   "cell_type": "code",
   "execution_count": null,
   "metadata": {},
   "outputs": [],
   "source": [
    "num_1 = 6\n",
    "num_2 = 3.5\n",
    "\n",
    "s, r = operar(num_1, num_2)\n",
    "print(s, r)"
   ]
  },
  {
   "cell_type": "markdown",
   "metadata": {},
   "source": [
    "## Funciones como objetos"
   ]
  },
  {
   "cell_type": "markdown",
   "metadata": {},
   "source": [
    "Una peculiaridad de Python es que permite operar con funciones como objetos. Por ejemplo, en las líneas de código que siguen guardamos la función **operar** que acabamos de crear en la variable *suma_resta* y la utilizamos desde ahí."
   ]
  },
  {
   "cell_type": "code",
   "execution_count": null,
   "metadata": {},
   "outputs": [],
   "source": [
    "suma_resta = operar\n",
    "\n",
    "s_2, r_2 = suma_resta(num_1, num_2)\n",
    "print(s_2, r_2)"
   ]
  },
  {
   "cell_type": "markdown",
   "metadata": {},
   "source": [
    "Además, las funciones se puede emplear como variables de entrada de otras funciones."
   ]
  },
  {
   "cell_type": "code",
   "execution_count": null,
   "metadata": {},
   "outputs": [],
   "source": [
    "def print_operar(func, x, y):\n",
    "    s_xy, r_xy = func(x, y)\n",
    "    print(s_xy, r_xy)\n",
    "\n",
    "print_operar(suma_resta, num_1, num_2)"
   ]
  },
  {
   "cell_type": "markdown",
   "metadata": {},
   "source": [
    "En este concepto de emplear funciones como argumentos de otras funciones se basa el paradigma de Programación Funcional, donde pueden emplearse las funciones Lambda. Por ahora, no vamos a profundizar más en esta temática."
   ]
  }
 ],
 "metadata": {
  "kernelspec": {
   "display_name": "Python 3",
   "language": "python",
   "name": "python3"
  },
  "language_info": {
   "codemirror_mode": {
    "name": "ipython",
    "version": 3
   },
   "file_extension": ".py",
   "mimetype": "text/x-python",
   "name": "python",
   "nbconvert_exporter": "python",
   "pygments_lexer": "ipython3",
   "version": "3.7.3"
  }
 },
 "nbformat": 4,
 "nbformat_minor": 2
}