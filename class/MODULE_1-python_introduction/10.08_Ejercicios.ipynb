{
 "cells": [
  {
   "cell_type": "markdown",
   "metadata": {},
   "source": [
    "# Ejercicios\n",
    "Curso Introducción a Python - Tecnun, Universidad de Navarra"
   ]
  },
  {
   "source": [
    "## Creacción diccionario"
   ],
   "cell_type": "markdown",
   "metadata": {}
  },
  {
   "source": [
    "1. Crear un diccionario donde las claves sean los días de la semana y los valores sean cuántos de esos dias hay en septiembre.\n",
    "2. Del diccionario anterior, convertir todas las claves mayúsculas.\n",
    "\n",
    "EXTRA: Utiliza una tupla para los días de la semana."
   ],
   "cell_type": "markdown",
   "metadata": {}
  },
  {
   "cell_type": "code",
   "execution_count": 1,
   "metadata": {},
   "outputs": [
    {
     "output_type": "stream",
     "name": "stdout",
     "text": [
      "El diccionario original con las keys capitalizadas es:\n\t {'Lunes': 4, 'Martes': 4, 'Miercoles': 5, 'Jueves': 5, 'Viernes': 4, 'Sabado': 4, 'Domingo': 4} \n\nLa lista de keys en mayuscula es por tanto:\n\t ('LUNES', 'MARTES', 'MIERCOLES', 'JUEVES', 'VIERNES', 'SABADO', 'DOMINGO') \n\nEl diccionario final con las keys en mayusculas finalmente queda asi:\n\t {'LUNES': 4, 'MARTES': 4, 'MIERCOLES': 5, 'JUEVES': 5, 'VIERNES': 4, 'SABADO': 4, 'DOMINGO': 4} \n\n"
     ]
    }
   ],
   "source": [
    "nombreDias = (\"Lunes\", \"Martes\", \"Miercoles\", \"Jueves\", \"Viernes\", \"Sabado\", \"Domingo\")\n",
    "dias = [4, 4, 5, 5, 4, 4, 4] #Dias correspondientes \n",
    "\n",
    "# Diccionario final con nombres capitalizados y sus dias de la semana\n",
    "diccionario = dict(zip(nombreDias,dias))\n",
    "\n",
    "# Usamos comprenhension lists para iterar sobre los nombres de las claves y generar una nueva lista a la cual le aplicamos el metodo upper() para cada elemento, la lista resultante la convertimos en una tupla\n",
    "nombreDiasMayus = tuple([nombre.upper() for nombre in diccionario.keys()])\n",
    "\n",
    "#Con estas nuevas keys, podemos generar un nuevo diccionario con las claves del anterior pero en mayusculas\n",
    "diccionarioMayusculas = dict(zip(nombreDiasMayus,dias))\n",
    "\n",
    "print(f\"El diccionario original con las keys capitalizadas es:\\n\\t {diccionario} \\n\")\n",
    "print(f\"La lista de keys en mayuscula es por tanto:\\n\\t {nombreDiasMayus} \\n\")\n",
    "print(f\"El diccionario final con las keys en mayusculas finalmente queda asi:\\n\\t {diccionarioMayusculas} \\n\")"
   ]
  },
  {
   "cell_type": "markdown",
   "metadata": {},
   "source": [
    "## Cambiar el orden de las palabras"
   ]
  },
  {
   "cell_type": "markdown",
   "metadata": {},
   "source": [
    "Pide al usuario que introduzca una frase y que el algoritmo la muestre por pantalla pero con las palabras en orden inverso. Por ejemplo:\n",
    "\n",
    "                            Me gusta analizar datos  ->  datos analizar gusta Me"
   ]
  },
  {
   "cell_type": "code",
   "execution_count": 6,
   "metadata": {},
   "outputs": [
    {
     "output_type": "stream",
     "name": "stdout",
     "text": [
      "tal que Hola\n"
     ]
    }
   ],
   "source": [
    "frase = \"Hola que tal\"\n",
    "reversed = \" \".join(frase.split(\" \")[::-1])\n",
    "print(reversed)"
   ]
  },
  {
   "cell_type": "markdown",
   "metadata": {},
   "source": [
    "## Piedra - Papel - Tijera"
   ]
  },
  {
   "cell_type": "markdown",
   "metadata": {},
   "source": [
    "Crea un algoritmo que pida a dos usuarios si eligen piedra, papel o tijera y muestra por pantalla un mensaje para el ganador. En caso de empate, seguirán jugando hasta desempatar."
   ]
  },
  {
   "cell_type": "code",
   "execution_count": 7,
   "metadata": {},
   "outputs": [
    {
     "output_type": "stream",
     "name": "stdout",
     "text": [
      "Gana el Jugador 2\n"
     ]
    }
   ],
   "source": [
    "\n",
    "# Jugador 1\n",
    "entrada1 = \"papel\"\n",
    "\n",
    "# Jugador 2\n",
    "entrada2 = \"tijera\"\n",
    "\n",
    "\n",
    "opciones = (\"piedra\", \"papel\", \"tijera\")\n",
    "lent1 = entrada1.lower()\n",
    "lent2 = entrada2.lower()\n",
    "\n",
    "if (lent1 in opciones) and (lent2 in opciones):\n",
    "    if lent1 == lent2:\n",
    "        print(\"Empate\")\n",
    "    else:\n",
    "        if lent1 == \"piedra\" and lent2 == \"tijera\" or \\\n",
    "            lent1 == \"papel\" and lent2 == \"piedra\" or \\\n",
    "            lent1 == \"tijera\" and lent2 == \"papel\":\n",
    "            print(\"Gana el jugador 1\")\n",
    "        else:\n",
    "            print(\"Gana el Jugador 2\")\n",
    "else:\n",
    "    print(\"Un usuario no ha introducido correctamente la opción\")"
   ]
  },
  {
   "source": [
    "## Calculadora"
   ],
   "cell_type": "markdown",
   "metadata": {}
  },
  {
   "source": [
    "Hacer una función para un programa al que le entregues dos números `x` y `y` un parámetro `t` tal que\n",
    "\n",
    "- Si t = b. debe devolver $x - y$\n",
    "- Si t = c, debe devolver $x + y$\n",
    "- Si t = d, debe devolver $x/y$\n",
    "- Si t = e, debe devolver $x^{y+1}$\n",
    "\n",
    "EXTRA. Intenta utilizar un lista.\n"
   ],
   "cell_type": "markdown",
   "metadata": {}
  },
  {
   "cell_type": "code",
   "execution_count": 8,
   "metadata": {},
   "outputs": [
    {
     "output_type": "stream",
     "name": "stdout",
     "text": [
      "Sin lista: \nEl resultado es : 43699.79080880694\n\nUtilizando una lista como entrada: \nEl resultado es : 8.7\n"
     ]
    }
   ],
   "source": [
    "print(\"Sin lista: \")\n",
    "x = 12\n",
    "y = 3.3\n",
    "t = \"e\"\n",
    "opc = (\"b\",\"c\",\"d\",\"e\") \n",
    "res = 0\n",
    "if t in opc:\n",
    "    if t == opc[0]:\n",
    "        res = x - y\n",
    "    elif t == opc[1]:\n",
    "        res = x + y\n",
    "    elif t == opc[2]:\n",
    "        res = x/y\n",
    "    elif t == opc[3]:\n",
    "        res = x**(y+1)\n",
    "    print(f\"El resultado es : {res}\")\n",
    "else:\n",
    "    print(\"error has elegido mal la opcion\")\n",
    "print(\"\") #Saltamos una linea\n",
    "print(\"Utilizando una lista como entrada: \")\n",
    "#Extra usando lista\n",
    "# La entrada con la lista tendrá esta forma: [x, y, t]\n",
    "entrada = [12, 3.3, \"b\"] \n",
    "opc = (\"b\",\"c\",\"d\",\"e\") \n",
    "res = 0\n",
    "if entrada[2] in opc:\n",
    "    if entrada[2] == opc[0]:\n",
    "        res = entrada[0] - entrada[1]\n",
    "    elif entrada[2] == opc[1]:\n",
    "        res = entrada[0] + entrada[1]\n",
    "    elif entrada[2] == opc[2]:\n",
    "        res = entrada[0] / entrada[1]\n",
    "    elif entrada[2] == opc[3]:\n",
    "        res = entrada[0] ** (entrada[1] + 1)\n",
    "    print(f\"El resultado es : {res}\")\n",
    "else:\n",
    "    print(\"Error has elegido mal la opcion\")\n"
   ]
  },
  {
   "source": [
    "## Estaciones"
   ],
   "cell_type": "markdown",
   "metadata": {}
  },
  {
   "source": [
    "Hacer un script para un programa al que le entregues un parámetro mes. Según el mes que introduzca el usuario, el programa debe devolver: PRIMAVERA, VERANO, OTOÑO o INVIERNO.\n",
    "EXTRA. Intenta utilizar un diccionario."
   ],
   "cell_type": "markdown",
   "metadata": {}
  },
  {
   "cell_type": "code",
   "execution_count": 5,
   "metadata": {},
   "outputs": [
    {
     "output_type": "stream",
     "name": "stdout",
     "text": [
      "El mes de Abril pertenece a la estación de Primavera\n"
     ]
    }
   ],
   "source": [
    "#Introduce el mes que quieras analizar\n",
    "mes = \"Abril\"\n",
    "\n",
    "mes = mes.lower().capitalize()\n",
    "\n",
    "Meses = (\"Enero\", \"Febrero\", \"Marzo\", \"Abril\", \"Mayo\", \"Junio\", \"Julio\", \"Agosto\", \"Septiembre\", \"Octubre\", \"Noviembre\", \"Diciembre\")\n",
    "Estaciones = {\"Primavera\": Meses[2:5] ,\"Verano\": Meses[5:8] ,\"Otoño\": Meses[8:11] ,\"Invierno\": (Meses[11], Meses[0], Meses[1]) }\n",
    "\n",
    "#Debug\n",
    "#print(Estaciones.keys())\n",
    "#print(Estaciones.items())\n",
    "\n",
    "\n",
    "for key, value in Estaciones.items():\n",
    "    if mes in value:\n",
    "        print(f\"El mes de {mes} pertenece a la estación de {key}\")\n",
    "        break\n",
    "else: # Else en un for se ejecuta si y solo si el for termina con normalidad\n",
    "    print(\"No se encontró el mes\")"
   ]
  },
  {
   "cell_type": "markdown",
   "metadata": {},
   "source": [
    "## El ahorcado"
   ]
  },
  {
   "cell_type": "markdown",
   "metadata": {},
   "source": [
    "Crea el juego del ahorcado.\n",
    "\n",
    "Primero se le pedirá al usuario que introduzca una palabra. Después, otro usuario irá introduciendo letras, una a una, de forma que cada vez que introduce una, la pantalla muestre signos de interrogación en las posiciones de las letras que no se han acertado todavía y las letras en las posiciones de las que se han acertado. Asímismo, se mostrarán las letras que se han empleado pero no son correctas. Sólo se permitirán 6 fallos.\n",
    "\n",
    "En el caso de adivinar la palabra, se felicitará al usuario y, en el caso de no hacerlo, se mostrará \"GAME OVER\" por pantalla."
   ]
  },
  {
   "cell_type": "code",
   "execution_count": 10,
   "metadata": {},
   "outputs": [
    {
     "output_type": "stream",
     "name": "stdout",
     "text": [
      "Encuentra la palabra\n",
      "\n",
      "    \t ?\n",
      "    \n",
      "    Letras usadas: []\n",
      "    \n",
      "    \n",
      "Bien hecho!\n",
      "\n",
      "\t**************************************\n",
      "        Felicidades has acertado la palabra!\n",
      "        **************************************\n",
      "        La palabra era a\n"
     ]
    }
   ],
   "source": [
    "# Release\n",
    "original = input(\"Introduce la palabra que deben acertar: \").lower()\n",
    "\n",
    "# Debug\n",
    "#original = \"prueba\"\n",
    "\n",
    "ext = False\n",
    "intentos = 0\n",
    "maxIntentos = 5\n",
    "palabraOculta = \"?\"*len(original)\n",
    "letrasUsadas = []\n",
    "\n",
    "while not ext:\n",
    "    print(f\"\"\"Encuentra la palabra\n",
    "\n",
    "    \\t {palabraOculta}\n",
    "    \n",
    "    Letras usadas: {letrasUsadas}\n",
    "    \n",
    "    \"\"\")\n",
    "    nuevo = False #Controlamos si el usuario ha introducido una letra nueva o una utilizada, si ha introducido una utilizada le volvemos a pedir que introduzca una nueva letra que no se haya utilizado\n",
    "    while not nuevo:\n",
    "        letra = input(\"¿Qué letra quieres probar?: \").lower()\n",
    "        if letra not in letrasUsadas:\n",
    "            letrasUsadas.append(letra)\n",
    "            nuevo = True\n",
    "        else:\n",
    "            print(\"Ya has usado esa letra, prueba con una nueva!\")\n",
    "    if letra not in original:\n",
    "        intentos += 1\n",
    "        print(f\"No has acertado, sigue intentandolo! intentos:{intentos}\")\n",
    "    else:\n",
    "        for i in range(len(original)):\n",
    "            if original[i] == letra:\n",
    "                lista = list(palabraOculta)\n",
    "                lista[i] = letra\n",
    "                palabraOculta = \"\".join(lista)\n",
    "        print(\"Bien hecho!\")\n",
    "    print(\"\") # Añadimos una linea en blanco\n",
    "    if palabraOculta == original:\n",
    "        ext = True    \n",
    "        print(f\"\"\"\\t**************************************\n",
    "        Felicidades has acertado la palabra!\n",
    "        **************************************\n",
    "        La palabra era {original}\"\"\")\n",
    "    elif intentos == maxIntentos:\n",
    "        ext = True\n",
    "        print(f\"\"\"\\t*******************************************\n",
    "        Una pena, has perdido vuelve a intentarlo!\n",
    "        *******************************************\n",
    "        La palabra era {original}\"\"\")"
   ]
  },
  {
   "source": [
    "## Validación de contraseñas "
   ],
   "cell_type": "markdown",
   "metadata": {}
  },
  {
   "source": [
    "Crea una función que tome como argumento de entrada una propuesta de contraseña y compruebe si es segura o no. Una contraseña segura ha de cumplir las siguientes condiciones:\n",
    "- Debe tener al menos 8 caracteres.\n",
    "- Debe tener al menos una letra minúscula, una letra mayúscula, un número y un carácter no alfanumérico.\n",
    "- No puede tener espacios en blanco.\n",
    "\n",
    "Si la contraseña es segura, deberá mostrarse *True* por pantalla y, si no lo es, se mostrará *False*.\n",
    "\n",
    "Puedes aprovechar para practicar las expresiones regulares."
   ],
   "cell_type": "markdown",
   "metadata": {}
  },
  {
   "cell_type": "code",
   "execution_count": 3,
   "metadata": {},
   "outputs": [
    {
     "output_type": "stream",
     "name": "stdout",
     "text": [
      "Tu contraseña no es segura, asegúrate de que incluyes al menos lo siguiente:\n          - 8 caracteres\n          - Letra minuscula\n          - Letra mayuscula\n          - Numero\n          - Caracter especial\n"
     ]
    }
   ],
   "source": [
    "import re\n",
    "#Input introduce la contraseña que quieres comprobar\n",
    "# DEBUG\n",
    "#contra = \"Pru@&& eba12\"\n",
    "# Release\n",
    "contra = input(\"Introduce la contraseña que quieres comprobar: \")\n",
    "\n",
    "\n",
    "# Explicación de la regex\n",
    "# ^$ empieza y acaba con algo que cumpla lo del medio\n",
    "# (?=.*[a-z]) matcheame si alguna o ninguna letra que no sea el \\n es seguida por algo de la a a la z es decir que minimo una letra minuscula tiene que haber\n",
    "# (?=.*[A-Z]) matcheame si alguna o ninguna letra que no sea el \\n es seguida por A a la Z, que minimo una letra mayuscula tiene que haber\n",
    "# lo mismo con los numeros\n",
    "# por ultimo grupo de lookahead, buscame además a ver si hay algun caracter no alfanumerico (^ negado los alfanumericos)\n",
    "#una vez me has comprobado que al menos uno de cada existe, con el \\S seleccionamos todos los caracteres que no sean espacios o saltos de linea ya que los look ahead no capturan solo buscan que exista y con {8,} le obligamos a que tenga una longitud >= 8 a lo capturado\n",
    "\n",
    "if re.fullmatch(r\"^(?=.*[a-z])(?=.*[A-Z])(?=.*[0-9])(?=.*[^a-zA-Z0-9 ])\\S{8,}$\", contra):\n",
    "    print(\"Tu contraseña es segura\")\n",
    "else:\n",
    "    print(\"\"\"Tu contraseña no es segura, asegúrate de que incluyes al menos lo siguiente:\n",
    "          - 8 caracteres\n",
    "          - Letra minuscula\n",
    "          - Letra mayuscula\n",
    "          - Numero\n",
    "          - Caracter especial\"\"\")"
   ]
  },
  {
   "cell_type": "code",
   "execution_count": null,
   "metadata": {},
   "outputs": [],
   "source": []
  }
 ],
 "metadata": {
  "kernelspec": {
   "name": "python3",
   "display_name": "Python 3.7.9 64-bit ('venv')",
   "metadata": {
    "interpreter": {
     "hash": "fd3a8996e0acf5343d074e675d410fb19183f797a5c70d53c910525512c681cc"
    }
   }
  },
  "language_info": {
   "codemirror_mode": {
    "name": "ipython",
    "version": 3
   },
   "file_extension": ".py",
   "mimetype": "text/x-python",
   "name": "python",
   "nbconvert_exporter": "python",
   "pygments_lexer": "ipython3",
   "version": "3.7.9-final"
  }
 },
 "nbformat": 4,
 "nbformat_minor": 2
}