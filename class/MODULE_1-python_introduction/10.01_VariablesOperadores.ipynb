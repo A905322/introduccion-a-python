{
 "cells": [
  {
   "cell_type": "markdown",
   "metadata": {},
   "source": [
    "# 1- Variables y Operadores\n",
    "\n",
    "Curso Introducción a Python - Tecnun, Universidad de Navarra"
   ]
  },
  {
   "cell_type": "markdown",
   "metadata": {},
   "source": [
    "El objetivo de este documento es conocer algunos tipos de variables y operadores empleados en Python."
   ]
  },
  {
   "cell_type": "markdown",
   "metadata": {},
   "source": [
    "## Hello, world!"
   ]
  },
  {
   "cell_type": "markdown",
   "metadata": {},
   "source": [
    "Pero, antes de entrar en materia, vamos a iniciarnos con la línea de código con la que empieza todo el mundo.\n",
    "\n",
    "El comando *print()* nos muestra por pantalla lo que le pasemos como argumento. En este caso, queremos ver por pantalla el texto \"Hello, world!\"."
   ]
  },
  {
   "cell_type": "code",
   "execution_count": 7,
   "metadata": {},
   "outputs": [
    {
     "output_type": "stream",
     "name": "stdout",
     "text": [
      "Hello World!\n"
     ]
    }
   ],
   "source": [
    "print(\"Hello World!\")"
   ]
  },
  {
   "cell_type": "markdown",
   "metadata": {},
   "source": [
    "Obsérvese que podemos emplear tanto comillas simples como dobles para trabajar con cadenas de caracteres."
   ]
  },
  {
   "cell_type": "markdown",
   "metadata": {},
   "source": [
    "## Variables numéricas y operadores"
   ]
  },
  {
   "cell_type": "markdown",
   "metadata": {},
   "source": [
    "Vamos a empezar por las variables numéricas. Las más empleadas son las variables enteras (**int**) y flotantes (**float**). Con las primeras podremos representar los números enteros, y, con las segundas, cualquier número con decimales."
   ]
  },
  {
   "cell_type": "code",
   "execution_count": 8,
   "metadata": {},
   "outputs": [],
   "source": [
    "entero = 5\n",
    "decimal = 3.1415"
   ]
  },
  {
   "cell_type": "markdown",
   "metadata": {},
   "source": [
    "Podemos operar con los dos tipos de variables de la misma manera utilizando los operadores suma (**\\+**), resta (**\\-**), multiplicación (**\\***) y división (**\\/**). Debemos tener en cuenta que el resultado de cualquier operación realizada con variables flotantes será otra variable flotante. El resultado de cualquier operación realizada con variables enteras, por el contrario, será otra variable entera, a excepción de la división, que será flotante."
   ]
  },
  {
   "cell_type": "code",
   "execution_count": 9,
   "metadata": {},
   "outputs": [],
   "source": [
    "suma = entero + entero\n",
    "resta = entero - decimal\n",
    "multiplicacion = entero * decimal\n",
    "division = entero / decimal"
   ]
  },
  {
   "cell_type": "markdown",
   "metadata": {},
   "source": [
    "Python también permite mezclar variables enteras y flotantes en la misma operación. En este caso, el resultado siempre será flotante."
   ]
  },
  {
   "cell_type": "code",
   "execution_count": 10,
   "metadata": {},
   "outputs": [],
   "source": [
    "operacion = entero*2 - decimal"
   ]
  },
  {
   "cell_type": "markdown",
   "metadata": {},
   "source": [
    "Existen otros tres operadores que nos pueden resultar de utilidad: la potencia (**\\*\\***), la división entera (**//**) y el residuo de la división(**%**). El resultado de estas operaciones mantiene la naturaleza de las variables con las que estamos operando."
   ]
  },
  {
   "cell_type": "code",
   "execution_count": 11,
   "metadata": {},
   "outputs": [],
   "source": [
    "operacion = decimal**2 // entero"
   ]
  },
  {
   "cell_type": "markdown",
   "metadata": {},
   "source": [
    "Para terminar con las variables numéricas, introduciremos la función **type()**. Esta función nos mostrará el tipo de variable que estamos utilizando y se puede emplear para cualquier tipo de variable."
   ]
  },
  {
   "cell_type": "code",
   "execution_count": 12,
   "metadata": {},
   "outputs": [
    {
     "output_type": "execute_result",
     "data": {
      "text/plain": [
       "float"
      ]
     },
     "metadata": {},
     "execution_count": 12
    }
   ],
   "source": [
    "type(operacion)"
   ]
  },
  {
   "cell_type": "markdown",
   "metadata": {},
   "source": [
    "## Cadenas de caracteres y operadores"
   ]
  },
  {
   "cell_type": "markdown",
   "metadata": {},
   "source": [
    "Como hemos comentado más arriba, las cadenas de caracteres (string) puede escribirse con comillas simples o dobles."
   ]
  },
  {
   "cell_type": "code",
   "execution_count": 13,
   "metadata": {},
   "outputs": [
    {
     "output_type": "stream",
     "name": "stdout",
     "text": [
      "hello\n\n\nworld\n"
     ]
    }
   ],
   "source": [
    "h = \"hello\"\n",
    "w = \"world\"\n",
    "print(h)\n",
    "print(\"\\n\")\n",
    "print(w)\n"
   ]
  },
  {
   "cell_type": "markdown",
   "metadata": {},
   "source": [
    "De la misma forma que hemos hecho con las variables numéricas, podemos emplear los operadores suma (**\\+**) y multiplicación (**\\***) para operar con las cadenas de caracteres. Con el primer operador concatenaremos las cadenas que estamos \"sumando\", mientras que con el segundo repetiremos la cadena tantas veces como el número que la multiplica."
   ]
  },
  {
   "cell_type": "code",
   "execution_count": 14,
   "metadata": {},
   "outputs": [
    {
     "output_type": "stream",
     "name": "stdout",
     "text": [
      "hello world\nhello world\n"
     ]
    }
   ],
   "source": [
    "print(f\"{h} {w}\")\n",
    "# Que es lo mismo que\n",
    "print(h + \" \" + w)"
   ]
  },
  {
   "cell_type": "markdown",
   "metadata": {},
   "source": [
    "Hay que tener mucho cuidado con los tipos de variable con los que estamos trabajando al hacer este tipo de operaciones. Véase un ejemplo:"
   ]
  },
  {
   "cell_type": "code",
   "execution_count": 15,
   "metadata": {},
   "outputs": [
    {
     "output_type": "error",
     "ename": "TypeError",
     "evalue": "can only concatenate str (not \"int\") to str",
     "traceback": [
      "\u001b[1;31m---------------------------------------------------------------------------\u001b[0m",
      "\u001b[1;31mTypeError\u001b[0m                                 Traceback (most recent call last)",
      "\u001b[1;32m<ipython-input-15-76ca9928f8d1>\u001b[0m in \u001b[0;36m<module>\u001b[1;34m\u001b[0m\n\u001b[1;32m----> 1\u001b[1;33m \u001b[0mprint\u001b[0m\u001b[1;33m(\u001b[0m\u001b[0mh\u001b[0m \u001b[1;33m+\u001b[0m \u001b[0msuma\u001b[0m\u001b[1;33m)\u001b[0m\u001b[1;33m\u001b[0m\u001b[1;33m\u001b[0m\u001b[0m\n\u001b[0m\u001b[0;32m      2\u001b[0m \u001b[1;31m# Esta sería la forma correcta\u001b[0m\u001b[1;33m\u001b[0m\u001b[1;33m\u001b[0m\u001b[1;33m\u001b[0m\u001b[0m\n\u001b[0;32m      3\u001b[0m \u001b[1;31m# print(h + str(suma))\u001b[0m\u001b[1;33m\u001b[0m\u001b[1;33m\u001b[0m\u001b[1;33m\u001b[0m\u001b[0m\n",
      "\u001b[1;31mTypeError\u001b[0m: can only concatenate str (not \"int\") to str"
     ]
    }
   ],
   "source": [
    "print(h + suma)\n",
    "# Esta sería la forma correcta\n",
    "# print(h + str(suma))"
   ]
  },
  {
   "cell_type": "markdown",
   "metadata": {},
   "source": [
    "El poder emplear las comillas simples o dobles para crear las cadenas de caracteres facilita la inclusión de estos símbolos en el texto."
   ]
  },
  {
   "cell_type": "code",
   "execution_count": 26,
   "metadata": {},
   "outputs": [
    {
     "output_type": "stream",
     "name": "stdout",
     "text": [
      "Javier's notebook\n"
     ]
    }
   ],
   "source": [
    "print(\"Javier's notebook\")"
   ]
  },
  {
   "cell_type": "markdown",
   "metadata": {},
   "source": [
    "Al igual que otros lenguajes de programación, Python permite acceder a los elementos de las cadenas de caracteres. Para ello, hay que tener en cuenta que el primer elemento de la cadena está ubicado en la posición 0."
   ]
  },
  {
   "cell_type": "code",
   "execution_count": 27,
   "metadata": {},
   "outputs": [
    {
     "output_type": "stream",
     "name": "stdout",
     "text": [
      "H\n"
     ]
    }
   ],
   "source": [
    "frase = \"Hey que pasa\"\n",
    "print(frase[0])"
   ]
  },
  {
   "cell_type": "markdown",
   "metadata": {},
   "source": [
    "## Conversión de tipos de variables"
   ]
  },
  {
   "cell_type": "markdown",
   "metadata": {},
   "source": [
    "Utilizando las funciones **int()**, **float()** y **str()**, se pueden convertir las variables de un tipo a otro. De todas formas, hay que tener cuidado al convertir flotantes a enteros, o cadenas de caracteres a enteros o flotantes."
   ]
  },
  {
   "cell_type": "code",
   "execution_count": null,
   "metadata": {},
   "outputs": [],
   "source": [
    "numero = 5\n",
    "print(frase + \" \" + str(numero))"
   ]
  },
  {
   "cell_type": "markdown",
   "metadata": {},
   "source": [
    "## Listas "
   ]
  },
  {
   "cell_type": "markdown",
   "metadata": {},
   "source": [
    "Las listas son un tipo de variable que contienen distintas variables de cualquier tipo en su interior."
   ]
  },
  {
   "cell_type": "code",
   "execution_count": 43,
   "metadata": {},
   "outputs": [
    {
     "output_type": "stream",
     "name": "stdout",
     "text": [
      "[1, 2, 3, 4]\n[3, 5, 67, 12]\n['Hola', 5]\no\n"
     ]
    }
   ],
   "source": [
    "lista1 = [1, 2, 3, 4]\n",
    "lista2 = [3, 5, 67, 12]\n",
    "lista3 = [\"Hola\", 5]\n",
    "print(lista1)\n",
    "print(lista2)\n",
    "print(lista3)\n",
    "print(lista3[0][1])"
   ]
  },
  {
   "cell_type": "markdown",
   "metadata": {},
   "source": [
    "Las listas pueden contener elementos de distinta naturaleza."
   ]
  },
  {
   "cell_type": "code",
   "execution_count": null,
   "metadata": {},
   "outputs": [],
   "source": []
  },
  {
   "cell_type": "markdown",
   "metadata": {},
   "source": [
    "De la misma manera que con los elementos de las cadenas de caracteres, se puede acceder a los elementos de las listas de la siguiente manera:"
   ]
  },
  {
   "cell_type": "code",
   "execution_count": null,
   "metadata": {},
   "outputs": [],
   "source": []
  },
  {
   "cell_type": "markdown",
   "metadata": {},
   "source": [
    "## Otras variables "
   ]
  },
  {
   "cell_type": "markdown",
   "metadata": {},
   "source": [
    "Aunque no entraremos en detalle, vamos a introducir tres tipos de variables más: los diccionarios, las tuplas y los conjuntos."
   ]
  },
  {
   "cell_type": "code",
   "execution_count": 18,
   "metadata": {},
   "outputs": [
    {
     "output_type": "stream",
     "name": "stdout",
     "text": [
      "jaime\ndict_keys(['Nombre', 'Edad'])\ndict_values(['jaime', 25])\n"
     ]
    }
   ],
   "source": [
    "dictionary = {\"Nombre\": \"jaime\", \"Edad\" : 25}\n",
    "nombre = dictionary[\"Nombre\"];\n",
    "print(nombre)\n",
    "print(dictionary.keys())\n",
    "print(dictionary.values())"
   ]
  },
  {
   "cell_type": "code",
   "execution_count": 21,
   "metadata": {},
   "outputs": [
    {
     "output_type": "stream",
     "name": "stdout",
     "text": [
      "{'Asignatura 1': 'Ciencia de Datos en Python', 2: ['a', 2, 3.0], 3.0: 'Machine Learning', 'Asignatura 4': 10}\nCiencia de Datos en Python\n['a', 2, 3.0]\nMachine Learning\n10\n\n\n('CDPy', 2, 5.0, 'DP')\n5.0\n\n\n{2, 3.0, 'a'}\n{2, 3.0, 'a'}\n{2, 'a'}\n{2, 3.0, 4.0, 'a'}\n{3.0}\n{3.0, 4.0}\n"
     ]
    }
   ],
   "source": [
    "dictionary = {'Asignatura 1' : 'Ciencia de Datos en Python', 2 : ['a', 2, 3.0], 3.0 : 'Machine Learning', 'Asignatura 4' : 10}\n",
    "tupla = ('CDPy', 2, 5.0, 'DP')\n",
    "conjunto1 = {'a', 2, 3.0}\n",
    "conjunto2 = {'a', 2, 4.0}\n",
    "\n",
    "print(dictionary)\n",
    "print(dictionary['Asignatura 1'])\n",
    "print(dictionary[2])\n",
    "print(dictionary[3.0])\n",
    "print(dictionary['Asignatura 4'])\n",
    "# print(dictionary[0]) #Esta línea de código da error.\n",
    "print('\\n')\n",
    "print(tupla)\n",
    "print(tupla[2])\n",
    "print('\\n')\n",
    "print(conjunto1)\n",
    "# print(conjunto[0]) #Esta línea de código da error.\n",
    "conjunto1.add('a')\n",
    "print(conjunto1)\n",
    "print(conjunto1 & conjunto2)\n",
    "print(conjunto1 | conjunto2)\n",
    "print(conjunto1 - conjunto2)\n",
    "print(conjunto1 ^ conjunto2)"
   ]
  },
  {
   "cell_type": "code",
   "execution_count": 30,
   "metadata": {},
   "outputs": [
    {
     "output_type": "stream",
     "name": "stdout",
     "text": [
      "<class 'set'>\n"
     ]
    },
    {
     "output_type": "execute_result",
     "data": {
      "text/plain": [
       "[12]"
      ]
     },
     "metadata": {},
     "execution_count": 30
    }
   ],
   "source": [
    "ls = []\n",
    "ls.append(12) #Añadir un elemento a la lista\n",
    "print(type(conjunto1))\n",
    "ls"
   ]
  },
  {
   "cell_type": "markdown",
   "metadata": {},
   "source": [
    "Como hemos comentado antes, las posiciones en las cadenas de caracteres y listas empiezan a contar desde 0.\n",
    "\n",
    "El operador **:** se emplea para obtener los valores guardado en más de una posición del vector (corte del vector)."
   ]
  },
  {
   "cell_type": "code",
   "execution_count": 19,
   "metadata": {},
   "outputs": [
    {
     "output_type": "stream",
     "name": "stdout",
     "text": [
      "gfedcba\nc\nbcd\nace\ngfedcba\ngec\n"
     ]
    }
   ],
   "source": [
    "cadena4 = \"abcdefg\"\n",
    "lsita4 = [\"a\", \"b\", \"c\", \"d\", \"e\", \"f\", \"g\"]\n",
    "print(cadena4[::-1])\n",
    "print(lsita4[2])\n",
    "# bcd\n",
    "# ace\n",
    "# dar la vuelta\n",
    "# gec\n",
    "print(cadena4[1:4])\n",
    "print(cadena4[:5:2])\n",
    "print(cadena4[::-1])\n",
    "print(cadena4[:0:-2])\n"
   ]
  },
  {
   "cell_type": "markdown",
   "metadata": {},
   "source": [
    "En este caso, a pesar de poner **[0:4]** estamos extrayendo los elementos guardados en las posiciones 0, 1, 2 y 3. **Es muy importante tener en cuenta que el primer valor (0) sí que se extraerá, pero no así el último**.\n",
    "\n",
    "Aparte de acceder a los vectores por el primer elemento, también podemos acceder a ellos desde el último empleando el operador **-**."
   ]
  },
  {
   "cell_type": "code",
   "execution_count": null,
   "metadata": {},
   "outputs": [],
   "source": []
  },
  {
   "cell_type": "markdown",
   "metadata": {},
   "source": [
    "También podemos extraer elementos a saltos, por ejemplo, aquellos elementos que están en posiciones pares. Para ello, volvemos a emplear el operador **:** junto con un tercer número que indica el paso."
   ]
  },
  {
   "cell_type": "code",
   "execution_count": null,
   "metadata": {},
   "outputs": [],
   "source": []
  },
  {
   "cell_type": "markdown",
   "metadata": {},
   "source": [
    "Para terminar, también con el operador **-** podemos darle la vuelta al vector."
   ]
  },
  {
   "cell_type": "code",
   "execution_count": null,
   "metadata": {},
   "outputs": [],
   "source": []
  }
 ],
 "metadata": {
  "kernelspec": {
   "name": "python3",
   "display_name": "Python 3.7.9 64-bit ('venv')",
   "metadata": {
    "interpreter": {
     "hash": "fd3a8996e0acf5343d074e675d410fb19183f797a5c70d53c910525512c681cc"
    }
   }
  },
  "language_info": {
   "codemirror_mode": {
    "name": "ipython",
    "version": 3
   },
   "file_extension": ".py",
   "mimetype": "text/x-python",
   "name": "python",
   "nbconvert_exporter": "python",
   "pygments_lexer": "ipython3",
   "version": "3.7.9-final"
  }
 },
 "nbformat": 4,
 "nbformat_minor": 2
}