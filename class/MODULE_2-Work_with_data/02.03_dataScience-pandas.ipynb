{
 "cells": [
  {
   "cell_type": "markdown",
   "metadata": {},
   "source": [
    "# Python for Data Analysis\n"
   ]
  },
  {
   "cell_type": "markdown",
   "metadata": {},
   "source": [
    "## Curso Introducción a Python - Tecnun, Universidad de Navarra\n",
    "\n",
    "Fernando Carazo\n",
    "\n",
    "\n",
    "Website: [rcs.bu.edu](http://www.bu.edu/tech/support/research/) <br>"
   ]
  },
  {
   "cell_type": "code",
   "execution_count": 22,
   "metadata": {},
   "outputs": [],
   "source": [
    "#Import Python Libraries\n",
    "import numpy as np\n",
    "import scipy as sp\n",
    "import pandas as pd\n",
    "import matplotlib.pyplot as plt\n",
    "import seaborn as sns"
   ]
  },
  {
   "cell_type": "markdown",
   "metadata": {},
   "source": [
    "Pandas is a python package that deals mostly with :\n",
    "- **Series**  (1d homogeneous array)\n",
    "- **DataFrame** (2d labeled heterogeneous array) \n",
    "- **Panel** (general 3d array)"
   ]
  },
  {
   "cell_type": "markdown",
   "metadata": {},
   "source": [
    "### Pandas Series"
   ]
  },
  {
   "cell_type": "markdown",
   "metadata": {},
   "source": [
    "Pandas *Series* is one-dimentional labeled array containing data of the same type (integers, strings, floating point numbers, Python objects, etc. ). The axis labels are often referred to as *index*."
   ]
  },
  {
   "cell_type": "code",
   "execution_count": 24,
   "metadata": {},
   "outputs": [],
   "source": [
    "# Example of creating Pandas series :\n",
    "s1 = pd.Series([1,2,3,4,5,6,7])"
   ]
  },
  {
   "cell_type": "markdown",
   "metadata": {},
   "source": [
    "We did not pass any index, so by default, it assigned the indexes ranging from 0 to len(data)-1"
   ]
  },
  {
   "cell_type": "code",
   "execution_count": 26,
   "metadata": {},
   "outputs": [
    {
     "output_type": "execute_result",
     "data": {
      "text/plain": [
       "RangeIndex(start=0, stop=7, step=1)"
      ]
     },
     "metadata": {},
     "execution_count": 26
    }
   ],
   "source": [
    "# View index values\n",
    "s1.index"
   ]
  },
  {
   "cell_type": "code",
   "execution_count": 28,
   "metadata": {},
   "outputs": [],
   "source": [
    "# Creating Pandas series with index:\n",
    "s1 = pd.Series([1,2,3], index=[\"a\",\"b\",\"c\"])"
   ]
  },
  {
   "cell_type": "code",
   "execution_count": 30,
   "metadata": {},
   "outputs": [
    {
     "output_type": "execute_result",
     "data": {
      "text/plain": [
       "Index(['a', 'b', 'c'], dtype='object')"
      ]
     },
     "metadata": {},
     "execution_count": 30
    }
   ],
   "source": [
    "# View index values\n",
    "s1.index"
   ]
  },
  {
   "cell_type": "markdown",
   "metadata": {},
   "source": [
    "### Pandas DataFrame"
   ]
  },
  {
   "cell_type": "markdown",
   "metadata": {},
   "source": [
    "Pandas *DataFrame* is two-dimensional, size-mutable, heterogeneous tabular data structure with labeled rows and columns ( axes ). Can be thought of a dictionary-like container to store python Series objects."
   ]
  },
  {
   "cell_type": "code",
   "execution_count": 32,
   "metadata": {},
   "outputs": [
    {
     "output_type": "stream",
     "name": "stdout",
     "text": [
      "{'Name': ['Alice', 'Bob', 'Chris'], 'Age': [21, 25, 23]}\n"
     ]
    }
   ],
   "source": [
    "dic = {\"Name\":[\"Alice\", \"Bob\", \"Chris\"], \"Age\" : [21,25,23]}\n",
    "print(dic)"
   ]
  },
  {
   "cell_type": "code",
   "execution_count": 34,
   "metadata": {},
   "outputs": [
    {
     "output_type": "execute_result",
     "data": {
      "text/plain": [
       "    Name  Age\n",
       "0  Alice   21\n",
       "1    Bob   25\n",
       "2  Chris   23"
      ],
      "text/html": "<div>\n<style scoped>\n    .dataframe tbody tr th:only-of-type {\n        vertical-align: middle;\n    }\n\n    .dataframe tbody tr th {\n        vertical-align: top;\n    }\n\n    .dataframe thead th {\n        text-align: right;\n    }\n</style>\n<table border=\"1\" class=\"dataframe\">\n  <thead>\n    <tr style=\"text-align: right;\">\n      <th></th>\n      <th>Name</th>\n      <th>Age</th>\n    </tr>\n  </thead>\n  <tbody>\n    <tr>\n      <th>0</th>\n      <td>Alice</td>\n      <td>21</td>\n    </tr>\n    <tr>\n      <th>1</th>\n      <td>Bob</td>\n      <td>25</td>\n    </tr>\n    <tr>\n      <th>2</th>\n      <td>Chris</td>\n      <td>23</td>\n    </tr>\n  </tbody>\n</table>\n</div>"
     },
     "metadata": {},
     "execution_count": 34
    }
   ],
   "source": [
    "d = pd.DataFrame(dic)\n",
    "d"
   ]
  },
  {
   "cell_type": "code",
   "execution_count": 36,
   "metadata": {},
   "outputs": [
    {
     "output_type": "execute_result",
     "data": {
      "text/plain": [
       "    Name  Age  Height\n",
       "0  Alice   21     5.2\n",
       "1    Bob   25     6.0\n",
       "2  Chris   23     5.6"
      ],
      "text/html": "<div>\n<style scoped>\n    .dataframe tbody tr th:only-of-type {\n        vertical-align: middle;\n    }\n\n    .dataframe tbody tr th {\n        vertical-align: top;\n    }\n\n    .dataframe thead th {\n        text-align: right;\n    }\n</style>\n<table border=\"1\" class=\"dataframe\">\n  <thead>\n    <tr style=\"text-align: right;\">\n      <th></th>\n      <th>Name</th>\n      <th>Age</th>\n      <th>Height</th>\n    </tr>\n  </thead>\n  <tbody>\n    <tr>\n      <th>0</th>\n      <td>Alice</td>\n      <td>21</td>\n      <td>5.2</td>\n    </tr>\n    <tr>\n      <th>1</th>\n      <td>Bob</td>\n      <td>25</td>\n      <td>6.0</td>\n    </tr>\n    <tr>\n      <th>2</th>\n      <td>Chris</td>\n      <td>23</td>\n      <td>5.6</td>\n    </tr>\n  </tbody>\n</table>\n</div>"
     },
     "metadata": {},
     "execution_count": 36
    }
   ],
   "source": [
    "#Add a new column:\n",
    "d[\"Height\"] = [5.2,6.0,5.6]\n",
    "d"
   ]
  },
  {
   "cell_type": "code",
   "execution_count": 38,
   "metadata": {},
   "outputs": [],
   "source": [
    "#Read csv file\n",
    "df = pd.read_csv(\"./data/Salaries.csv\")"
   ]
  },
  {
   "cell_type": "code",
   "execution_count": 40,
   "metadata": {},
   "outputs": [
    {
     "output_type": "execute_result",
     "data": {
      "text/plain": [
       "        rank discipline  phd  service   sex  salary\n",
       "0       Prof          B   56       49  Male  186960\n",
       "1       Prof          A   12        6  Male   93000\n",
       "2       Prof          A   23       20  Male  110515\n",
       "3       Prof          A   40       31  Male  131205\n",
       "4       Prof          B   20       18  Male  104800\n",
       "5       Prof          A   20       20  Male  122400\n",
       "6  AssocProf          A   20       17  Male   81285\n",
       "7       Prof          A   18       18  Male  126300\n",
       "8       Prof          A   29       19  Male   94350\n",
       "9       Prof          A   51       51  Male   57800"
      ],
      "text/html": "<div>\n<style scoped>\n    .dataframe tbody tr th:only-of-type {\n        vertical-align: middle;\n    }\n\n    .dataframe tbody tr th {\n        vertical-align: top;\n    }\n\n    .dataframe thead th {\n        text-align: right;\n    }\n</style>\n<table border=\"1\" class=\"dataframe\">\n  <thead>\n    <tr style=\"text-align: right;\">\n      <th></th>\n      <th>rank</th>\n      <th>discipline</th>\n      <th>phd</th>\n      <th>service</th>\n      <th>sex</th>\n      <th>salary</th>\n    </tr>\n  </thead>\n  <tbody>\n    <tr>\n      <th>0</th>\n      <td>Prof</td>\n      <td>B</td>\n      <td>56</td>\n      <td>49</td>\n      <td>Male</td>\n      <td>186960</td>\n    </tr>\n    <tr>\n      <th>1</th>\n      <td>Prof</td>\n      <td>A</td>\n      <td>12</td>\n      <td>6</td>\n      <td>Male</td>\n      <td>93000</td>\n    </tr>\n    <tr>\n      <th>2</th>\n      <td>Prof</td>\n      <td>A</td>\n      <td>23</td>\n      <td>20</td>\n      <td>Male</td>\n      <td>110515</td>\n    </tr>\n    <tr>\n      <th>3</th>\n      <td>Prof</td>\n      <td>A</td>\n      <td>40</td>\n      <td>31</td>\n      <td>Male</td>\n      <td>131205</td>\n    </tr>\n    <tr>\n      <th>4</th>\n      <td>Prof</td>\n      <td>B</td>\n      <td>20</td>\n      <td>18</td>\n      <td>Male</td>\n      <td>104800</td>\n    </tr>\n    <tr>\n      <th>5</th>\n      <td>Prof</td>\n      <td>A</td>\n      <td>20</td>\n      <td>20</td>\n      <td>Male</td>\n      <td>122400</td>\n    </tr>\n    <tr>\n      <th>6</th>\n      <td>AssocProf</td>\n      <td>A</td>\n      <td>20</td>\n      <td>17</td>\n      <td>Male</td>\n      <td>81285</td>\n    </tr>\n    <tr>\n      <th>7</th>\n      <td>Prof</td>\n      <td>A</td>\n      <td>18</td>\n      <td>18</td>\n      <td>Male</td>\n      <td>126300</td>\n    </tr>\n    <tr>\n      <th>8</th>\n      <td>Prof</td>\n      <td>A</td>\n      <td>29</td>\n      <td>19</td>\n      <td>Male</td>\n      <td>94350</td>\n    </tr>\n    <tr>\n      <th>9</th>\n      <td>Prof</td>\n      <td>A</td>\n      <td>51</td>\n      <td>51</td>\n      <td>Male</td>\n      <td>57800</td>\n    </tr>\n  </tbody>\n</table>\n</div>"
     },
     "metadata": {},
     "execution_count": 40
    }
   ],
   "source": [
    "#Display a few first records\n",
    "df.head(10)"
   ]
  },
  {
   "cell_type": "markdown",
   "metadata": {},
   "source": [
    "![image.png](img/dfAtributeS.PNG)"
   ]
  },
  {
   "cell_type": "code",
   "execution_count": 42,
   "metadata": {},
   "outputs": [
    {
     "output_type": "execute_result",
     "data": {
      "text/plain": [
       "rank          object\n",
       "discipline    object\n",
       "phd            int64\n",
       "service        int64\n",
       "sex           object\n",
       "salary         int64\n",
       "dtype: object"
      ]
     },
     "metadata": {},
     "execution_count": 42
    }
   ],
   "source": [
    "#Identify the type of df object\n",
    "df.dtypes"
   ]
  },
  {
   "cell_type": "code",
   "execution_count": 44,
   "metadata": {},
   "outputs": [
    {
     "output_type": "execute_result",
     "data": {
      "text/plain": [
       "dtype('int64')"
      ]
     },
     "metadata": {},
     "execution_count": 44
    }
   ],
   "source": [
    "#Check the type of a column \"salary\"\n",
    "df[\"salary\"].dtype\n"
   ]
  },
  {
   "cell_type": "code",
   "execution_count": 46,
   "metadata": {},
   "outputs": [],
   "source": [
    "#List the types of all columns\n"
   ]
  },
  {
   "cell_type": "code",
   "execution_count": 48,
   "metadata": {},
   "outputs": [
    {
     "output_type": "execute_result",
     "data": {
      "text/plain": [
       "Index(['rank', 'discipline', 'phd', 'service', 'sex', 'salary'], dtype='object')"
      ]
     },
     "metadata": {},
     "execution_count": 48
    }
   ],
   "source": [
    "#List the column names\n",
    "df.columns"
   ]
  },
  {
   "cell_type": "code",
   "execution_count": 50,
   "metadata": {},
   "outputs": [
    {
     "output_type": "execute_result",
     "data": {
      "text/plain": [
       "RangeIndex(start=0, stop=78, step=1)"
      ]
     },
     "metadata": {},
     "execution_count": 50
    }
   ],
   "source": [
    "#List the row labels and the column names\n",
    "df.index"
   ]
  },
  {
   "cell_type": "code",
   "execution_count": 52,
   "metadata": {},
   "outputs": [
    {
     "output_type": "execute_result",
     "data": {
      "text/plain": [
       "[RangeIndex(start=0, stop=78, step=1),\n",
       " Index(['rank', 'discipline', 'phd', 'service', 'sex', 'salary'], dtype='object')]"
      ]
     },
     "metadata": {},
     "execution_count": 52
    }
   ],
   "source": [
    "df.axes"
   ]
  },
  {
   "cell_type": "code",
   "execution_count": 54,
   "metadata": {},
   "outputs": [
    {
     "output_type": "execute_result",
     "data": {
      "text/plain": [
       "2"
      ]
     },
     "metadata": {},
     "execution_count": 54
    }
   ],
   "source": [
    "#Number of dimensions\n",
    "df.ndim"
   ]
  },
  {
   "cell_type": "code",
   "execution_count": 56,
   "metadata": {},
   "outputs": [
    {
     "output_type": "execute_result",
     "data": {
      "text/plain": [
       "468"
      ]
     },
     "metadata": {},
     "execution_count": 56
    }
   ],
   "source": [
    "#Total number of elements in the Data Frame\n",
    "df.size"
   ]
  },
  {
   "cell_type": "code",
   "execution_count": 58,
   "metadata": {},
   "outputs": [
    {
     "output_type": "execute_result",
     "data": {
      "text/plain": [
       "(78, 6)"
      ]
     },
     "metadata": {},
     "execution_count": 58
    }
   ],
   "source": [
    "#Number of rows and columns\n",
    "df.shape"
   ]
  },
  {
   "cell_type": "markdown",
   "metadata": {},
   "source": [
    "![image.png](img/dfMethods.PNG)"
   ]
  },
  {
   "cell_type": "code",
   "execution_count": 60,
   "metadata": {},
   "outputs": [
    {
     "output_type": "execute_result",
     "data": {
      "text/plain": [
       "             phd    service         salary\n",
       "count  78.000000  78.000000      78.000000\n",
       "mean   19.705128  15.051282  108023.782051\n",
       "std    12.498425  12.139768   28293.661022\n",
       "min     1.000000   0.000000   57800.000000\n",
       "25%    10.250000   5.250000   88612.500000\n",
       "50%    18.500000  14.500000  104671.000000\n",
       "75%    27.750000  20.750000  126774.750000\n",
       "max    56.000000  51.000000  186960.000000"
      ],
      "text/html": "<div>\n<style scoped>\n    .dataframe tbody tr th:only-of-type {\n        vertical-align: middle;\n    }\n\n    .dataframe tbody tr th {\n        vertical-align: top;\n    }\n\n    .dataframe thead th {\n        text-align: right;\n    }\n</style>\n<table border=\"1\" class=\"dataframe\">\n  <thead>\n    <tr style=\"text-align: right;\">\n      <th></th>\n      <th>phd</th>\n      <th>service</th>\n      <th>salary</th>\n    </tr>\n  </thead>\n  <tbody>\n    <tr>\n      <th>count</th>\n      <td>78.000000</td>\n      <td>78.000000</td>\n      <td>78.000000</td>\n    </tr>\n    <tr>\n      <th>mean</th>\n      <td>19.705128</td>\n      <td>15.051282</td>\n      <td>108023.782051</td>\n    </tr>\n    <tr>\n      <th>std</th>\n      <td>12.498425</td>\n      <td>12.139768</td>\n      <td>28293.661022</td>\n    </tr>\n    <tr>\n      <th>min</th>\n      <td>1.000000</td>\n      <td>0.000000</td>\n      <td>57800.000000</td>\n    </tr>\n    <tr>\n      <th>25%</th>\n      <td>10.250000</td>\n      <td>5.250000</td>\n      <td>88612.500000</td>\n    </tr>\n    <tr>\n      <th>50%</th>\n      <td>18.500000</td>\n      <td>14.500000</td>\n      <td>104671.000000</td>\n    </tr>\n    <tr>\n      <th>75%</th>\n      <td>27.750000</td>\n      <td>20.750000</td>\n      <td>126774.750000</td>\n    </tr>\n    <tr>\n      <th>max</th>\n      <td>56.000000</td>\n      <td>51.000000</td>\n      <td>186960.000000</td>\n    </tr>\n  </tbody>\n</table>\n</div>"
     },
     "metadata": {},
     "execution_count": 60
    }
   ],
   "source": [
    "#Output basic statistics for the numeric columns\n",
    "df.describe()\n"
   ]
  },
  {
   "cell_type": "code",
   "execution_count": 62,
   "metadata": {},
   "outputs": [
    {
     "output_type": "execute_result",
     "data": {
      "text/plain": [
       "phd            19.705128\n",
       "service        15.051282\n",
       "salary     108023.782051\n",
       "dtype: float64"
      ]
     },
     "metadata": {},
     "execution_count": 62
    }
   ],
   "source": [
    "#Calculate mean for all numeric columns\n",
    "df.mean()"
   ]
  },
  {
   "cell_type": "markdown",
   "metadata": {},
   "source": [
    "---\n",
    "*Exercise* "
   ]
  },
  {
   "cell_type": "code",
   "execution_count": 64,
   "metadata": {},
   "outputs": [
    {
     "output_type": "execute_result",
     "data": {
      "text/plain": [
       "         rank discipline  phd  service   sex  salary\n",
       "0        Prof          B   56       49  Male  186960\n",
       "1        Prof          A   12        6  Male   93000\n",
       "2        Prof          A   23       20  Male  110515\n",
       "3        Prof          A   40       31  Male  131205\n",
       "4        Prof          B   20       18  Male  104800\n",
       "5        Prof          A   20       20  Male  122400\n",
       "6   AssocProf          A   20       17  Male   81285\n",
       "7        Prof          A   18       18  Male  126300\n",
       "8        Prof          A   29       19  Male   94350\n",
       "9        Prof          A   51       51  Male   57800\n",
       "10       Prof          B   39       33  Male  128250\n",
       "11       Prof          B   23       23  Male  134778\n",
       "12   AsstProf          B    1        0  Male   88000\n",
       "13       Prof          B   35       33  Male  162200\n",
       "14       Prof          B   25       19  Male  153750\n",
       "15       Prof          B   17        3  Male  150480\n",
       "16   AsstProf          B    8        3  Male   75044\n",
       "17   AsstProf          B    4        0  Male   92000\n",
       "18       Prof          A   19        7  Male  107300\n",
       "19       Prof          A   29       27  Male  150500"
      ],
      "text/html": "<div>\n<style scoped>\n    .dataframe tbody tr th:only-of-type {\n        vertical-align: middle;\n    }\n\n    .dataframe tbody tr th {\n        vertical-align: top;\n    }\n\n    .dataframe thead th {\n        text-align: right;\n    }\n</style>\n<table border=\"1\" class=\"dataframe\">\n  <thead>\n    <tr style=\"text-align: right;\">\n      <th></th>\n      <th>rank</th>\n      <th>discipline</th>\n      <th>phd</th>\n      <th>service</th>\n      <th>sex</th>\n      <th>salary</th>\n    </tr>\n  </thead>\n  <tbody>\n    <tr>\n      <th>0</th>\n      <td>Prof</td>\n      <td>B</td>\n      <td>56</td>\n      <td>49</td>\n      <td>Male</td>\n      <td>186960</td>\n    </tr>\n    <tr>\n      <th>1</th>\n      <td>Prof</td>\n      <td>A</td>\n      <td>12</td>\n      <td>6</td>\n      <td>Male</td>\n      <td>93000</td>\n    </tr>\n    <tr>\n      <th>2</th>\n      <td>Prof</td>\n      <td>A</td>\n      <td>23</td>\n      <td>20</td>\n      <td>Male</td>\n      <td>110515</td>\n    </tr>\n    <tr>\n      <th>3</th>\n      <td>Prof</td>\n      <td>A</td>\n      <td>40</td>\n      <td>31</td>\n      <td>Male</td>\n      <td>131205</td>\n    </tr>\n    <tr>\n      <th>4</th>\n      <td>Prof</td>\n      <td>B</td>\n      <td>20</td>\n      <td>18</td>\n      <td>Male</td>\n      <td>104800</td>\n    </tr>\n    <tr>\n      <th>5</th>\n      <td>Prof</td>\n      <td>A</td>\n      <td>20</td>\n      <td>20</td>\n      <td>Male</td>\n      <td>122400</td>\n    </tr>\n    <tr>\n      <th>6</th>\n      <td>AssocProf</td>\n      <td>A</td>\n      <td>20</td>\n      <td>17</td>\n      <td>Male</td>\n      <td>81285</td>\n    </tr>\n    <tr>\n      <th>7</th>\n      <td>Prof</td>\n      <td>A</td>\n      <td>18</td>\n      <td>18</td>\n      <td>Male</td>\n      <td>126300</td>\n    </tr>\n    <tr>\n      <th>8</th>\n      <td>Prof</td>\n      <td>A</td>\n      <td>29</td>\n      <td>19</td>\n      <td>Male</td>\n      <td>94350</td>\n    </tr>\n    <tr>\n      <th>9</th>\n      <td>Prof</td>\n      <td>A</td>\n      <td>51</td>\n      <td>51</td>\n      <td>Male</td>\n      <td>57800</td>\n    </tr>\n    <tr>\n      <th>10</th>\n      <td>Prof</td>\n      <td>B</td>\n      <td>39</td>\n      <td>33</td>\n      <td>Male</td>\n      <td>128250</td>\n    </tr>\n    <tr>\n      <th>11</th>\n      <td>Prof</td>\n      <td>B</td>\n      <td>23</td>\n      <td>23</td>\n      <td>Male</td>\n      <td>134778</td>\n    </tr>\n    <tr>\n      <th>12</th>\n      <td>AsstProf</td>\n      <td>B</td>\n      <td>1</td>\n      <td>0</td>\n      <td>Male</td>\n      <td>88000</td>\n    </tr>\n    <tr>\n      <th>13</th>\n      <td>Prof</td>\n      <td>B</td>\n      <td>35</td>\n      <td>33</td>\n      <td>Male</td>\n      <td>162200</td>\n    </tr>\n    <tr>\n      <th>14</th>\n      <td>Prof</td>\n      <td>B</td>\n      <td>25</td>\n      <td>19</td>\n      <td>Male</td>\n      <td>153750</td>\n    </tr>\n    <tr>\n      <th>15</th>\n      <td>Prof</td>\n      <td>B</td>\n      <td>17</td>\n      <td>3</td>\n      <td>Male</td>\n      <td>150480</td>\n    </tr>\n    <tr>\n      <th>16</th>\n      <td>AsstProf</td>\n      <td>B</td>\n      <td>8</td>\n      <td>3</td>\n      <td>Male</td>\n      <td>75044</td>\n    </tr>\n    <tr>\n      <th>17</th>\n      <td>AsstProf</td>\n      <td>B</td>\n      <td>4</td>\n      <td>0</td>\n      <td>Male</td>\n      <td>92000</td>\n    </tr>\n    <tr>\n      <th>18</th>\n      <td>Prof</td>\n      <td>A</td>\n      <td>19</td>\n      <td>7</td>\n      <td>Male</td>\n      <td>107300</td>\n    </tr>\n    <tr>\n      <th>19</th>\n      <td>Prof</td>\n      <td>A</td>\n      <td>29</td>\n      <td>27</td>\n      <td>Male</td>\n      <td>150500</td>\n    </tr>\n  </tbody>\n</table>\n</div>"
     },
     "metadata": {},
     "execution_count": 64
    }
   ],
   "source": [
    "#Display first 20 records\n",
    "# <your code goes here>\n",
    "df.head(20)"
   ]
  },
  {
   "cell_type": "code",
   "execution_count": 66,
   "metadata": {},
   "outputs": [
    {
     "output_type": "execute_result",
     "data": {
      "text/plain": [
       "78"
      ]
     },
     "metadata": {},
     "execution_count": 66
    }
   ],
   "source": [
    "#Find how many records this data frame has;\n",
    "# <your code goes here>\n",
    "len(df)"
   ]
  },
  {
   "cell_type": "code",
   "execution_count": 68,
   "metadata": {},
   "outputs": [
    {
     "output_type": "execute_result",
     "data": {
      "text/plain": [
       "         rank discipline  phd  service     sex  salary\n",
       "73       Prof          B   18       10  Female  105450\n",
       "74  AssocProf          B   19        6  Female  104542\n",
       "75       Prof          B   17       17  Female  124312\n",
       "76       Prof          A   28       14  Female  109954\n",
       "77       Prof          A   23       15  Female  109646"
      ],
      "text/html": "<div>\n<style scoped>\n    .dataframe tbody tr th:only-of-type {\n        vertical-align: middle;\n    }\n\n    .dataframe tbody tr th {\n        vertical-align: top;\n    }\n\n    .dataframe thead th {\n        text-align: right;\n    }\n</style>\n<table border=\"1\" class=\"dataframe\">\n  <thead>\n    <tr style=\"text-align: right;\">\n      <th></th>\n      <th>rank</th>\n      <th>discipline</th>\n      <th>phd</th>\n      <th>service</th>\n      <th>sex</th>\n      <th>salary</th>\n    </tr>\n  </thead>\n  <tbody>\n    <tr>\n      <th>73</th>\n      <td>Prof</td>\n      <td>B</td>\n      <td>18</td>\n      <td>10</td>\n      <td>Female</td>\n      <td>105450</td>\n    </tr>\n    <tr>\n      <th>74</th>\n      <td>AssocProf</td>\n      <td>B</td>\n      <td>19</td>\n      <td>6</td>\n      <td>Female</td>\n      <td>104542</td>\n    </tr>\n    <tr>\n      <th>75</th>\n      <td>Prof</td>\n      <td>B</td>\n      <td>17</td>\n      <td>17</td>\n      <td>Female</td>\n      <td>124312</td>\n    </tr>\n    <tr>\n      <th>76</th>\n      <td>Prof</td>\n      <td>A</td>\n      <td>28</td>\n      <td>14</td>\n      <td>Female</td>\n      <td>109954</td>\n    </tr>\n    <tr>\n      <th>77</th>\n      <td>Prof</td>\n      <td>A</td>\n      <td>23</td>\n      <td>15</td>\n      <td>Female</td>\n      <td>109646</td>\n    </tr>\n  </tbody>\n</table>\n</div>"
     },
     "metadata": {},
     "execution_count": 68
    }
   ],
   "source": [
    "#Display the last 5 records\n",
    "# <your code goes here>\n",
    "df.tail(5)"
   ]
  },
  {
   "cell_type": "code",
   "execution_count": 70,
   "metadata": {},
   "outputs": [
    {
     "output_type": "execute_result",
     "data": {
      "text/plain": [
       "phd           12.498425\n",
       "service       12.139768\n",
       "salary     28293.661022\n",
       "dtype: float64"
      ]
     },
     "metadata": {},
     "execution_count": 70
    }
   ],
   "source": [
    "#Calculate the standard deviation (std() method) for all numeric columns\n",
    "# <your code goes here>\n",
    "df.std()"
   ]
  },
  {
   "cell_type": "code",
   "execution_count": 72,
   "metadata": {},
   "outputs": [
    {
     "output_type": "stream",
     "name": "stdout",
     "text": [
      "phd            21.52\nservice        17.60\nsalary     113789.14\ndtype: float64\n"
     ]
    }
   ],
   "source": [
    "#Calculate average of the columns in the first 50 rows\n",
    "# <your code goes here>\n",
    "print(df[:50].mean())"
   ]
  },
  {
   "cell_type": "markdown",
   "metadata": {
    "collapsed": true
   },
   "source": [
    "---\n",
    "### Data slicing and grouping"
   ]
  },
  {
   "cell_type": "code",
   "execution_count": 74,
   "metadata": {},
   "outputs": [
    {
     "output_type": "stream",
     "name": "stdout",
     "text": [
      "0       Male\n1       Male\n2       Male\n3       Male\n4       Male\n       ...  \n73    Female\n74    Female\n75    Female\n76    Female\n77    Female\nName: sex, Length: 78, dtype: object\n"
     ]
    },
    {
     "output_type": "execute_result",
     "data": {
      "text/plain": [
       "0       Male\n",
       "1       Male\n",
       "2       Male\n",
       "3       Male\n",
       "4       Male\n",
       "       ...  \n",
       "73    Female\n",
       "74    Female\n",
       "75    Female\n",
       "76    Female\n",
       "77    Female\n",
       "Name: sex, Length: 78, dtype: object"
      ]
     },
     "metadata": {},
     "execution_count": 74
    }
   ],
   "source": [
    "#Extract a column by name (method 1)\n",
    "print(df[\"sex\"])\n",
    "#o bien\n",
    "df.sex"
   ]
  },
  {
   "cell_type": "markdown",
   "metadata": {},
   "source": [
    "---\n",
    "*Exercise* "
   ]
  },
  {
   "cell_type": "markdown",
   "metadata": {},
   "source": [
    "---"
   ]
  },
  {
   "cell_type": "code",
   "execution_count": 76,
   "metadata": {},
   "outputs": [
    {
     "output_type": "execute_result",
     "data": {
      "text/plain": [
       "{'AssocProf', 'AsstProf', 'Prof'}"
      ]
     },
     "metadata": {},
     "execution_count": 76
    }
   ],
   "source": [
    "#Group data using rank\n",
    "#Importante\n",
    "set(df[\"rank\"])"
   ]
  },
  {
   "cell_type": "code",
   "execution_count": 78,
   "metadata": {},
   "outputs": [
    {
     "output_type": "execute_result",
     "data": {
      "text/plain": [
       "                 phd    service         salary\n",
       "rank                                          \n",
       "AssocProf  15.076923  11.307692   91786.230769\n",
       "AsstProf    5.052632   2.210526   81362.789474\n",
       "Prof       27.065217  21.413043  123624.804348"
      ],
      "text/html": "<div>\n<style scoped>\n    .dataframe tbody tr th:only-of-type {\n        vertical-align: middle;\n    }\n\n    .dataframe tbody tr th {\n        vertical-align: top;\n    }\n\n    .dataframe thead th {\n        text-align: right;\n    }\n</style>\n<table border=\"1\" class=\"dataframe\">\n  <thead>\n    <tr style=\"text-align: right;\">\n      <th></th>\n      <th>phd</th>\n      <th>service</th>\n      <th>salary</th>\n    </tr>\n    <tr>\n      <th>rank</th>\n      <th></th>\n      <th></th>\n      <th></th>\n    </tr>\n  </thead>\n  <tbody>\n    <tr>\n      <th>AssocProf</th>\n      <td>15.076923</td>\n      <td>11.307692</td>\n      <td>91786.230769</td>\n    </tr>\n    <tr>\n      <th>AsstProf</th>\n      <td>5.052632</td>\n      <td>2.210526</td>\n      <td>81362.789474</td>\n    </tr>\n    <tr>\n      <th>Prof</th>\n      <td>27.065217</td>\n      <td>21.413043</td>\n      <td>123624.804348</td>\n    </tr>\n  </tbody>\n</table>\n</div>"
     },
     "metadata": {},
     "execution_count": 78
    }
   ],
   "source": [
    "#Calculate mean of all numeric columns for the grouped object\n",
    "df.groupby([\"rank\"]).mean()"
   ]
  },
  {
   "cell_type": "code",
   "execution_count": 80,
   "metadata": {},
   "outputs": [
    {
     "output_type": "execute_result",
     "data": {
      "text/plain": [
       "              phd    service         salary\n",
       "sex                                        \n",
       "Female  16.512821  11.564103  101002.410256\n",
       "Male    22.897436  18.538462  115045.153846"
      ],
      "text/html": "<div>\n<style scoped>\n    .dataframe tbody tr th:only-of-type {\n        vertical-align: middle;\n    }\n\n    .dataframe tbody tr th {\n        vertical-align: top;\n    }\n\n    .dataframe thead th {\n        text-align: right;\n    }\n</style>\n<table border=\"1\" class=\"dataframe\">\n  <thead>\n    <tr style=\"text-align: right;\">\n      <th></th>\n      <th>phd</th>\n      <th>service</th>\n      <th>salary</th>\n    </tr>\n    <tr>\n      <th>sex</th>\n      <th></th>\n      <th></th>\n      <th></th>\n    </tr>\n  </thead>\n  <tbody>\n    <tr>\n      <th>Female</th>\n      <td>16.512821</td>\n      <td>11.564103</td>\n      <td>101002.410256</td>\n    </tr>\n    <tr>\n      <th>Male</th>\n      <td>22.897436</td>\n      <td>18.538462</td>\n      <td>115045.153846</td>\n    </tr>\n  </tbody>\n</table>\n</div>"
     },
     "metadata": {},
     "execution_count": 80
    }
   ],
   "source": [
    "df.groupby([\"sex\"]).mean()"
   ]
  },
  {
   "cell_type": "code",
   "execution_count": 82,
   "metadata": {},
   "outputs": [
    {
     "output_type": "execute_result",
     "data": {
      "text/plain": [
       "sex\n",
       "Female    101002.410256\n",
       "Male      115045.153846\n",
       "Name: salary, dtype: float64"
      ]
     },
     "metadata": {},
     "execution_count": 82
    }
   ],
   "source": [
    "#Calculate the mean salary for men and women. The following produce Pandas Series (single brackets around salary)\n",
    "df.groupby([\"sex\"])[\"salary\"].mean()"
   ]
  },
  {
   "cell_type": "code",
   "execution_count": 84,
   "metadata": {},
   "outputs": [
    {
     "output_type": "execute_result",
     "data": {
      "text/plain": [
       "               salary\n",
       "sex                  \n",
       "Female  101002.410256\n",
       "Male    115045.153846"
      ],
      "text/html": "<div>\n<style scoped>\n    .dataframe tbody tr th:only-of-type {\n        vertical-align: middle;\n    }\n\n    .dataframe tbody tr th {\n        vertical-align: top;\n    }\n\n    .dataframe thead th {\n        text-align: right;\n    }\n</style>\n<table border=\"1\" class=\"dataframe\">\n  <thead>\n    <tr style=\"text-align: right;\">\n      <th></th>\n      <th>salary</th>\n    </tr>\n    <tr>\n      <th>sex</th>\n      <th></th>\n    </tr>\n  </thead>\n  <tbody>\n    <tr>\n      <th>Female</th>\n      <td>101002.410256</td>\n    </tr>\n    <tr>\n      <th>Male</th>\n      <td>115045.153846</td>\n    </tr>\n  </tbody>\n</table>\n</div>"
     },
     "metadata": {},
     "execution_count": 84
    }
   ],
   "source": [
    "# If we use double brackets Pandas will produce a DataFrame\n",
    "df.groupby([\"sex\"])[[\"salary\"]].mean()"
   ]
  },
  {
   "cell_type": "code",
   "execution_count": 86,
   "metadata": {},
   "outputs": [
    {
     "output_type": "execute_result",
     "data": {
      "text/plain": [
       "                         salary\n",
       "rank      sex                  \n",
       "AssocProf Female   88512.800000\n",
       "          Male    102697.666667\n",
       "AsstProf  Female   78049.909091\n",
       "          Male     85918.000000\n",
       "Prof      Female  121967.611111\n",
       "          Male    124690.142857"
      ],
      "text/html": "<div>\n<style scoped>\n    .dataframe tbody tr th:only-of-type {\n        vertical-align: middle;\n    }\n\n    .dataframe tbody tr th {\n        vertical-align: top;\n    }\n\n    .dataframe thead th {\n        text-align: right;\n    }\n</style>\n<table border=\"1\" class=\"dataframe\">\n  <thead>\n    <tr style=\"text-align: right;\">\n      <th></th>\n      <th></th>\n      <th>salary</th>\n    </tr>\n    <tr>\n      <th>rank</th>\n      <th>sex</th>\n      <th></th>\n    </tr>\n  </thead>\n  <tbody>\n    <tr>\n      <th rowspan=\"2\" valign=\"top\">AssocProf</th>\n      <th>Female</th>\n      <td>88512.800000</td>\n    </tr>\n    <tr>\n      <th>Male</th>\n      <td>102697.666667</td>\n    </tr>\n    <tr>\n      <th rowspan=\"2\" valign=\"top\">AsstProf</th>\n      <th>Female</th>\n      <td>78049.909091</td>\n    </tr>\n    <tr>\n      <th>Male</th>\n      <td>85918.000000</td>\n    </tr>\n    <tr>\n      <th rowspan=\"2\" valign=\"top\">Prof</th>\n      <th>Female</th>\n      <td>121967.611111</td>\n    </tr>\n    <tr>\n      <th>Male</th>\n      <td>124690.142857</td>\n    </tr>\n  </tbody>\n</table>\n</div>"
     },
     "metadata": {},
     "execution_count": 86
    }
   ],
   "source": [
    "# Group using 2 variables - sex and rank:\n",
    "df.groupby([\"rank\",\"sex\"])[[\"salary\"]].mean()"
   ]
  },
  {
   "cell_type": "markdown",
   "metadata": {},
   "source": [
    "---\n",
    "*Exercise* "
   ]
  },
  {
   "cell_type": "code",
   "execution_count": 88,
   "metadata": {},
   "outputs": [],
   "source": [
    "#Calculate the basic statistics for the salary column (used describe() method)\n",
    "# <your code goes here>"
   ]
  },
  {
   "cell_type": "code",
   "execution_count": 90,
   "metadata": {},
   "outputs": [],
   "source": [
    "#Calculate how many values in the salary column (use count() method)\n",
    "# <your code goes here>\n"
   ]
  },
  {
   "cell_type": "code",
   "execution_count": 92,
   "metadata": {},
   "outputs": [],
   "source": [
    "# Group data by the discipline and find the average salary for each group"
   ]
  },
  {
   "cell_type": "markdown",
   "metadata": {},
   "source": [
    "---\n",
    "### Filtering"
   ]
  },
  {
   "cell_type": "code",
   "execution_count": 143,
   "metadata": {},
   "outputs": [
    {
     "output_type": "execute_result",
     "data": {
      "text/plain": [
       "    rank discipline  phd  service     sex  salary\n",
       "0   Prof          B   56       49    Male  186960\n",
       "3   Prof          A   40       31    Male  131205\n",
       "5   Prof          A   20       20    Male  122400\n",
       "7   Prof          A   18       18    Male  126300\n",
       "10  Prof          B   39       33    Male  128250\n",
       "11  Prof          B   23       23    Male  134778\n",
       "13  Prof          B   35       33    Male  162200\n",
       "14  Prof          B   25       19    Male  153750\n",
       "15  Prof          B   17        3    Male  150480\n",
       "19  Prof          A   29       27    Male  150500\n",
       "26  Prof          A   38       19    Male  148750\n",
       "27  Prof          A   45       43    Male  155865\n",
       "29  Prof          B   21       20    Male  123683\n",
       "31  Prof          B   22       21    Male  155750\n",
       "35  Prof          B   28       23    Male  126933\n",
       "36  Prof          B   45       45    Male  146856\n",
       "39  Prof          B   18       18  Female  129000\n",
       "40  Prof          A   39       36  Female  137000\n",
       "44  Prof          B   23       19  Female  151768\n",
       "45  Prof          B   25       25  Female  140096\n",
       "49  Prof          B   17       18  Female  122960\n",
       "51  Prof          B   20       14  Female  127512\n",
       "58  Prof          B   36       26  Female  144651\n",
       "72  Prof          B   24       15  Female  161101\n",
       "75  Prof          B   17       17  Female  124312"
      ],
      "text/html": "<div>\n<style scoped>\n    .dataframe tbody tr th:only-of-type {\n        vertical-align: middle;\n    }\n\n    .dataframe tbody tr th {\n        vertical-align: top;\n    }\n\n    .dataframe thead th {\n        text-align: right;\n    }\n</style>\n<table border=\"1\" class=\"dataframe\">\n  <thead>\n    <tr style=\"text-align: right;\">\n      <th></th>\n      <th>rank</th>\n      <th>discipline</th>\n      <th>phd</th>\n      <th>service</th>\n      <th>sex</th>\n      <th>salary</th>\n    </tr>\n  </thead>\n  <tbody>\n    <tr>\n      <th>0</th>\n      <td>Prof</td>\n      <td>B</td>\n      <td>56</td>\n      <td>49</td>\n      <td>Male</td>\n      <td>186960</td>\n    </tr>\n    <tr>\n      <th>3</th>\n      <td>Prof</td>\n      <td>A</td>\n      <td>40</td>\n      <td>31</td>\n      <td>Male</td>\n      <td>131205</td>\n    </tr>\n    <tr>\n      <th>5</th>\n      <td>Prof</td>\n      <td>A</td>\n      <td>20</td>\n      <td>20</td>\n      <td>Male</td>\n      <td>122400</td>\n    </tr>\n    <tr>\n      <th>7</th>\n      <td>Prof</td>\n      <td>A</td>\n      <td>18</td>\n      <td>18</td>\n      <td>Male</td>\n      <td>126300</td>\n    </tr>\n    <tr>\n      <th>10</th>\n      <td>Prof</td>\n      <td>B</td>\n      <td>39</td>\n      <td>33</td>\n      <td>Male</td>\n      <td>128250</td>\n    </tr>\n    <tr>\n      <th>11</th>\n      <td>Prof</td>\n      <td>B</td>\n      <td>23</td>\n      <td>23</td>\n      <td>Male</td>\n      <td>134778</td>\n    </tr>\n    <tr>\n      <th>13</th>\n      <td>Prof</td>\n      <td>B</td>\n      <td>35</td>\n      <td>33</td>\n      <td>Male</td>\n      <td>162200</td>\n    </tr>\n    <tr>\n      <th>14</th>\n      <td>Prof</td>\n      <td>B</td>\n      <td>25</td>\n      <td>19</td>\n      <td>Male</td>\n      <td>153750</td>\n    </tr>\n    <tr>\n      <th>15</th>\n      <td>Prof</td>\n      <td>B</td>\n      <td>17</td>\n      <td>3</td>\n      <td>Male</td>\n      <td>150480</td>\n    </tr>\n    <tr>\n      <th>19</th>\n      <td>Prof</td>\n      <td>A</td>\n      <td>29</td>\n      <td>27</td>\n      <td>Male</td>\n      <td>150500</td>\n    </tr>\n    <tr>\n      <th>26</th>\n      <td>Prof</td>\n      <td>A</td>\n      <td>38</td>\n      <td>19</td>\n      <td>Male</td>\n      <td>148750</td>\n    </tr>\n    <tr>\n      <th>27</th>\n      <td>Prof</td>\n      <td>A</td>\n      <td>45</td>\n      <td>43</td>\n      <td>Male</td>\n      <td>155865</td>\n    </tr>\n    <tr>\n      <th>29</th>\n      <td>Prof</td>\n      <td>B</td>\n      <td>21</td>\n      <td>20</td>\n      <td>Male</td>\n      <td>123683</td>\n    </tr>\n    <tr>\n      <th>31</th>\n      <td>Prof</td>\n      <td>B</td>\n      <td>22</td>\n      <td>21</td>\n      <td>Male</td>\n      <td>155750</td>\n    </tr>\n    <tr>\n      <th>35</th>\n      <td>Prof</td>\n      <td>B</td>\n      <td>28</td>\n      <td>23</td>\n      <td>Male</td>\n      <td>126933</td>\n    </tr>\n    <tr>\n      <th>36</th>\n      <td>Prof</td>\n      <td>B</td>\n      <td>45</td>\n      <td>45</td>\n      <td>Male</td>\n      <td>146856</td>\n    </tr>\n    <tr>\n      <th>39</th>\n      <td>Prof</td>\n      <td>B</td>\n      <td>18</td>\n      <td>18</td>\n      <td>Female</td>\n      <td>129000</td>\n    </tr>\n    <tr>\n      <th>40</th>\n      <td>Prof</td>\n      <td>A</td>\n      <td>39</td>\n      <td>36</td>\n      <td>Female</td>\n      <td>137000</td>\n    </tr>\n    <tr>\n      <th>44</th>\n      <td>Prof</td>\n      <td>B</td>\n      <td>23</td>\n      <td>19</td>\n      <td>Female</td>\n      <td>151768</td>\n    </tr>\n    <tr>\n      <th>45</th>\n      <td>Prof</td>\n      <td>B</td>\n      <td>25</td>\n      <td>25</td>\n      <td>Female</td>\n      <td>140096</td>\n    </tr>\n    <tr>\n      <th>49</th>\n      <td>Prof</td>\n      <td>B</td>\n      <td>17</td>\n      <td>18</td>\n      <td>Female</td>\n      <td>122960</td>\n    </tr>\n    <tr>\n      <th>51</th>\n      <td>Prof</td>\n      <td>B</td>\n      <td>20</td>\n      <td>14</td>\n      <td>Female</td>\n      <td>127512</td>\n    </tr>\n    <tr>\n      <th>58</th>\n      <td>Prof</td>\n      <td>B</td>\n      <td>36</td>\n      <td>26</td>\n      <td>Female</td>\n      <td>144651</td>\n    </tr>\n    <tr>\n      <th>72</th>\n      <td>Prof</td>\n      <td>B</td>\n      <td>24</td>\n      <td>15</td>\n      <td>Female</td>\n      <td>161101</td>\n    </tr>\n    <tr>\n      <th>75</th>\n      <td>Prof</td>\n      <td>B</td>\n      <td>17</td>\n      <td>17</td>\n      <td>Female</td>\n      <td>124312</td>\n    </tr>\n  </tbody>\n</table>\n</div>"
     },
     "metadata": {},
     "execution_count": 143
    }
   ],
   "source": [
    "#Select observation with the value in the salary column > 120K\n",
    "df[df[\"salary\"] > 120000]"
   ]
  },
  {
   "cell_type": "code",
   "execution_count": 140,
   "metadata": {},
   "outputs": [
    {
     "output_type": "execute_result",
     "data": {
      "text/plain": [
       "         rank discipline\n",
       "0        Prof          B\n",
       "1        Prof          A\n",
       "2        Prof          A\n",
       "3        Prof          A\n",
       "4        Prof          B\n",
       "..        ...        ...\n",
       "73       Prof          B\n",
       "74  AssocProf          B\n",
       "75       Prof          B\n",
       "76       Prof          A\n",
       "77       Prof          A\n",
       "\n",
       "[78 rows x 2 columns]"
      ],
      "text/html": "<div>\n<style scoped>\n    .dataframe tbody tr th:only-of-type {\n        vertical-align: middle;\n    }\n\n    .dataframe tbody tr th {\n        vertical-align: top;\n    }\n\n    .dataframe thead th {\n        text-align: right;\n    }\n</style>\n<table border=\"1\" class=\"dataframe\">\n  <thead>\n    <tr style=\"text-align: right;\">\n      <th></th>\n      <th>rank</th>\n      <th>discipline</th>\n    </tr>\n  </thead>\n  <tbody>\n    <tr>\n      <th>0</th>\n      <td>Prof</td>\n      <td>B</td>\n    </tr>\n    <tr>\n      <th>1</th>\n      <td>Prof</td>\n      <td>A</td>\n    </tr>\n    <tr>\n      <th>2</th>\n      <td>Prof</td>\n      <td>A</td>\n    </tr>\n    <tr>\n      <th>3</th>\n      <td>Prof</td>\n      <td>A</td>\n    </tr>\n    <tr>\n      <th>4</th>\n      <td>Prof</td>\n      <td>B</td>\n    </tr>\n    <tr>\n      <th>...</th>\n      <td>...</td>\n      <td>...</td>\n    </tr>\n    <tr>\n      <th>73</th>\n      <td>Prof</td>\n      <td>B</td>\n    </tr>\n    <tr>\n      <th>74</th>\n      <td>AssocProf</td>\n      <td>B</td>\n    </tr>\n    <tr>\n      <th>75</th>\n      <td>Prof</td>\n      <td>B</td>\n    </tr>\n    <tr>\n      <th>76</th>\n      <td>Prof</td>\n      <td>A</td>\n    </tr>\n    <tr>\n      <th>77</th>\n      <td>Prof</td>\n      <td>A</td>\n    </tr>\n  </tbody>\n</table>\n<p>78 rows × 2 columns</p>\n</div>"
     },
     "metadata": {},
     "execution_count": 140
    }
   ],
   "source": [
    "df.loc[df[\"salary\"] > 20000, [\"rank\", \"discipline\"]]"
   ]
  },
  {
   "cell_type": "code",
   "execution_count": 96,
   "metadata": {},
   "outputs": [],
   "source": [
    "#Select data for female professors\n"
   ]
  },
  {
   "cell_type": "markdown",
   "metadata": {},
   "source": [
    "---\n",
    "### More on slicing the dataset"
   ]
  },
  {
   "cell_type": "code",
   "execution_count": 98,
   "metadata": {
    "scrolled": true
   },
   "outputs": [],
   "source": [
    "#Select column salary\n"
   ]
  },
  {
   "cell_type": "code",
   "execution_count": 100,
   "metadata": {},
   "outputs": [],
   "source": [
    "#Check data type of the result\n"
   ]
  },
  {
   "cell_type": "code",
   "execution_count": 102,
   "metadata": {},
   "outputs": [],
   "source": [
    "#Look at the first few elements of the output\n"
   ]
  },
  {
   "cell_type": "code",
   "execution_count": 104,
   "metadata": {},
   "outputs": [],
   "source": [
    "#Select column salary and make the output to be a data frame\n"
   ]
  },
  {
   "cell_type": "code",
   "execution_count": 106,
   "metadata": {},
   "outputs": [],
   "source": [
    "#Check the type\n"
   ]
  },
  {
   "cell_type": "code",
   "execution_count": 108,
   "metadata": {},
   "outputs": [],
   "source": [
    "#Select a subset of rows (based on their position):\n",
    "# Note 1: The location of the first row is 0\n",
    "# Note 2: The last value in the range is not included\n"
   ]
  },
  {
   "cell_type": "code",
   "execution_count": 110,
   "metadata": {},
   "outputs": [],
   "source": [
    "#If we want to select both rows and columns we can use method .loc\n"
   ]
  },
  {
   "cell_type": "code",
   "execution_count": 86,
   "metadata": {},
   "outputs": [
    {
     "data": {
      "text/html": [
       "<div>\n",
       "<style scoped>\n",
       "    .dataframe tbody tr th:only-of-type {\n",
       "        vertical-align: middle;\n",
       "    }\n",
       "\n",
       "    .dataframe tbody tr th {\n",
       "        vertical-align: top;\n",
       "    }\n",
       "\n",
       "    .dataframe thead th {\n",
       "        text-align: right;\n",
       "    }\n",
       "</style>\n",
       "<table border=\"1\" class=\"dataframe\">\n",
       "  <thead>\n",
       "    <tr style=\"text-align: right;\">\n",
       "      <th></th>\n",
       "      <th>salary</th>\n",
       "    </tr>\n",
       "  </thead>\n",
       "  <tbody>\n",
       "    <tr>\n",
       "      <th>1</th>\n",
       "      <td>93000</td>\n",
       "    </tr>\n",
       "    <tr>\n",
       "      <th>2</th>\n",
       "      <td>110515</td>\n",
       "    </tr>\n",
       "    <tr>\n",
       "      <th>3</th>\n",
       "      <td>131205</td>\n",
       "    </tr>\n",
       "    <tr>\n",
       "      <th>4</th>\n",
       "      <td>104800</td>\n",
       "    </tr>\n",
       "    <tr>\n",
       "      <th>5</th>\n",
       "      <td>122400</td>\n",
       "    </tr>\n",
       "    <tr>\n",
       "      <th>6</th>\n",
       "      <td>81285</td>\n",
       "    </tr>\n",
       "    <tr>\n",
       "      <th>7</th>\n",
       "      <td>126300</td>\n",
       "    </tr>\n",
       "    <tr>\n",
       "      <th>8</th>\n",
       "      <td>94350</td>\n",
       "    </tr>\n",
       "    <tr>\n",
       "      <th>9</th>\n",
       "      <td>57800</td>\n",
       "    </tr>\n",
       "    <tr>\n",
       "      <th>10</th>\n",
       "      <td>128250</td>\n",
       "    </tr>\n",
       "  </tbody>\n",
       "</table>\n",
       "</div>"
      ],
      "text/plain": [
       "    salary\n",
       "1    93000\n",
       "2   110515\n",
       "3   131205\n",
       "4   104800\n",
       "5   122400\n",
       "6    81285\n",
       "7   126300\n",
       "8    94350\n",
       "9    57800\n",
       "10  128250"
      ]
     },
     "execution_count": 86,
     "metadata": {},
     "output_type": "execute_result"
    }
   ],
   "source": []
  },
  {
   "cell_type": "code",
   "execution_count": 112,
   "metadata": {},
   "outputs": [],
   "source": [
    "#Let's see what we get for our df_sub data frame\n",
    "# Method .loc subset the data frame based on the labels:\n"
   ]
  },
  {
   "cell_type": "code",
   "execution_count": 145,
   "metadata": {},
   "outputs": [
    {
     "output_type": "execute_result",
     "data": {
      "text/plain": [
       "   rank discipline  phd\n",
       "0  Prof          B   56\n",
       "1  Prof          A   12\n",
       "2  Prof          A   23\n",
       "3  Prof          A   40\n",
       "4  Prof          B   20"
      ],
      "text/html": "<div>\n<style scoped>\n    .dataframe tbody tr th:only-of-type {\n        vertical-align: middle;\n    }\n\n    .dataframe tbody tr th {\n        vertical-align: top;\n    }\n\n    .dataframe thead th {\n        text-align: right;\n    }\n</style>\n<table border=\"1\" class=\"dataframe\">\n  <thead>\n    <tr style=\"text-align: right;\">\n      <th></th>\n      <th>rank</th>\n      <th>discipline</th>\n      <th>phd</th>\n    </tr>\n  </thead>\n  <tbody>\n    <tr>\n      <th>0</th>\n      <td>Prof</td>\n      <td>B</td>\n      <td>56</td>\n    </tr>\n    <tr>\n      <th>1</th>\n      <td>Prof</td>\n      <td>A</td>\n      <td>12</td>\n    </tr>\n    <tr>\n      <th>2</th>\n      <td>Prof</td>\n      <td>A</td>\n      <td>23</td>\n    </tr>\n    <tr>\n      <th>3</th>\n      <td>Prof</td>\n      <td>A</td>\n      <td>40</td>\n    </tr>\n    <tr>\n      <th>4</th>\n      <td>Prof</td>\n      <td>B</td>\n      <td>20</td>\n    </tr>\n  </tbody>\n</table>\n</div>"
     },
     "metadata": {},
     "execution_count": 145
    }
   ],
   "source": [
    "#  Unlike method .loc, method iloc selects rows (and columns) by poistion:\n",
    "df.iloc[0:5, 0:3] #Nos deja elegir en base a dos indices"
   ]
  },
  {
   "cell_type": "markdown",
   "metadata": {},
   "source": [
    "### Sorting the Data"
   ]
  },
  {
   "cell_type": "code",
   "execution_count": 150,
   "metadata": {},
   "outputs": [
    {
     "output_type": "execute_result",
     "data": {
      "text/plain": [
       "        rank discipline  phd  service     sex  salary\n",
       "0       Prof          B   56       49    Male  186960\n",
       "9       Prof          A   51       51    Male   57800\n",
       "27      Prof          A   45       43    Male  155865\n",
       "36      Prof          B   45       45    Male  146856\n",
       "3       Prof          A   40       31    Male  131205\n",
       "..       ...        ...  ...      ...     ...     ...\n",
       "57  AsstProf          A    3        1  Female   72500\n",
       "60  AsstProf          B    3        3  Female   92000\n",
       "23  AsstProf          A    2        0    Male   85000\n",
       "55  AsstProf          A    2        0  Female   72500\n",
       "12  AsstProf          B    1        0    Male   88000\n",
       "\n",
       "[78 rows x 6 columns]"
      ],
      "text/html": "<div>\n<style scoped>\n    .dataframe tbody tr th:only-of-type {\n        vertical-align: middle;\n    }\n\n    .dataframe tbody tr th {\n        vertical-align: top;\n    }\n\n    .dataframe thead th {\n        text-align: right;\n    }\n</style>\n<table border=\"1\" class=\"dataframe\">\n  <thead>\n    <tr style=\"text-align: right;\">\n      <th></th>\n      <th>rank</th>\n      <th>discipline</th>\n      <th>phd</th>\n      <th>service</th>\n      <th>sex</th>\n      <th>salary</th>\n    </tr>\n  </thead>\n  <tbody>\n    <tr>\n      <th>0</th>\n      <td>Prof</td>\n      <td>B</td>\n      <td>56</td>\n      <td>49</td>\n      <td>Male</td>\n      <td>186960</td>\n    </tr>\n    <tr>\n      <th>9</th>\n      <td>Prof</td>\n      <td>A</td>\n      <td>51</td>\n      <td>51</td>\n      <td>Male</td>\n      <td>57800</td>\n    </tr>\n    <tr>\n      <th>27</th>\n      <td>Prof</td>\n      <td>A</td>\n      <td>45</td>\n      <td>43</td>\n      <td>Male</td>\n      <td>155865</td>\n    </tr>\n    <tr>\n      <th>36</th>\n      <td>Prof</td>\n      <td>B</td>\n      <td>45</td>\n      <td>45</td>\n      <td>Male</td>\n      <td>146856</td>\n    </tr>\n    <tr>\n      <th>3</th>\n      <td>Prof</td>\n      <td>A</td>\n      <td>40</td>\n      <td>31</td>\n      <td>Male</td>\n      <td>131205</td>\n    </tr>\n    <tr>\n      <th>...</th>\n      <td>...</td>\n      <td>...</td>\n      <td>...</td>\n      <td>...</td>\n      <td>...</td>\n      <td>...</td>\n    </tr>\n    <tr>\n      <th>57</th>\n      <td>AsstProf</td>\n      <td>A</td>\n      <td>3</td>\n      <td>1</td>\n      <td>Female</td>\n      <td>72500</td>\n    </tr>\n    <tr>\n      <th>60</th>\n      <td>AsstProf</td>\n      <td>B</td>\n      <td>3</td>\n      <td>3</td>\n      <td>Female</td>\n      <td>92000</td>\n    </tr>\n    <tr>\n      <th>23</th>\n      <td>AsstProf</td>\n      <td>A</td>\n      <td>2</td>\n      <td>0</td>\n      <td>Male</td>\n      <td>85000</td>\n    </tr>\n    <tr>\n      <th>55</th>\n      <td>AsstProf</td>\n      <td>A</td>\n      <td>2</td>\n      <td>0</td>\n      <td>Female</td>\n      <td>72500</td>\n    </tr>\n    <tr>\n      <th>12</th>\n      <td>AsstProf</td>\n      <td>B</td>\n      <td>1</td>\n      <td>0</td>\n      <td>Male</td>\n      <td>88000</td>\n    </tr>\n  </tbody>\n</table>\n<p>78 rows × 6 columns</p>\n</div>"
     },
     "metadata": {},
     "execution_count": 150
    }
   ],
   "source": [
    "#Sort the data frame by yrs.service and create a new data frame\n",
    "df.sort_values([\"phd\", \"discipline\"], ascending=[False, True])"
   ]
  },
  {
   "cell_type": "code",
   "execution_count": 153,
   "metadata": {},
   "outputs": [
    {
     "output_type": "execute_result",
     "data": {
      "text/plain": [
       "        rank discipline  phd  service     sex  salary\n",
       "12  AsstProf          B    1        0    Male   88000\n",
       "60  AsstProf          B    3        3  Female   92000\n",
       "17  AsstProf          B    4        0    Male   92000\n",
       "20  AsstProf          B    4        4    Male   92000\n",
       "38  AsstProf          B    4        3    Male   91000\n",
       "..       ...        ...  ...      ...     ...     ...\n",
       "26      Prof          A   38       19    Male  148750\n",
       "40      Prof          A   39       36  Female  137000\n",
       "3       Prof          A   40       31    Male  131205\n",
       "27      Prof          A   45       43    Male  155865\n",
       "9       Prof          A   51       51    Male   57800\n",
       "\n",
       "[78 rows x 6 columns]"
      ],
      "text/html": "<div>\n<style scoped>\n    .dataframe tbody tr th:only-of-type {\n        vertical-align: middle;\n    }\n\n    .dataframe tbody tr th {\n        vertical-align: top;\n    }\n\n    .dataframe thead th {\n        text-align: right;\n    }\n</style>\n<table border=\"1\" class=\"dataframe\">\n  <thead>\n    <tr style=\"text-align: right;\">\n      <th></th>\n      <th>rank</th>\n      <th>discipline</th>\n      <th>phd</th>\n      <th>service</th>\n      <th>sex</th>\n      <th>salary</th>\n    </tr>\n  </thead>\n  <tbody>\n    <tr>\n      <th>12</th>\n      <td>AsstProf</td>\n      <td>B</td>\n      <td>1</td>\n      <td>0</td>\n      <td>Male</td>\n      <td>88000</td>\n    </tr>\n    <tr>\n      <th>60</th>\n      <td>AsstProf</td>\n      <td>B</td>\n      <td>3</td>\n      <td>3</td>\n      <td>Female</td>\n      <td>92000</td>\n    </tr>\n    <tr>\n      <th>17</th>\n      <td>AsstProf</td>\n      <td>B</td>\n      <td>4</td>\n      <td>0</td>\n      <td>Male</td>\n      <td>92000</td>\n    </tr>\n    <tr>\n      <th>20</th>\n      <td>AsstProf</td>\n      <td>B</td>\n      <td>4</td>\n      <td>4</td>\n      <td>Male</td>\n      <td>92000</td>\n    </tr>\n    <tr>\n      <th>38</th>\n      <td>AsstProf</td>\n      <td>B</td>\n      <td>4</td>\n      <td>3</td>\n      <td>Male</td>\n      <td>91000</td>\n    </tr>\n    <tr>\n      <th>...</th>\n      <td>...</td>\n      <td>...</td>\n      <td>...</td>\n      <td>...</td>\n      <td>...</td>\n      <td>...</td>\n    </tr>\n    <tr>\n      <th>26</th>\n      <td>Prof</td>\n      <td>A</td>\n      <td>38</td>\n      <td>19</td>\n      <td>Male</td>\n      <td>148750</td>\n    </tr>\n    <tr>\n      <th>40</th>\n      <td>Prof</td>\n      <td>A</td>\n      <td>39</td>\n      <td>36</td>\n      <td>Female</td>\n      <td>137000</td>\n    </tr>\n    <tr>\n      <th>3</th>\n      <td>Prof</td>\n      <td>A</td>\n      <td>40</td>\n      <td>31</td>\n      <td>Male</td>\n      <td>131205</td>\n    </tr>\n    <tr>\n      <th>27</th>\n      <td>Prof</td>\n      <td>A</td>\n      <td>45</td>\n      <td>43</td>\n      <td>Male</td>\n      <td>155865</td>\n    </tr>\n    <tr>\n      <th>9</th>\n      <td>Prof</td>\n      <td>A</td>\n      <td>51</td>\n      <td>51</td>\n      <td>Male</td>\n      <td>57800</td>\n    </tr>\n  </tbody>\n</table>\n<p>78 rows × 6 columns</p>\n</div>"
     },
     "metadata": {},
     "execution_count": 153
    }
   ],
   "source": [
    "#Sort the data frame by yrs.service and overwrite the original dataset\n",
    "df.sort_values([\"discipline\",\"phd\"], ascending=[False, True], inplace=True) #El inplace true nos cambia el df original\n",
    "df"
   ]
  },
  {
   "cell_type": "code",
   "execution_count": 155,
   "metadata": {},
   "outputs": [
    {
     "output_type": "execute_result",
     "data": {
      "text/plain": [
       "         rank discipline  phd  service     sex  salary\n",
       "0        Prof          B   56       49    Male  186960\n",
       "1        Prof          A   12        6    Male   93000\n",
       "2        Prof          A   23       20    Male  110515\n",
       "3        Prof          A   40       31    Male  131205\n",
       "4        Prof          B   20       18    Male  104800\n",
       "..        ...        ...  ...      ...     ...     ...\n",
       "73       Prof          B   18       10  Female  105450\n",
       "74  AssocProf          B   19        6  Female  104542\n",
       "75       Prof          B   17       17  Female  124312\n",
       "76       Prof          A   28       14  Female  109954\n",
       "77       Prof          A   23       15  Female  109646\n",
       "\n",
       "[78 rows x 6 columns]"
      ],
      "text/html": "<div>\n<style scoped>\n    .dataframe tbody tr th:only-of-type {\n        vertical-align: middle;\n    }\n\n    .dataframe tbody tr th {\n        vertical-align: top;\n    }\n\n    .dataframe thead th {\n        text-align: right;\n    }\n</style>\n<table border=\"1\" class=\"dataframe\">\n  <thead>\n    <tr style=\"text-align: right;\">\n      <th></th>\n      <th>rank</th>\n      <th>discipline</th>\n      <th>phd</th>\n      <th>service</th>\n      <th>sex</th>\n      <th>salary</th>\n    </tr>\n  </thead>\n  <tbody>\n    <tr>\n      <th>0</th>\n      <td>Prof</td>\n      <td>B</td>\n      <td>56</td>\n      <td>49</td>\n      <td>Male</td>\n      <td>186960</td>\n    </tr>\n    <tr>\n      <th>1</th>\n      <td>Prof</td>\n      <td>A</td>\n      <td>12</td>\n      <td>6</td>\n      <td>Male</td>\n      <td>93000</td>\n    </tr>\n    <tr>\n      <th>2</th>\n      <td>Prof</td>\n      <td>A</td>\n      <td>23</td>\n      <td>20</td>\n      <td>Male</td>\n      <td>110515</td>\n    </tr>\n    <tr>\n      <th>3</th>\n      <td>Prof</td>\n      <td>A</td>\n      <td>40</td>\n      <td>31</td>\n      <td>Male</td>\n      <td>131205</td>\n    </tr>\n    <tr>\n      <th>4</th>\n      <td>Prof</td>\n      <td>B</td>\n      <td>20</td>\n      <td>18</td>\n      <td>Male</td>\n      <td>104800</td>\n    </tr>\n    <tr>\n      <th>...</th>\n      <td>...</td>\n      <td>...</td>\n      <td>...</td>\n      <td>...</td>\n      <td>...</td>\n      <td>...</td>\n    </tr>\n    <tr>\n      <th>73</th>\n      <td>Prof</td>\n      <td>B</td>\n      <td>18</td>\n      <td>10</td>\n      <td>Female</td>\n      <td>105450</td>\n    </tr>\n    <tr>\n      <th>74</th>\n      <td>AssocProf</td>\n      <td>B</td>\n      <td>19</td>\n      <td>6</td>\n      <td>Female</td>\n      <td>104542</td>\n    </tr>\n    <tr>\n      <th>75</th>\n      <td>Prof</td>\n      <td>B</td>\n      <td>17</td>\n      <td>17</td>\n      <td>Female</td>\n      <td>124312</td>\n    </tr>\n    <tr>\n      <th>76</th>\n      <td>Prof</td>\n      <td>A</td>\n      <td>28</td>\n      <td>14</td>\n      <td>Female</td>\n      <td>109954</td>\n    </tr>\n    <tr>\n      <th>77</th>\n      <td>Prof</td>\n      <td>A</td>\n      <td>23</td>\n      <td>15</td>\n      <td>Female</td>\n      <td>109646</td>\n    </tr>\n  </tbody>\n</table>\n<p>78 rows × 6 columns</p>\n</div>"
     },
     "metadata": {},
     "execution_count": 155
    }
   ],
   "source": [
    "# Restore the original order (by sorting using index)\n",
    "df.sort_index(inplace=True)\n",
    "df"
   ]
  },
  {
   "cell_type": "markdown",
   "metadata": {},
   "source": [
    "---\n",
    "*Exercise* "
   ]
  },
  {
   "cell_type": "code",
   "execution_count": 159,
   "metadata": {},
   "outputs": [
    {
     "output_type": "execute_result",
     "data": {
      "text/plain": [
       "phd           21.527778\n",
       "service       15.722222\n",
       "salary     98331.111111\n",
       "dtype: float64"
      ]
     },
     "metadata": {},
     "execution_count": 159
    }
   ],
   "source": [
    "# Using filtering, find the mean value of the salary for the discipline A\n",
    "df[df[\"discipline\"] == \"A\"].mean()"
   ]
  },
  {
   "cell_type": "code",
   "execution_count": 166,
   "metadata": {},
   "outputs": [
    {
     "output_type": "execute_result",
     "data": {
      "text/plain": [
       "sex\n",
       "Female    16\n",
       "Male      23\n",
       "Name: rank, dtype: int64"
      ]
     },
     "metadata": {},
     "execution_count": 166
    }
   ],
   "source": [
    "# Challange:\n",
    "# Extract (filter) only observations with high salary ( > 100K) and find how many female and male professors in each group\n",
    "df[(df[\"salary\"] > 100000) & (df[\"rank\"] == \"Prof\")].groupby(\"sex\")[\"rank\"].count()"
   ]
  },
  {
   "cell_type": "code",
   "execution_count": 167,
   "metadata": {},
   "outputs": [
    {
     "output_type": "execute_result",
     "data": {
      "text/plain": [
       "    rank discipline  phd  service     sex  salary\n",
       "0   Prof          B   56       49    Male  186960\n",
       "13  Prof          B   35       33    Male  162200\n",
       "72  Prof          B   24       15  Female  161101\n",
       "27  Prof          A   45       43    Male  155865\n",
       "31  Prof          B   22       21    Male  155750"
      ],
      "text/html": "<div>\n<style scoped>\n    .dataframe tbody tr th:only-of-type {\n        vertical-align: middle;\n    }\n\n    .dataframe tbody tr th {\n        vertical-align: top;\n    }\n\n    .dataframe thead th {\n        text-align: right;\n    }\n</style>\n<table border=\"1\" class=\"dataframe\">\n  <thead>\n    <tr style=\"text-align: right;\">\n      <th></th>\n      <th>rank</th>\n      <th>discipline</th>\n      <th>phd</th>\n      <th>service</th>\n      <th>sex</th>\n      <th>salary</th>\n    </tr>\n  </thead>\n  <tbody>\n    <tr>\n      <th>0</th>\n      <td>Prof</td>\n      <td>B</td>\n      <td>56</td>\n      <td>49</td>\n      <td>Male</td>\n      <td>186960</td>\n    </tr>\n    <tr>\n      <th>13</th>\n      <td>Prof</td>\n      <td>B</td>\n      <td>35</td>\n      <td>33</td>\n      <td>Male</td>\n      <td>162200</td>\n    </tr>\n    <tr>\n      <th>72</th>\n      <td>Prof</td>\n      <td>B</td>\n      <td>24</td>\n      <td>15</td>\n      <td>Female</td>\n      <td>161101</td>\n    </tr>\n    <tr>\n      <th>27</th>\n      <td>Prof</td>\n      <td>A</td>\n      <td>45</td>\n      <td>43</td>\n      <td>Male</td>\n      <td>155865</td>\n    </tr>\n    <tr>\n      <th>31</th>\n      <td>Prof</td>\n      <td>B</td>\n      <td>22</td>\n      <td>21</td>\n      <td>Male</td>\n      <td>155750</td>\n    </tr>\n  </tbody>\n</table>\n</div>"
     },
     "metadata": {},
     "execution_count": 167
    }
   ],
   "source": [
    "# Sort data frame by the salary (in descending order) and display the first few records of the output (head)\n",
    "df.sort_values(\"salary\", ascending=False).head()"
   ]
  },
  {
   "cell_type": "markdown",
   "metadata": {},
   "source": [
    "---"
   ]
  },
  {
   "cell_type": "code",
   "execution_count": 168,
   "metadata": {},
   "outputs": [
    {
     "output_type": "execute_result",
     "data": {
      "text/plain": [
       "         rank discipline  phd  service     sex  salary\n",
       "1        Prof          A   12        6    Male   93000\n",
       "2        Prof          A   23       20    Male  110515\n",
       "3        Prof          A   40       31    Male  131205\n",
       "5        Prof          A   20       20    Male  122400\n",
       "7        Prof          A   18       18    Male  126300\n",
       "..        ...        ...  ...      ...     ...     ...\n",
       "59  AssocProf          B   12       10  Female  103994\n",
       "61  AssocProf          B   13       10  Female  103750\n",
       "62  AssocProf          B   14        7  Female  109650\n",
       "71  AssocProf          B   12        9  Female   71065\n",
       "74  AssocProf          B   19        6  Female  104542\n",
       "\n",
       "[78 rows x 6 columns]"
      ],
      "text/html": "<div>\n<style scoped>\n    .dataframe tbody tr th:only-of-type {\n        vertical-align: middle;\n    }\n\n    .dataframe tbody tr th {\n        vertical-align: top;\n    }\n\n    .dataframe thead th {\n        text-align: right;\n    }\n</style>\n<table border=\"1\" class=\"dataframe\">\n  <thead>\n    <tr style=\"text-align: right;\">\n      <th></th>\n      <th>rank</th>\n      <th>discipline</th>\n      <th>phd</th>\n      <th>service</th>\n      <th>sex</th>\n      <th>salary</th>\n    </tr>\n  </thead>\n  <tbody>\n    <tr>\n      <th>1</th>\n      <td>Prof</td>\n      <td>A</td>\n      <td>12</td>\n      <td>6</td>\n      <td>Male</td>\n      <td>93000</td>\n    </tr>\n    <tr>\n      <th>2</th>\n      <td>Prof</td>\n      <td>A</td>\n      <td>23</td>\n      <td>20</td>\n      <td>Male</td>\n      <td>110515</td>\n    </tr>\n    <tr>\n      <th>3</th>\n      <td>Prof</td>\n      <td>A</td>\n      <td>40</td>\n      <td>31</td>\n      <td>Male</td>\n      <td>131205</td>\n    </tr>\n    <tr>\n      <th>5</th>\n      <td>Prof</td>\n      <td>A</td>\n      <td>20</td>\n      <td>20</td>\n      <td>Male</td>\n      <td>122400</td>\n    </tr>\n    <tr>\n      <th>7</th>\n      <td>Prof</td>\n      <td>A</td>\n      <td>18</td>\n      <td>18</td>\n      <td>Male</td>\n      <td>126300</td>\n    </tr>\n    <tr>\n      <th>...</th>\n      <td>...</td>\n      <td>...</td>\n      <td>...</td>\n      <td>...</td>\n      <td>...</td>\n      <td>...</td>\n    </tr>\n    <tr>\n      <th>59</th>\n      <td>AssocProf</td>\n      <td>B</td>\n      <td>12</td>\n      <td>10</td>\n      <td>Female</td>\n      <td>103994</td>\n    </tr>\n    <tr>\n      <th>61</th>\n      <td>AssocProf</td>\n      <td>B</td>\n      <td>13</td>\n      <td>10</td>\n      <td>Female</td>\n      <td>103750</td>\n    </tr>\n    <tr>\n      <th>62</th>\n      <td>AssocProf</td>\n      <td>B</td>\n      <td>14</td>\n      <td>7</td>\n      <td>Female</td>\n      <td>109650</td>\n    </tr>\n    <tr>\n      <th>71</th>\n      <td>AssocProf</td>\n      <td>B</td>\n      <td>12</td>\n      <td>9</td>\n      <td>Female</td>\n      <td>71065</td>\n    </tr>\n    <tr>\n      <th>74</th>\n      <td>AssocProf</td>\n      <td>B</td>\n      <td>19</td>\n      <td>6</td>\n      <td>Female</td>\n      <td>104542</td>\n    </tr>\n  </tbody>\n</table>\n<p>78 rows × 6 columns</p>\n</div>"
     },
     "metadata": {},
     "execution_count": 168
    }
   ],
   "source": [
    "#Sort the data frame using 2 or more columns:\n",
    "df.sort_values([\"rank\", \"discipline\"], ascending=[False, True])"
   ]
  },
  {
   "cell_type": "markdown",
   "metadata": {},
   "source": [
    "### Missing Values"
   ]
  },
  {
   "cell_type": "code",
   "execution_count": 180,
   "metadata": {},
   "outputs": [
    {
     "output_type": "execute_result",
     "data": {
      "text/plain": [
       "   year  month  day  dep_time  dep_delay  arr_time  arr_delay carrier tailnum  \\\n",
       "0  2013      1    1     517.0        2.0     830.0       11.0      UA  N14228   \n",
       "1  2013      1    1     533.0        4.0     850.0       20.0      UA  N24211   \n",
       "2  2013      1    1     542.0        2.0     923.0       33.0      AA  N619AA   \n",
       "3  2013      1    1     554.0       -6.0     812.0      -25.0      DL  N668DN   \n",
       "4  2013      1    1     554.0       -4.0     740.0       12.0      UA  N39463   \n",
       "\n",
       "   flight origin dest  air_time  distance  hour  minute  \n",
       "0    1545    EWR  IAH     227.0      1400   5.0    17.0  \n",
       "1    1714    LGA  IAH     227.0      1416   5.0    33.0  \n",
       "2    1141    JFK  MIA     160.0      1089   5.0    42.0  \n",
       "3     461    LGA  ATL     116.0       762   5.0    54.0  \n",
       "4    1696    EWR  ORD     150.0       719   5.0    54.0  "
      ],
      "text/html": "<div>\n<style scoped>\n    .dataframe tbody tr th:only-of-type {\n        vertical-align: middle;\n    }\n\n    .dataframe tbody tr th {\n        vertical-align: top;\n    }\n\n    .dataframe thead th {\n        text-align: right;\n    }\n</style>\n<table border=\"1\" class=\"dataframe\">\n  <thead>\n    <tr style=\"text-align: right;\">\n      <th></th>\n      <th>year</th>\n      <th>month</th>\n      <th>day</th>\n      <th>dep_time</th>\n      <th>dep_delay</th>\n      <th>arr_time</th>\n      <th>arr_delay</th>\n      <th>carrier</th>\n      <th>tailnum</th>\n      <th>flight</th>\n      <th>origin</th>\n      <th>dest</th>\n      <th>air_time</th>\n      <th>distance</th>\n      <th>hour</th>\n      <th>minute</th>\n    </tr>\n  </thead>\n  <tbody>\n    <tr>\n      <th>0</th>\n      <td>2013</td>\n      <td>1</td>\n      <td>1</td>\n      <td>517.0</td>\n      <td>2.0</td>\n      <td>830.0</td>\n      <td>11.0</td>\n      <td>UA</td>\n      <td>N14228</td>\n      <td>1545</td>\n      <td>EWR</td>\n      <td>IAH</td>\n      <td>227.0</td>\n      <td>1400</td>\n      <td>5.0</td>\n      <td>17.0</td>\n    </tr>\n    <tr>\n      <th>1</th>\n      <td>2013</td>\n      <td>1</td>\n      <td>1</td>\n      <td>533.0</td>\n      <td>4.0</td>\n      <td>850.0</td>\n      <td>20.0</td>\n      <td>UA</td>\n      <td>N24211</td>\n      <td>1714</td>\n      <td>LGA</td>\n      <td>IAH</td>\n      <td>227.0</td>\n      <td>1416</td>\n      <td>5.0</td>\n      <td>33.0</td>\n    </tr>\n    <tr>\n      <th>2</th>\n      <td>2013</td>\n      <td>1</td>\n      <td>1</td>\n      <td>542.0</td>\n      <td>2.0</td>\n      <td>923.0</td>\n      <td>33.0</td>\n      <td>AA</td>\n      <td>N619AA</td>\n      <td>1141</td>\n      <td>JFK</td>\n      <td>MIA</td>\n      <td>160.0</td>\n      <td>1089</td>\n      <td>5.0</td>\n      <td>42.0</td>\n    </tr>\n    <tr>\n      <th>3</th>\n      <td>2013</td>\n      <td>1</td>\n      <td>1</td>\n      <td>554.0</td>\n      <td>-6.0</td>\n      <td>812.0</td>\n      <td>-25.0</td>\n      <td>DL</td>\n      <td>N668DN</td>\n      <td>461</td>\n      <td>LGA</td>\n      <td>ATL</td>\n      <td>116.0</td>\n      <td>762</td>\n      <td>5.0</td>\n      <td>54.0</td>\n    </tr>\n    <tr>\n      <th>4</th>\n      <td>2013</td>\n      <td>1</td>\n      <td>1</td>\n      <td>554.0</td>\n      <td>-4.0</td>\n      <td>740.0</td>\n      <td>12.0</td>\n      <td>UA</td>\n      <td>N39463</td>\n      <td>1696</td>\n      <td>EWR</td>\n      <td>ORD</td>\n      <td>150.0</td>\n      <td>719</td>\n      <td>5.0</td>\n      <td>54.0</td>\n    </tr>\n  </tbody>\n</table>\n</div>"
     },
     "metadata": {},
     "execution_count": 180
    }
   ],
   "source": [
    "# Read a dataset with missing values data/flights.csv\n",
    "flights = pd.DataFrame()\n",
    "flights = pd.read_csv(\"./data/flights.csv\")\n",
    "flights.head()"
   ]
  },
  {
   "cell_type": "markdown",
   "metadata": {},
   "source": [
    "\n",
    ">**Hands-on exercises**\n",
    ">\n",
    ">- Find how many records this data frame has;\n",
    ">\n",
    ">- How many elements are there?\n",
    ">\n",
    ">- What are the column names?\n",
    ">\n",
    ">- What types of columns we have in this data frame?"
   ]
  },
  {
   "cell_type": "code",
   "execution_count": 181,
   "metadata": {},
   "outputs": [
    {
     "output_type": "execute_result",
     "data": {
      "text/plain": [
       "(160754, 16)"
      ]
     },
     "metadata": {},
     "execution_count": 181
    }
   ],
   "source": [
    "#Find how many records this data frame has\n",
    "flights.shape"
   ]
  },
  {
   "cell_type": "code",
   "execution_count": 182,
   "metadata": {},
   "outputs": [
    {
     "output_type": "execute_result",
     "data": {
      "text/plain": [
       "2572064"
      ]
     },
     "metadata": {},
     "execution_count": 182
    }
   ],
   "source": [
    "#How many elements are ther\n",
    "flights.size"
   ]
  },
  {
   "cell_type": "markdown",
   "metadata": {},
   "source": [
    "![](https://predictivehacks.com/wp-content/uploads/2020/08/numpy_arrays-1024x572.png)"
   ]
  },
  {
   "cell_type": "code",
   "execution_count": 125,
   "metadata": {},
   "outputs": [],
   "source": [
    "df_aux = pd.DataFrame({\"A\": [1,2,3], \"B\": [1,2,3]})\n"
   ]
  },
  {
   "cell_type": "code",
   "execution_count": 126,
   "metadata": {
    "scrolled": true
   },
   "outputs": [],
   "source": [
    "# Select the rows that have at least one missing value\n"
   ]
  },
  {
   "cell_type": "code",
   "execution_count": 127,
   "metadata": {},
   "outputs": [],
   "source": [
    "# Filter all the rows where arr_delay value is missing:\n",
    "\n"
   ]
  },
  {
   "cell_type": "code",
   "execution_count": 128,
   "metadata": {},
   "outputs": [],
   "source": [
    "# Remove all the observations with missing values\n"
   ]
  },
  {
   "cell_type": "code",
   "execution_count": 129,
   "metadata": {},
   "outputs": [],
   "source": [
    "# Fill missing values with zeros\n"
   ]
  },
  {
   "cell_type": "markdown",
   "metadata": {},
   "source": [
    "---\n",
    "*Exercise* "
   ]
  },
  {
   "cell_type": "code",
   "execution_count": 130,
   "metadata": {},
   "outputs": [],
   "source": [
    "# Count how many missing data are in dep_delay and arr_delay columns\n"
   ]
  },
  {
   "cell_type": "markdown",
   "metadata": {},
   "source": [
    "---\n",
    "### Common Aggregation Functions:\n",
    "\n",
    "|Function|Description\n",
    "|-------|--------\n",
    "|min   | minimum\n",
    "|max   | maximum\n",
    "|count   | number of non-null observations\n",
    "|sum   | sum of values\n",
    "|mean  | arithmetic mean of values\n",
    "|median | median\n",
    "|mad | mean absolute deviation\n",
    "|mode | mode\n",
    "|prod   | product of values\n",
    "|std  | standard deviation\n",
    "|var | unbiased variance\n",
    "\n"
   ]
  },
  {
   "cell_type": "code",
   "execution_count": 131,
   "metadata": {},
   "outputs": [],
   "source": [
    "# Find the number of non-missing values in each column\n"
   ]
  },
  {
   "cell_type": "code",
   "execution_count": 132,
   "metadata": {},
   "outputs": [],
   "source": [
    "# Find min value for all the columns in the dataset\n"
   ]
  },
  {
   "cell_type": "code",
   "execution_count": 133,
   "metadata": {},
   "outputs": [],
   "source": [
    "# Let's compute summary statistic per a group':\n"
   ]
  },
  {
   "cell_type": "code",
   "execution_count": 134,
   "metadata": {},
   "outputs": [],
   "source": [
    "# We can use agg() methods for aggregation:\n"
   ]
  },
  {
   "cell_type": "code",
   "execution_count": 135,
   "metadata": {},
   "outputs": [],
   "source": [
    "# An example of computing different statistics for different columns\n"
   ]
  },
  {
   "cell_type": "markdown",
   "metadata": {},
   "source": [
    "### Basic descriptive statistics"
   ]
  },
  {
   "cell_type": "markdown",
   "metadata": {},
   "source": [
    "|Function|Description\n",
    "|-------|--------\n",
    "|min   | minimum\n",
    "|max   | maximum\n",
    "|mean  | arithmetic mean of values\n",
    "|median | median\n",
    "|mad | mean absolute deviation\n",
    "|mode | mode\n",
    "|std  | standard deviation\n",
    "|var | unbiased variance\n",
    "|sem | standard error of the mean\n",
    "|skew| sample skewness\n",
    "|kurt|kurtosis\n",
    "|quantile| value at %\n"
   ]
  },
  {
   "cell_type": "code",
   "execution_count": 136,
   "metadata": {},
   "outputs": [],
   "source": [
    "# Convinient describe() function computes a veriety of statistics\n"
   ]
  },
  {
   "cell_type": "code",
   "execution_count": 137,
   "metadata": {},
   "outputs": [],
   "source": [
    "# find the index of the maximum or minimum value\n",
    "# if there are multiple values matching idxmin() and idxmax() will return the first match\n"
   ]
  },
  {
   "cell_type": "code",
   "execution_count": 138,
   "metadata": {},
   "outputs": [],
   "source": [
    "# Count the number of records for each different value in a vector\n"
   ]
  },
  {
   "cell_type": "code",
   "execution_count": null,
   "metadata": {},
   "outputs": [],
   "source": []
  }
 ],
 "metadata": {
  "kernelspec": {
   "name": "python3",
   "display_name": "Python 3.7.9 64-bit ('venv')",
   "metadata": {
    "interpreter": {
     "hash": "fd3a8996e0acf5343d074e675d410fb19183f797a5c70d53c910525512c681cc"
    }
   }
  },
  "language_info": {
   "codemirror_mode": {
    "name": "ipython",
    "version": 3
   },
   "file_extension": ".py",
   "mimetype": "text/x-python",
   "name": "python",
   "nbconvert_exporter": "python",
   "pygments_lexer": "ipython3",
   "version": "3.7.9-final"
  }
 },
 "nbformat": 4,
 "nbformat_minor": 2
}