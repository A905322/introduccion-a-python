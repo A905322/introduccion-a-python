{
 "cells": [
  {
   "cell_type": "markdown",
   "metadata": {},
   "source": [
    "# Práctica Pandas: \n",
    "# INFORME SOBRE CUENTAS BANCARIAS DE LOS AÑOS 2010 Y 2011\n",
    "\n",
    "Introducción a la programación en Python 2021\n",
    "\n",
    "\n",
    "Fuente de datos: http://davidasurmendi.blogspot.com/\n"
   ]
  },
  {
   "cell_type": "code",
   "execution_count": 3,
   "metadata": {},
   "outputs": [],
   "source": [
    "%config IPCompleter.greedy=True\n",
    "import pandas as pd"
   ]
  },
  {
   "cell_type": "markdown",
   "metadata": {},
   "source": [
    "### Load data"
   ]
  },
  {
   "cell_type": "code",
   "execution_count": 4,
   "metadata": {},
   "outputs": [
    {
     "output_type": "execute_result",
     "data": {
      "text/plain": [
       "    Año      Mes   Sucursal         Tipo Cta Nuevo Cliente  Importe\n",
       "0  2011    Enero     Madrid        Corriente            Sí     2500\n",
       "1  2011    Enero  Barcelona  Fondo Inversión            Sí    10000\n",
       "2  2011    Enero  Salamanca        Corriente            Sí     3500\n",
       "3  2011  Febrero  Barcelona  Fondo Inversión            No    75000\n",
       "4  2011  Febrero  Barcelona  Fondo Inversión            No   100000"
      ],
      "text/html": "<div>\n<style scoped>\n    .dataframe tbody tr th:only-of-type {\n        vertical-align: middle;\n    }\n\n    .dataframe tbody tr th {\n        vertical-align: top;\n    }\n\n    .dataframe thead th {\n        text-align: right;\n    }\n</style>\n<table border=\"1\" class=\"dataframe\">\n  <thead>\n    <tr style=\"text-align: right;\">\n      <th></th>\n      <th>Año</th>\n      <th>Mes</th>\n      <th>Sucursal</th>\n      <th>Tipo Cta</th>\n      <th>Nuevo Cliente</th>\n      <th>Importe</th>\n    </tr>\n  </thead>\n  <tbody>\n    <tr>\n      <th>0</th>\n      <td>2011</td>\n      <td>Enero</td>\n      <td>Madrid</td>\n      <td>Corriente</td>\n      <td>Sí</td>\n      <td>2500</td>\n    </tr>\n    <tr>\n      <th>1</th>\n      <td>2011</td>\n      <td>Enero</td>\n      <td>Barcelona</td>\n      <td>Fondo Inversión</td>\n      <td>Sí</td>\n      <td>10000</td>\n    </tr>\n    <tr>\n      <th>2</th>\n      <td>2011</td>\n      <td>Enero</td>\n      <td>Salamanca</td>\n      <td>Corriente</td>\n      <td>Sí</td>\n      <td>3500</td>\n    </tr>\n    <tr>\n      <th>3</th>\n      <td>2011</td>\n      <td>Febrero</td>\n      <td>Barcelona</td>\n      <td>Fondo Inversión</td>\n      <td>No</td>\n      <td>75000</td>\n    </tr>\n    <tr>\n      <th>4</th>\n      <td>2011</td>\n      <td>Febrero</td>\n      <td>Barcelona</td>\n      <td>Fondo Inversión</td>\n      <td>No</td>\n      <td>100000</td>\n    </tr>\n  </tbody>\n</table>\n</div>"
     },
     "metadata": {},
     "execution_count": 4
    }
   ],
   "source": [
    "data = pd.read_excel(\"Banco.xlsx\")\n",
    "data = pd.DataFrame(data)\n",
    "data.head()"
   ]
  },
  {
   "cell_type": "code",
   "execution_count": 5,
   "metadata": {},
   "outputs": [
    {
     "output_type": "execute_result",
     "data": {
      "text/plain": [
       "(238, 6)"
      ]
     },
     "metadata": {},
     "execution_count": 5
    }
   ],
   "source": [
    "data.shape"
   ]
  },
  {
   "cell_type": "code",
   "execution_count": 6,
   "metadata": {},
   "outputs": [],
   "source": [
    "# Cambiar espacios en blanco por \"_\" en las columnas"
   ]
  },
  {
   "cell_type": "code",
   "execution_count": 7,
   "metadata": {},
   "outputs": [],
   "source": [
    "data.columns = [c.replace(\" \", \"_\") for c in data.columns]\n"
   ]
  },
  {
   "cell_type": "code",
   "execution_count": 8,
   "metadata": {},
   "outputs": [
    {
     "output_type": "execute_result",
     "data": {
      "text/plain": [
       "    Año      Mes   Sucursal         Tipo_Cta Nuevo_Cliente  Importe\n",
       "0  2011    Enero     Madrid        Corriente            Sí     2500\n",
       "1  2011    Enero  Barcelona  Fondo Inversión            Sí    10000\n",
       "2  2011    Enero  Salamanca        Corriente            Sí     3500\n",
       "3  2011  Febrero  Barcelona  Fondo Inversión            No    75000\n",
       "4  2011  Febrero  Barcelona  Fondo Inversión            No   100000"
      ],
      "text/html": "<div>\n<style scoped>\n    .dataframe tbody tr th:only-of-type {\n        vertical-align: middle;\n    }\n\n    .dataframe tbody tr th {\n        vertical-align: top;\n    }\n\n    .dataframe thead th {\n        text-align: right;\n    }\n</style>\n<table border=\"1\" class=\"dataframe\">\n  <thead>\n    <tr style=\"text-align: right;\">\n      <th></th>\n      <th>Año</th>\n      <th>Mes</th>\n      <th>Sucursal</th>\n      <th>Tipo_Cta</th>\n      <th>Nuevo_Cliente</th>\n      <th>Importe</th>\n    </tr>\n  </thead>\n  <tbody>\n    <tr>\n      <th>0</th>\n      <td>2011</td>\n      <td>Enero</td>\n      <td>Madrid</td>\n      <td>Corriente</td>\n      <td>Sí</td>\n      <td>2500</td>\n    </tr>\n    <tr>\n      <th>1</th>\n      <td>2011</td>\n      <td>Enero</td>\n      <td>Barcelona</td>\n      <td>Fondo Inversión</td>\n      <td>Sí</td>\n      <td>10000</td>\n    </tr>\n    <tr>\n      <th>2</th>\n      <td>2011</td>\n      <td>Enero</td>\n      <td>Salamanca</td>\n      <td>Corriente</td>\n      <td>Sí</td>\n      <td>3500</td>\n    </tr>\n    <tr>\n      <th>3</th>\n      <td>2011</td>\n      <td>Febrero</td>\n      <td>Barcelona</td>\n      <td>Fondo Inversión</td>\n      <td>No</td>\n      <td>75000</td>\n    </tr>\n    <tr>\n      <th>4</th>\n      <td>2011</td>\n      <td>Febrero</td>\n      <td>Barcelona</td>\n      <td>Fondo Inversión</td>\n      <td>No</td>\n      <td>100000</td>\n    </tr>\n  </tbody>\n</table>\n</div>"
     },
     "metadata": {},
     "execution_count": 8
    }
   ],
   "source": [
    "data.head()"
   ]
  },
  {
   "cell_type": "markdown",
   "metadata": {},
   "source": [
    "### 0. Numero de cuentas por año. ¿Y por mes y año?"
   ]
  },
  {
   "cell_type": "code",
   "execution_count": 9,
   "metadata": {},
   "outputs": [
    {
     "output_type": "execute_result",
     "data": {
      "text/plain": [
       "Año\n",
       "2010    119\n",
       "2011    119\n",
       "Name: Sucursal, dtype: int64"
      ]
     },
     "metadata": {},
     "execution_count": 9
    }
   ],
   "source": [
    "data.groupby([\"Año\"]).Sucursal.count()"
   ]
  },
  {
   "cell_type": "code",
   "execution_count": 10,
   "metadata": {},
   "outputs": [
    {
     "output_type": "execute_result",
     "data": {
      "text/plain": [
       "Año   Mes    \n",
       "2010  Enero      59\n",
       "      Febrero    60\n",
       "2011  Enero      59\n",
       "      Febrero    60\n",
       "Name: Sucursal, dtype: int64"
      ]
     },
     "metadata": {},
     "execution_count": 10
    }
   ],
   "source": [
    "data.groupby([\"Año\", \"Mes\"]).Sucursal.count()"
   ]
  },
  {
   "cell_type": "code",
   "execution_count": 11,
   "metadata": {},
   "outputs": [
    {
     "output_type": "execute_result",
     "data": {
      "text/plain": [
       "     Año      Mes Sucursal         Tipo_Cta Nuevo_Cliente  Importe\n",
       "0   2011    Enero   Madrid        Corriente            Sí     2500\n",
       "9   2010  Febrero   Madrid  Plan Jubilación            Sí      400\n",
       "10  2010  Febrero   Madrid        Corriente            No      100\n",
       "13  2011  Febrero   Madrid  Cuenta Vivienda            No    10000\n",
       "15  2010  Febrero   Madrid        Corriente            Sí      400\n",
       "16  2010  Febrero   Madrid  Cuenta Vivienda            Sí      320\n",
       "19  2011  Febrero   Madrid        Corriente            Sí    10000\n",
       "21  2010    Enero   Madrid        Corriente            No     1500\n",
       "24  2010    Enero   Madrid        Corriente            No      400\n",
       "25  2010    Enero   Madrid        Corriente            Sí     2500"
      ],
      "text/html": "<div>\n<style scoped>\n    .dataframe tbody tr th:only-of-type {\n        vertical-align: middle;\n    }\n\n    .dataframe tbody tr th {\n        vertical-align: top;\n    }\n\n    .dataframe thead th {\n        text-align: right;\n    }\n</style>\n<table border=\"1\" class=\"dataframe\">\n  <thead>\n    <tr style=\"text-align: right;\">\n      <th></th>\n      <th>Año</th>\n      <th>Mes</th>\n      <th>Sucursal</th>\n      <th>Tipo_Cta</th>\n      <th>Nuevo_Cliente</th>\n      <th>Importe</th>\n    </tr>\n  </thead>\n  <tbody>\n    <tr>\n      <th>0</th>\n      <td>2011</td>\n      <td>Enero</td>\n      <td>Madrid</td>\n      <td>Corriente</td>\n      <td>Sí</td>\n      <td>2500</td>\n    </tr>\n    <tr>\n      <th>9</th>\n      <td>2010</td>\n      <td>Febrero</td>\n      <td>Madrid</td>\n      <td>Plan Jubilación</td>\n      <td>Sí</td>\n      <td>400</td>\n    </tr>\n    <tr>\n      <th>10</th>\n      <td>2010</td>\n      <td>Febrero</td>\n      <td>Madrid</td>\n      <td>Corriente</td>\n      <td>No</td>\n      <td>100</td>\n    </tr>\n    <tr>\n      <th>13</th>\n      <td>2011</td>\n      <td>Febrero</td>\n      <td>Madrid</td>\n      <td>Cuenta Vivienda</td>\n      <td>No</td>\n      <td>10000</td>\n    </tr>\n    <tr>\n      <th>15</th>\n      <td>2010</td>\n      <td>Febrero</td>\n      <td>Madrid</td>\n      <td>Corriente</td>\n      <td>Sí</td>\n      <td>400</td>\n    </tr>\n    <tr>\n      <th>16</th>\n      <td>2010</td>\n      <td>Febrero</td>\n      <td>Madrid</td>\n      <td>Cuenta Vivienda</td>\n      <td>Sí</td>\n      <td>320</td>\n    </tr>\n    <tr>\n      <th>19</th>\n      <td>2011</td>\n      <td>Febrero</td>\n      <td>Madrid</td>\n      <td>Corriente</td>\n      <td>Sí</td>\n      <td>10000</td>\n    </tr>\n    <tr>\n      <th>21</th>\n      <td>2010</td>\n      <td>Enero</td>\n      <td>Madrid</td>\n      <td>Corriente</td>\n      <td>No</td>\n      <td>1500</td>\n    </tr>\n    <tr>\n      <th>24</th>\n      <td>2010</td>\n      <td>Enero</td>\n      <td>Madrid</td>\n      <td>Corriente</td>\n      <td>No</td>\n      <td>400</td>\n    </tr>\n    <tr>\n      <th>25</th>\n      <td>2010</td>\n      <td>Enero</td>\n      <td>Madrid</td>\n      <td>Corriente</td>\n      <td>Sí</td>\n      <td>2500</td>\n    </tr>\n  </tbody>\n</table>\n</div>"
     },
     "metadata": {},
     "execution_count": 11
    }
   ],
   "source": [
    "data[data.Sucursal == \"Madrid\"].head(10)"
   ]
  },
  {
   "cell_type": "markdown",
   "metadata": {},
   "source": [
    "## Tu turno... "
   ]
  },
  {
   "cell_type": "code",
   "execution_count": 12,
   "metadata": {},
   "outputs": [],
   "source": [
    "# Inicialización del problema\n",
    "%config IPCompleter.greedy=True\n",
    "import pandas as pd\n",
    "pd.options.display.float_format = '{:.2f}€'.format #se fija en dos los decimales porque se trabaja como mucho con céntimos de €\n",
    "pd.reset_option(\"^display\")\n",
    "\n",
    "# Lectura de datos\n",
    "data = pd.read_excel(\"Banco.xlsx\")\n",
    "data = pd.DataFrame(data)\n",
    "data.columns = [c.replace(\" \", \"_\") for c in data.columns]"
   ]
  },
  {
   "cell_type": "code",
   "execution_count": 232,
   "metadata": {},
   "outputs": [],
   "source": []
  },
  {
   "cell_type": "code",
   "execution_count": 13,
   "metadata": {},
   "outputs": [],
   "source": [
    "# Estilo de los datos\n",
    "# Funciones de estilo\n",
    "\n",
    "def color_negative_red(val):\n",
    "    \"\"\"\n",
    "    Takes a scalar and returns a string with\n",
    "    the css property `'color: red'` for negative\n",
    "    strings, green otherwise.\n",
    "    \"\"\"\n",
    "    color = 'red' if val < 0 else 'green'\n",
    "    return 'color: %s' % color\n",
    "\n",
    "def color_negative_red_passive(val):\n",
    "    \"\"\"\n",
    "    Takes a scalar and returns a string with\n",
    "    the css property `'color: red'` for negative\n",
    "    strings, black otherwise.\n",
    "    \"\"\"\n",
    "    color = 'red' if val < 0 else 'black'\n",
    "    return 'color: %s' % color\n",
    "\n",
    "# Implementación de seaborn\n",
    "import matplotlib.pyplot as plt\n",
    "%matplotlib inline\n",
    "import seaborn as sns\n",
    "\n",
    "cm_g = sns.light_palette(\"green\", as_cmap=True)\n",
    "cm_b = sns.light_palette(\"blue\", as_cmap=True)\n",
    "cm_rsb = sns.light_palette(\"rosybrown\", as_cmap=True)\n",
    "cm_crsn = sns.light_palette(\"maroon\", as_cmap=True)"
   ]
  },
  {
   "cell_type": "markdown",
   "metadata": {},
   "source": [
    "### 1.\tCantidad total de importe de clientes por año"
   ]
  },
  {
   "cell_type": "code",
   "execution_count": 14,
   "metadata": {},
   "outputs": [],
   "source": [
    "# Importe total de clientes por año"
   ]
  },
  {
   "cell_type": "code",
   "execution_count": 15,
   "metadata": {},
   "outputs": [
    {
     "output_type": "execute_result",
     "data": {
      "text/plain": [
       "Año\n",
       "2010    2231240\n",
       "2011    2678000\n",
       "Name: Importe, dtype: int64"
      ]
     },
     "metadata": {},
     "execution_count": 15
    }
   ],
   "source": [
    "data.groupby([\"Año\"]).Importe.sum().head()"
   ]
  },
  {
   "cell_type": "code",
   "execution_count": 16,
   "metadata": {},
   "outputs": [],
   "source": [
    "# Importe total de clientes por año como DataFrame"
   ]
  },
  {
   "cell_type": "code",
   "execution_count": 28,
   "metadata": {},
   "outputs": [
    {
     "output_type": "execute_result",
     "data": {
      "text/plain": [
       "<pandas.io.formats.style.Styler at 0x1ad97860780>"
      ],
      "text/html": "<style  type=\"text/css\" >\n</style><table id=\"T_220996d8_a11a_11eb_9aa2_705a0f3f1b44\" ><thead>    <tr>        <th class=\"blank level0\" ></th>        <th class=\"col_heading level0 col0\" >Importe</th>    </tr>    <tr>        <th class=\"index_name level0\" >Año</th>        <th class=\"blank\" ></th>    </tr></thead><tbody>\n                <tr>\n                        <th id=\"T_220996d8_a11a_11eb_9aa2_705a0f3f1b44level0_row0\" class=\"row_heading level0 row0\" >2010</th>\n                        <td id=\"T_220996d8_a11a_11eb_9aa2_705a0f3f1b44row0_col0\" class=\"data row0 col0\" >                                      2,231,240.00€</td>\n            </tr>\n            <tr>\n                        <th id=\"T_220996d8_a11a_11eb_9aa2_705a0f3f1b44level0_row1\" class=\"row_heading level0 row1\" >2011</th>\n                        <td id=\"T_220996d8_a11a_11eb_9aa2_705a0f3f1b44row1_col0\" class=\"data row1 col0\" >                                      2,678,000.00€</td>\n            </tr>\n    </tbody></table>"
     },
     "metadata": {},
     "execution_count": 28
    }
   ],
   "source": [
    "importe_año=pd.DataFrame(data.groupby([\"Año\"]).Importe.sum()).style.format({'Importe': \"{:50,.2f}€\"}, )\n",
    "# importe_año=importe_año.applymap(color_negative_red)\n",
    "importe_año"
   ]
  },
  {
   "cell_type": "raw",
   "metadata": {},
   "source": [
    "Respuesta:\n",
    "\n",
    "Cantidad total importes 2010: 2,231,240.00€\n",
    "Cantidad total importes 2011: 2,678,000.00€"
   ]
  },
  {
   "cell_type": "markdown",
   "metadata": {},
   "source": [
    "### 2.\t¿Cuánto ha aumentado /disminuido 2011 vs 2010? ¿Y según tipo de cuenta?\n"
   ]
  },
  {
   "cell_type": "code",
   "execution_count": 29,
   "metadata": {},
   "outputs": [],
   "source": [
    "# Cuánto ha aumentado /disminuido 2011 vs 2010"
   ]
  },
  {
   "cell_type": "code",
   "execution_count": 46,
   "metadata": {
    "scrolled": true
   },
   "outputs": [
    {
     "output_type": "execute_result",
     "data": {
      "text/plain": [
       "<pandas.io.formats.style.Styler at 0x1ad98ff7550>"
      ],
      "text/html": "<style  type=\"text/css\" >\n    #T_4fdab25a_a11a_11eb_9edc_705a0f3f1b44row0_col0 {\n            background-color:  #e5ffe5;\n            color:  #000000;\n            color:  green;\n        }    #T_4fdab25a_a11a_11eb_9edc_705a0f3f1b44row0_col1 {\n            color:  green;\n        }    #T_4fdab25a_a11a_11eb_9edc_705a0f3f1b44row1_col0 {\n            background-color:  #72bf72;\n            color:  #000000;\n            color:  green;\n        }    #T_4fdab25a_a11a_11eb_9edc_705a0f3f1b44row1_col1 {\n            color:  green;\n        }</style><table id=\"T_4fdab25a_a11a_11eb_9edc_705a0f3f1b44\" ><thead>    <tr>        <th class=\"blank level0\" ></th>        <th class=\"col_heading level0 col0\" >Importe</th>        <th class=\"col_heading level0 col1\" >Variación</th>    </tr>    <tr>        <th class=\"index_name level0\" >Año</th>        <th class=\"blank\" ></th>        <th class=\"blank\" ></th>    </tr></thead><tbody>\n                <tr>\n                        <th id=\"T_4fdab25a_a11a_11eb_9edc_705a0f3f1b44level0_row0\" class=\"row_heading level0 row0\" >2010</th>\n                        <td id=\"T_4fdab25a_a11a_11eb_9edc_705a0f3f1b44row0_col0\" class=\"data row0 col0\" >2,231,240.00€</td>\n                        <td id=\"T_4fdab25a_a11a_11eb_9edc_705a0f3f1b44row0_col1\" class=\"data row0 col1\" >+nan€</td>\n            </tr>\n            <tr>\n                        <th id=\"T_4fdab25a_a11a_11eb_9edc_705a0f3f1b44level0_row1\" class=\"row_heading level0 row1\" >2011</th>\n                        <td id=\"T_4fdab25a_a11a_11eb_9edc_705a0f3f1b44row1_col0\" class=\"data row1 col0\" >2,678,000.00€</td>\n                        <td id=\"T_4fdab25a_a11a_11eb_9edc_705a0f3f1b44row1_col1\" class=\"data row1 col1\" >+446,760.00€</td>\n            </tr>\n    </tbody></table>"
     },
     "metadata": {},
     "execution_count": 46
    }
   ],
   "source": [
    "variacion_año=pd.DataFrame(data.groupby([\"Año\"]).Importe.sum()).head()\n",
    "variacion_año[\"Variación\"]=variacion_año.diff()\n",
    "variacion_año=variacion_año.style.background_gradient(cmap=cm_g,high=True,subset='Importe').format({'Importe': \"{:,.2f}€\", 'Variación': '{:+2,.2f}€'},)\n",
    "variacion_año=variacion_año.applymap(color_negative_red)\n",
    "variacion_año"
   ]
  },
  {
   "cell_type": "raw",
   "metadata": {},
   "source": [
    "Respuesta:\n",
    "\n",
    "Los importes han aumentado un 446,760.00€"
   ]
  },
  {
   "cell_type": "code",
   "execution_count": 15,
   "metadata": {},
   "outputs": [],
   "source": [
    "# Cuánto ha aumentado /disminuido 2011 vs 2010 y según tipo de cuenta"
   ]
  },
  {
   "cell_type": "code",
   "execution_count": 54,
   "metadata": {},
   "outputs": [
    {
     "output_type": "execute_result",
     "data": {
      "text/plain": [
       "<pandas.io.formats.style.Styler at 0x1ad99417278>"
      ],
      "text/html": "<style  type=\"text/css\" >\n    #T_84695a4c_a11a_11eb_9f43_705a0f3f1b44row0_col0 {\n            background-color:  #d8f8d8;\n            color:  #000000;\n            color:  green;\n        }    #T_84695a4c_a11a_11eb_9f43_705a0f3f1b44row0_col1 {\n            color:  green;\n        }    #T_84695a4c_a11a_11eb_9f43_705a0f3f1b44row1_col0 {\n            background-color:  #7ac47a;\n            color:  #000000;\n            color:  green;\n        }    #T_84695a4c_a11a_11eb_9f43_705a0f3f1b44row1_col1 {\n            color:  green;\n        }    #T_84695a4c_a11a_11eb_9f43_705a0f3f1b44row2_col0 {\n            background-color:  #8bcd8b;\n            color:  #000000;\n            color:  green;\n        }    #T_84695a4c_a11a_11eb_9f43_705a0f3f1b44row2_col1 {\n            color:  green;\n        }    #T_84695a4c_a11a_11eb_9f43_705a0f3f1b44row3_col0 {\n            background-color:  #e5ffe5;\n            color:  #000000;\n            color:  green;\n        }    #T_84695a4c_a11a_11eb_9f43_705a0f3f1b44row3_col1 {\n            color:  green;\n        }    #T_84695a4c_a11a_11eb_9f43_705a0f3f1b44row4_col0 {\n            background-color:  #72bf72;\n            color:  #000000;\n            color:  green;\n        }    #T_84695a4c_a11a_11eb_9f43_705a0f3f1b44row4_col1 {\n            color:  green;\n        }    #T_84695a4c_a11a_11eb_9f43_705a0f3f1b44row5_col0 {\n            background-color:  #b4e4b4;\n            color:  #000000;\n            color:  green;\n        }    #T_84695a4c_a11a_11eb_9f43_705a0f3f1b44row5_col1 {\n            color:  red;\n        }    #T_84695a4c_a11a_11eb_9f43_705a0f3f1b44row6_col0 {\n            background-color:  #9cd69c;\n            color:  #000000;\n            color:  green;\n        }    #T_84695a4c_a11a_11eb_9f43_705a0f3f1b44row6_col1 {\n            color:  red;\n        }    #T_84695a4c_a11a_11eb_9f43_705a0f3f1b44row7_col0 {\n            background-color:  #d5f6d5;\n            color:  #000000;\n            color:  green;\n        }    #T_84695a4c_a11a_11eb_9f43_705a0f3f1b44row7_col1 {\n            color:  green;\n        }</style><table id=\"T_84695a4c_a11a_11eb_9f43_705a0f3f1b44\" ><thead>    <tr>        <th class=\"blank\" ></th>        <th class=\"blank level0\" ></th>        <th class=\"col_heading level0 col0\" >Importe</th>        <th class=\"col_heading level0 col1\" >Variación</th>    </tr>    <tr>        <th class=\"index_name level0\" >Año</th>        <th class=\"index_name level1\" >Tipo_Cta</th>        <th class=\"blank\" ></th>        <th class=\"blank\" ></th>    </tr></thead><tbody>\n                <tr>\n                        <th id=\"T_84695a4c_a11a_11eb_9f43_705a0f3f1b44level0_row0\" class=\"row_heading level0 row0\" rowspan=4>2010</th>\n                        <th id=\"T_84695a4c_a11a_11eb_9f43_705a0f3f1b44level1_row0\" class=\"row_heading level1 row0\" >Corriente</th>\n                        <td id=\"T_84695a4c_a11a_11eb_9f43_705a0f3f1b44row0_col0\" class=\"data row0 col0\" >          164,800.00€</td>\n                        <td id=\"T_84695a4c_a11a_11eb_9f43_705a0f3f1b44row0_col1\" class=\"data row0 col1\" >                +nan€</td>\n            </tr>\n            <tr>\n                                <th id=\"T_84695a4c_a11a_11eb_9f43_705a0f3f1b44level1_row1\" class=\"row_heading level1 row1\" >Cuenta Vivienda</th>\n                        <td id=\"T_84695a4c_a11a_11eb_9f43_705a0f3f1b44row1_col0\" class=\"data row1 col0\" >        1,103,770.00€</td>\n                        <td id=\"T_84695a4c_a11a_11eb_9f43_705a0f3f1b44row1_col1\" class=\"data row1 col1\" >                +nan€</td>\n            </tr>\n            <tr>\n                                <th id=\"T_84695a4c_a11a_11eb_9f43_705a0f3f1b44level1_row2\" class=\"row_heading level1 row2\" >Fondo Inversión</th>\n                        <td id=\"T_84695a4c_a11a_11eb_9f43_705a0f3f1b44row2_col0\" class=\"data row2 col0\" >          933,100.00€</td>\n                        <td id=\"T_84695a4c_a11a_11eb_9f43_705a0f3f1b44row2_col1\" class=\"data row2 col1\" >                +nan€</td>\n            </tr>\n            <tr>\n                                <th id=\"T_84695a4c_a11a_11eb_9f43_705a0f3f1b44level1_row3\" class=\"row_heading level1 row3\" >Plan Jubilación</th>\n                        <td id=\"T_84695a4c_a11a_11eb_9f43_705a0f3f1b44row3_col0\" class=\"data row3 col0\" >           29,570.00€</td>\n                        <td id=\"T_84695a4c_a11a_11eb_9f43_705a0f3f1b44row3_col1\" class=\"data row3 col1\" >                +nan€</td>\n            </tr>\n            <tr>\n                        <th id=\"T_84695a4c_a11a_11eb_9f43_705a0f3f1b44level0_row4\" class=\"row_heading level0 row4\" rowspan=4>2011</th>\n                        <th id=\"T_84695a4c_a11a_11eb_9f43_705a0f3f1b44level1_row4\" class=\"row_heading level1 row4\" >Corriente</th>\n                        <td id=\"T_84695a4c_a11a_11eb_9f43_705a0f3f1b44row4_col0\" class=\"data row4 col0\" >        1,181,000.00€</td>\n                        <td id=\"T_84695a4c_a11a_11eb_9f43_705a0f3f1b44row4_col1\" class=\"data row4 col1\" >       +1,016,200.00€</td>\n            </tr>\n            <tr>\n                                <th id=\"T_84695a4c_a11a_11eb_9f43_705a0f3f1b44level1_row5\" class=\"row_heading level1 row5\" >Cuenta Vivienda</th>\n                        <td id=\"T_84695a4c_a11a_11eb_9f43_705a0f3f1b44row5_col0\" class=\"data row5 col0\" >          533,000.00€</td>\n                        <td id=\"T_84695a4c_a11a_11eb_9f43_705a0f3f1b44row5_col1\" class=\"data row5 col1\" >         -570,770.00€</td>\n            </tr>\n            <tr>\n                                <th id=\"T_84695a4c_a11a_11eb_9f43_705a0f3f1b44level1_row6\" class=\"row_heading level1 row6\" >Fondo Inversión</th>\n                        <td id=\"T_84695a4c_a11a_11eb_9f43_705a0f3f1b44row6_col0\" class=\"data row6 col0\" >          770,500.00€</td>\n                        <td id=\"T_84695a4c_a11a_11eb_9f43_705a0f3f1b44row6_col1\" class=\"data row6 col1\" >         -162,600.00€</td>\n            </tr>\n            <tr>\n                                <th id=\"T_84695a4c_a11a_11eb_9f43_705a0f3f1b44level1_row7\" class=\"row_heading level1 row7\" >Plan Jubilación</th>\n                        <td id=\"T_84695a4c_a11a_11eb_9f43_705a0f3f1b44row7_col0\" class=\"data row7 col0\" >          193,500.00€</td>\n                        <td id=\"T_84695a4c_a11a_11eb_9f43_705a0f3f1b44row7_col1\" class=\"data row7 col1\" >         +163,930.00€</td>\n            </tr>\n    </tbody></table>"
     },
     "metadata": {},
     "execution_count": 54
    }
   ],
   "source": [
    "variación_cuenta=pd.DataFrame(data.groupby([\"Año\",\"Tipo_Cta\"]).Importe.sum())\n",
    "variación_cuenta[\"Variación\"]=variación_cuenta.diff(periods=4)\n",
    "variación_cuenta=variación_cuenta.style.background_gradient(cmap=cm_g,high=True, subset='Importe').format({'Importe': \"{:20,.2f}€\", 'Variación': '{:+20,.2f}€'}, )\n",
    "variación_cuenta=variación_cuenta.applymap(color_negative_red)\n",
    "variación_cuenta"
   ]
  },
  {
   "cell_type": "raw",
   "metadata": {},
   "source": [
    "Respuesta:\n",
    "\n",
    "Cuenta Corriente: +1,016,200.00€\n",
    "Cuenta Vivienda:    -570,770.00€\n",
    "Fondo Inversión:    -162,600.00€\n",
    "Plan Jubilación:    +163,930.00€"
   ]
  },
  {
   "cell_type": "code",
   "execution_count": 60,
   "metadata": {},
   "outputs": [
    {
     "output_type": "execute_result",
     "data": {
      "text/plain": [
       "MultiIndex(levels=[[2010, 2011], ['Corriente', 'Cuenta Vivienda', 'Fondo Inversión', 'Plan Jubilación']],\n",
       "           codes=[[0, 0, 0, 0, 1, 1, 1, 1], [0, 1, 2, 3, 0, 1, 2, 3]],\n",
       "           names=['Año', 'Tipo_Cta'])"
      ]
     },
     "metadata": {},
     "execution_count": 60
    }
   ],
   "source": [
    "variación_cuenta.index"
   ]
  },
  {
   "cell_type": "code",
   "execution_count": 61,
   "metadata": {},
   "outputs": [
    {
     "output_type": "execute_result",
     "data": {
      "text/plain": [
       "                      Importe  Variación\n",
       "Año  Tipo_Cta                           \n",
       "2010 Corriente         164800        NaN\n",
       "     Cuenta Vivienda  1103770        NaN\n",
       "     Fondo Inversión   933100        NaN\n",
       "     Plan Jubilación    29570        NaN"
      ],
      "text/html": "<div>\n<style scoped>\n    .dataframe tbody tr th:only-of-type {\n        vertical-align: middle;\n    }\n\n    .dataframe tbody tr th {\n        vertical-align: top;\n    }\n\n    .dataframe thead th {\n        text-align: right;\n    }\n</style>\n<table border=\"1\" class=\"dataframe\">\n  <thead>\n    <tr style=\"text-align: right;\">\n      <th></th>\n      <th></th>\n      <th>Importe</th>\n      <th>Variación</th>\n    </tr>\n    <tr>\n      <th>Año</th>\n      <th>Tipo_Cta</th>\n      <th></th>\n      <th></th>\n    </tr>\n  </thead>\n  <tbody>\n    <tr>\n      <th rowspan=\"4\" valign=\"top\">2010</th>\n      <th>Corriente</th>\n      <td>164800</td>\n      <td>NaN</td>\n    </tr>\n    <tr>\n      <th>Cuenta Vivienda</th>\n      <td>1103770</td>\n      <td>NaN</td>\n    </tr>\n    <tr>\n      <th>Fondo Inversión</th>\n      <td>933100</td>\n      <td>NaN</td>\n    </tr>\n    <tr>\n      <th>Plan Jubilación</th>\n      <td>29570</td>\n      <td>NaN</td>\n    </tr>\n  </tbody>\n</table>\n</div>"
     },
     "metadata": {},
     "execution_count": 61
    }
   ],
   "source": [
    "variación_cuenta.data.query('Año == 2010')"
   ]
  },
  {
   "cell_type": "markdown",
   "metadata": {},
   "source": [
    "### 3.\t¿Cómo se distribuye el importe según las sucursales? ¿y en porcentajes? ¿Qué sucursal ha ingresado más?"
   ]
  },
  {
   "cell_type": "code",
   "execution_count": 62,
   "metadata": {},
   "outputs": [],
   "source": [
    "# Distribución del importe según las sucursales (años 2010-2011)"
   ]
  },
  {
   "cell_type": "code",
   "execution_count": 63,
   "metadata": {},
   "outputs": [
    {
     "output_type": "execute_result",
     "data": {
      "text/plain": [
       "<pandas.io.formats.style.Styler at 0x25d5f885cc0>"
      ],
      "text/html": "<style  type=\"text/css\" >\n    #T_e2aadd58_a117_11eb_ac5a_705a0f3f1b44row0_col0 {\n            background-color:  #72bf72;\n            color:  #000000;\n            color:  green;\n        }    #T_e2aadd58_a117_11eb_ac5a_705a0f3f1b44row1_col0 {\n            background-color:  #82c882;\n            color:  #000000;\n            color:  green;\n        }    #T_e2aadd58_a117_11eb_ac5a_705a0f3f1b44row2_col0 {\n            background-color:  #90d090;\n            color:  #000000;\n            color:  green;\n        }    #T_e2aadd58_a117_11eb_ac5a_705a0f3f1b44row3_col0 {\n            background-color:  #e5ffe5;\n            color:  #000000;\n            color:  green;\n        }</style><table id=\"T_e2aadd58_a117_11eb_ac5a_705a0f3f1b44\" ><thead>    <tr>        <th class=\"blank level0\" ></th>        <th class=\"col_heading level0 col0\" >Importe</th>    </tr>    <tr>        <th class=\"index_name level0\" >Sucursal</th>        <th class=\"blank\" ></th>    </tr></thead><tbody>\n                <tr>\n                        <th id=\"T_e2aadd58_a117_11eb_ac5a_705a0f3f1b44level0_row0\" class=\"row_heading level0 row0\" >Barcelona</th>\n                        <td id=\"T_e2aadd58_a117_11eb_ac5a_705a0f3f1b44row0_col0\" class=\"data row0 col0\" >        1,651,500.00€</td>\n            </tr>\n            <tr>\n                        <th id=\"T_e2aadd58_a117_11eb_ac5a_705a0f3f1b44level0_row1\" class=\"row_heading level0 row1\" >Pamplona</th>\n                        <td id=\"T_e2aadd58_a117_11eb_ac5a_705a0f3f1b44row1_col0\" class=\"data row1 col0\" >        1,493,520.00€</td>\n            </tr>\n            <tr>\n                        <th id=\"T_e2aadd58_a117_11eb_ac5a_705a0f3f1b44level0_row2\" class=\"row_heading level0 row2\" >Madrid</th>\n                        <td id=\"T_e2aadd58_a117_11eb_ac5a_705a0f3f1b44row2_col0\" class=\"data row2 col0\" >        1,339,670.00€</td>\n            </tr>\n            <tr>\n                        <th id=\"T_e2aadd58_a117_11eb_ac5a_705a0f3f1b44level0_row3\" class=\"row_heading level0 row3\" >Salamanca</th>\n                        <td id=\"T_e2aadd58_a117_11eb_ac5a_705a0f3f1b44row3_col0\" class=\"data row3 col0\" >          424,550.00€</td>\n            </tr>\n    </tbody></table>"
     },
     "metadata": {},
     "execution_count": 63
    }
   ],
   "source": [
    "importe_sucursales=pd.DataFrame(data.groupby([\"Sucursal\"]).Importe.sum()).sort_values(\"Importe\",ascending=False).head()\n",
    "importe_sucursales=importe_sucursales.style.background_gradient(cmap=cm_g,high=True,subset='Importe').format({'Importe': \"{:20,.2f}€\", 'Variación': '{:+20,.2f}€'}) \n",
    "importe_sucursales=importe_sucursales.applymap(color_negative_red)\n",
    "importe_sucursales"
   ]
  },
  {
   "cell_type": "raw",
   "metadata": {},
   "source": [
    "Respuesta:\n",
    "\n",
    "Barcelona: 1.651.500€\n",
    "Pamplona:  1.493.520€\n",
    "Madrid:    1.339.670€\n",
    "Salamanca:   424.550€"
   ]
  },
  {
   "cell_type": "code",
   "execution_count": 64,
   "metadata": {},
   "outputs": [],
   "source": [
    "# Distribución del importe según las sucursales (años 2010-2011) en porcentajes"
   ]
  },
  {
   "cell_type": "code",
   "execution_count": 65,
   "metadata": {},
   "outputs": [
    {
     "output_type": "execute_result",
     "data": {
      "text/plain": [
       "<pandas.io.formats.style.Styler at 0x25d5f87dcc0>"
      ],
      "text/html": "<style  type=\"text/css\" >\n    #T_e3698c52_a117_11eb_b10c_705a0f3f1b44row0_col1 {\n            background-color:  #7373ff;\n            color:  #000000;\n        }    #T_e3698c52_a117_11eb_b10c_705a0f3f1b44row1_col1 {\n            background-color:  #8282ff;\n            color:  #000000;\n        }    #T_e3698c52_a117_11eb_b10c_705a0f3f1b44row2_col1 {\n            background-color:  #9090ff;\n            color:  #000000;\n        }    #T_e3698c52_a117_11eb_b10c_705a0f3f1b44row3_col1 {\n            background-color:  #e5e5ff;\n            color:  #000000;\n        }</style><table id=\"T_e3698c52_a117_11eb_b10c_705a0f3f1b44\" ><thead>    <tr>        <th class=\"blank level0\" ></th>        <th class=\"col_heading level0 col0\" >Importe</th>        <th class=\"col_heading level0 col1\" >Porcentaje</th>    </tr>    <tr>        <th class=\"index_name level0\" >Sucursal</th>        <th class=\"blank\" ></th>        <th class=\"blank\" ></th>    </tr></thead><tbody>\n                <tr>\n                        <th id=\"T_e3698c52_a117_11eb_b10c_705a0f3f1b44level0_row0\" class=\"row_heading level0 row0\" >Barcelona</th>\n                        <td id=\"T_e3698c52_a117_11eb_b10c_705a0f3f1b44row0_col0\" class=\"data row0 col0\" >        1,651,500.00€</td>\n                        <td id=\"T_e3698c52_a117_11eb_b10c_705a0f3f1b44row0_col1\" class=\"data row0 col1\" >33.641%</td>\n            </tr>\n            <tr>\n                        <th id=\"T_e3698c52_a117_11eb_b10c_705a0f3f1b44level0_row1\" class=\"row_heading level0 row1\" >Pamplona</th>\n                        <td id=\"T_e3698c52_a117_11eb_b10c_705a0f3f1b44row1_col0\" class=\"data row1 col0\" >        1,493,520.00€</td>\n                        <td id=\"T_e3698c52_a117_11eb_b10c_705a0f3f1b44row1_col1\" class=\"data row1 col1\" >30.423%</td>\n            </tr>\n            <tr>\n                        <th id=\"T_e3698c52_a117_11eb_b10c_705a0f3f1b44level0_row2\" class=\"row_heading level0 row2\" >Madrid</th>\n                        <td id=\"T_e3698c52_a117_11eb_b10c_705a0f3f1b44row2_col0\" class=\"data row2 col0\" >        1,339,670.00€</td>\n                        <td id=\"T_e3698c52_a117_11eb_b10c_705a0f3f1b44row2_col1\" class=\"data row2 col1\" >27.289%</td>\n            </tr>\n            <tr>\n                        <th id=\"T_e3698c52_a117_11eb_b10c_705a0f3f1b44level0_row3\" class=\"row_heading level0 row3\" >Salamanca</th>\n                        <td id=\"T_e3698c52_a117_11eb_b10c_705a0f3f1b44row3_col0\" class=\"data row3 col0\" >          424,550.00€</td>\n                        <td id=\"T_e3698c52_a117_11eb_b10c_705a0f3f1b44row3_col1\" class=\"data row3 col1\" >8.648%</td>\n            </tr>\n    </tbody></table>"
     },
     "metadata": {},
     "execution_count": 65
    }
   ],
   "source": [
    "importe_porcentaje=pd.DataFrame(data.groupby([\"Sucursal\"]).Importe.sum()).sort_values(\"Importe\",ascending=False).tail()\n",
    "importe_porcentaje[\"Porcentaje\"]=importe_porcentaje.apply(lambda x:x/(importe_porcentaje.Importe.sum()))\n",
    "importe_porcentaje=importe_porcentaje.style.background_gradient(cmap=cm_b,high=True,subset='Porcentaje').format({'Importe': \"{:20,.2f}€\", 'Porcentaje': '{:.3%}'}) \n",
    "importe_porcentaje"
   ]
  },
  {
   "cell_type": "raw",
   "metadata": {},
   "source": [
    "Respuesta:\n",
    "    \n",
    "Barcelona: 33.641 %\n",
    "Pamplona:  30.423 %\n",
    "Madrid:    27.289 %\n",
    "Salamanca:  8.648 %"
   ]
  },
  {
   "cell_type": "code",
   "execution_count": 66,
   "metadata": {},
   "outputs": [],
   "source": [
    "# ¿Qué sucursal ha ingresado más?"
   ]
  },
  {
   "cell_type": "code",
   "execution_count": 68,
   "metadata": {},
   "outputs": [
    {
     "output_type": "execute_result",
     "data": {
      "text/plain": [
       "<pandas.io.formats.style.Styler at 0x25d5f9219b0>"
      ],
      "text/html": "<style  type=\"text/css\" >\n    #T_e8be3052_a117_11eb_b33f_705a0f3f1b44row0_col1 {\n            background-color:  #e5e5ff;\n            color:  #000000;\n        }</style><table id=\"T_e8be3052_a117_11eb_b33f_705a0f3f1b44\" ><thead>    <tr>        <th class=\"blank level0\" ></th>        <th class=\"col_heading level0 col0\" >Importe</th>        <th class=\"col_heading level0 col1\" >Porcentaje</th>    </tr>    <tr>        <th class=\"index_name level0\" >Sucursal</th>        <th class=\"blank\" ></th>        <th class=\"blank\" ></th>    </tr></thead><tbody>\n                <tr>\n                        <th id=\"T_e8be3052_a117_11eb_b33f_705a0f3f1b44level0_row0\" class=\"row_heading level0 row0\" >Barcelona</th>\n                        <td id=\"T_e8be3052_a117_11eb_b33f_705a0f3f1b44row0_col0\" class=\"data row0 col0\" >        1,651,500.00€</td>\n                        <td id=\"T_e8be3052_a117_11eb_b33f_705a0f3f1b44row0_col1\" class=\"data row0 col1\" >33.641%</td>\n            </tr>\n    </tbody></table>"
     },
     "metadata": {},
     "execution_count": 68
    }
   ],
   "source": [
    "max_importe=pd.DataFrame(data.groupby([\"Sucursal\"]).Importe.sum()).sort_values(\"Importe\",ascending=False).tail()\n",
    "max_importe[\"Porcentaje\"]=max_importe.apply(lambda x:x/(max_importe.Importe.sum()))\n",
    "max_importe=max_importe.head(1)\n",
    "max_importe=max_importe.style.background_gradient(cmap=cm_b,high=True,subset='Porcentaje').format({'Importe': \"{:20,.2f}€\", 'Porcentaje': '{:.3%}'}) \n",
    "max_importe"
   ]
  },
  {
   "cell_type": "raw",
   "metadata": {},
   "source": [
    "Resultado:\n",
    "\n",
    "Barcelona ha ingresado una mayor cantidad con 1,651,500.00€ (33.641% de todas las sucursales)"
   ]
  },
  {
   "cell_type": "markdown",
   "metadata": {},
   "source": [
    "### 4. ¿Y por tipo de cuenta bancaria? ¿Qué tipo de cuenta habría que fortalecer?"
   ]
  },
  {
   "cell_type": "code",
   "execution_count": 69,
   "metadata": {},
   "outputs": [],
   "source": [
    "# Distribución del importe según tipo de cuenta bancaria (años 2010-2011)"
   ]
  },
  {
   "cell_type": "code",
   "execution_count": 71,
   "metadata": {},
   "outputs": [
    {
     "output_type": "execute_result",
     "data": {
      "text/plain": [
       "<pandas.io.formats.style.Styler at 0x25d5f87ddd8>"
      ],
      "text/html": "<style  type=\"text/css\" >\n    #T_ec20f89e_a117_11eb_9355_705a0f3f1b44row0_col1 {\n            background-color:  #7272ff;\n            color:  #000000;\n        }    #T_ec20f89e_a117_11eb_9355_705a0f3f1b44row1_col1 {\n            background-color:  #7878ff;\n            color:  #000000;\n        }    #T_ec20f89e_a117_11eb_9355_705a0f3f1b44row2_col1 {\n            background-color:  #8e8eff;\n            color:  #000000;\n        }    #T_ec20f89e_a117_11eb_9355_705a0f3f1b44row3_col1 {\n            background-color:  #e5e5ff;\n            color:  #000000;\n        }</style><table id=\"T_ec20f89e_a117_11eb_9355_705a0f3f1b44\" ><thead>    <tr>        <th class=\"blank level0\" ></th>        <th class=\"col_heading level0 col0\" >Importe</th>        <th class=\"col_heading level0 col1\" >Porcentaje</th>    </tr>    <tr>        <th class=\"index_name level0\" >Tipo_Cta</th>        <th class=\"blank\" ></th>        <th class=\"blank\" ></th>    </tr></thead><tbody>\n                <tr>\n                        <th id=\"T_ec20f89e_a117_11eb_9355_705a0f3f1b44level0_row0\" class=\"row_heading level0 row0\" >Fondo Inversión</th>\n                        <td id=\"T_ec20f89e_a117_11eb_9355_705a0f3f1b44row0_col0\" class=\"data row0 col0\" >        1,703,600.00€</td>\n                        <td id=\"T_ec20f89e_a117_11eb_9355_705a0f3f1b44row0_col1\" class=\"data row0 col1\" >34.702%</td>\n            </tr>\n            <tr>\n                        <th id=\"T_ec20f89e_a117_11eb_9355_705a0f3f1b44level0_row1\" class=\"row_heading level0 row1\" >Cuenta Vivienda</th>\n                        <td id=\"T_ec20f89e_a117_11eb_9355_705a0f3f1b44row1_col0\" class=\"data row1 col0\" >        1,636,770.00€</td>\n                        <td id=\"T_ec20f89e_a117_11eb_9355_705a0f3f1b44row1_col1\" class=\"data row1 col1\" >33.341%</td>\n            </tr>\n            <tr>\n                        <th id=\"T_ec20f89e_a117_11eb_9355_705a0f3f1b44level0_row2\" class=\"row_heading level0 row2\" >Corriente</th>\n                        <td id=\"T_ec20f89e_a117_11eb_9355_705a0f3f1b44row2_col0\" class=\"data row2 col0\" >        1,345,800.00€</td>\n                        <td id=\"T_ec20f89e_a117_11eb_9355_705a0f3f1b44row2_col1\" class=\"data row2 col1\" >27.414%</td>\n            </tr>\n            <tr>\n                        <th id=\"T_ec20f89e_a117_11eb_9355_705a0f3f1b44level0_row3\" class=\"row_heading level0 row3\" >Plan Jubilación</th>\n                        <td id=\"T_ec20f89e_a117_11eb_9355_705a0f3f1b44row3_col0\" class=\"data row3 col0\" >          223,070.00€</td>\n                        <td id=\"T_ec20f89e_a117_11eb_9355_705a0f3f1b44row3_col1\" class=\"data row3 col1\" >4.544%</td>\n            </tr>\n    </tbody></table>"
     },
     "metadata": {},
     "execution_count": 71
    }
   ],
   "source": [
    "importe_cta=pd.DataFrame(data.groupby([\"Tipo_Cta\"]).Importe.sum()).sort_values(\"Importe\",ascending=False).tail()\n",
    "importe_cta[\"Porcentaje\"]=importe_cta.apply(lambda x:x/(importe_cta.Importe.sum()))\n",
    "importe_cta=importe_cta.style.background_gradient(cmap=cm_b,high=True,subset='Porcentaje').format({'Importe': \"{:20,.2f}€\", 'Porcentaje': '{:.3%}'}) \n",
    "importe_cta\n"
   ]
  },
  {
   "cell_type": "raw",
   "metadata": {},
   "source": [
    "Respuesta:\n",
    "    \n",
    "Fondo Inversión:   1,703,600.00€    (34.702%)\n",
    "Cuenta Vivienda:   1,636,770.00€    (33.341%)\n",
    "Corriente:         1,345,800.00€   \t(27.414%)\n",
    "Plan Jubilación\t:    223,070.00€     (4.544%)"
   ]
  },
  {
   "cell_type": "code",
   "execution_count": 72,
   "metadata": {},
   "outputs": [],
   "source": [
    "# Tipo de cuenta a fortalecer"
   ]
  },
  {
   "cell_type": "code",
   "execution_count": 74,
   "metadata": {},
   "outputs": [
    {
     "output_type": "execute_result",
     "data": {
      "text/plain": [
       "<pandas.io.formats.style.Styler at 0x25d5f88e358>"
      ],
      "text/html": "<style  type=\"text/css\" >\n    #T_f124331c_a117_11eb_8466_705a0f3f1b44row0_col1 {\n            background-color:  #e5e5ff;\n            color:  #000000;\n        }</style><table id=\"T_f124331c_a117_11eb_8466_705a0f3f1b44\" ><thead>    <tr>        <th class=\"blank level0\" ></th>        <th class=\"col_heading level0 col0\" >Importe</th>        <th class=\"col_heading level0 col1\" >Porcentaje</th>    </tr>    <tr>        <th class=\"index_name level0\" >Tipo_Cta</th>        <th class=\"blank\" ></th>        <th class=\"blank\" ></th>    </tr></thead><tbody>\n                <tr>\n                        <th id=\"T_f124331c_a117_11eb_8466_705a0f3f1b44level0_row0\" class=\"row_heading level0 row0\" >Plan Jubilación</th>\n                        <td id=\"T_f124331c_a117_11eb_8466_705a0f3f1b44row0_col0\" class=\"data row0 col0\" >          223,070.00€</td>\n                        <td id=\"T_f124331c_a117_11eb_8466_705a0f3f1b44row0_col1\" class=\"data row0 col1\" >4.544%</td>\n            </tr>\n    </tbody></table>"
     },
     "metadata": {},
     "execution_count": 74
    }
   ],
   "source": [
    "cuenta_fortalecer=pd.DataFrame(data.groupby([\"Tipo_Cta\"]).Importe.sum()).sort_values(\"Importe\",ascending=False).tail()\n",
    "cuenta_fortalecer[\"Porcentaje\"]=cuenta_fortalecer.apply(lambda x:x/(cuenta_fortalecer.Importe.sum()))\n",
    "cuenta_fortalecer=cuenta_fortalecer.tail(1)\n",
    "cuenta_fortalecer=cuenta_fortalecer.style.background_gradient(cmap=cm_b,high=True,subset='Porcentaje').format({'Importe': \"{:20,.2f}€\", 'Porcentaje': '{:.3%}'}) \n",
    "cuenta_fortalecer"
   ]
  },
  {
   "cell_type": "raw",
   "metadata": {},
   "source": [
    "Resultado:\n",
    "\n",
    "El tipo de cuenta con menores importes es el Plan Jubilación con 223,070.00€ (4.544% de todos los tipos de cuenta) por lo que habría que fortalecer dicha cuenta."
   ]
  },
  {
   "cell_type": "markdown",
   "metadata": {},
   "source": [
    "### 5.\t¿Cómo se distribuyen los tipos de cuenta según ciudad? "
   ]
  },
  {
   "cell_type": "code",
   "execution_count": 75,
   "metadata": {},
   "outputs": [],
   "source": [
    "# Distribución de los tipos de cuenta según ciudad"
   ]
  },
  {
   "cell_type": "code",
   "execution_count": 120,
   "metadata": {},
   "outputs": [
    {
     "output_type": "execute_result",
     "data": {
      "text/plain": [
       "<pandas.io.formats.style.Styler at 0x25d61aac048>"
      ],
      "text/html": "<style  type=\"text/css\" >\n    #T_f4ef1a10_a118_11eb_ad2b_705a0f3f1b44row0_col0 {\n            background-color:  #d29494;\n            color:  #000000;\n        }    #T_f4ef1a10_a118_11eb_ad2b_705a0f3f1b44row0_col1 {\n            background-color:  #d29494;\n            color:  #000000;\n        }    #T_f4ef1a10_a118_11eb_ad2b_705a0f3f1b44row1_col0 {\n            background-color:  #e4b5b5;\n            color:  #000000;\n        }    #T_f4ef1a10_a118_11eb_ad2b_705a0f3f1b44row1_col1 {\n            background-color:  #e4b5b5;\n            color:  #000000;\n        }    #T_f4ef1a10_a118_11eb_ad2b_705a0f3f1b44row2_col0 {\n            background-color:  #dba4a4;\n            color:  #000000;\n        }    #T_f4ef1a10_a118_11eb_ad2b_705a0f3f1b44row2_col1 {\n            background-color:  #dba4a4;\n            color:  #000000;\n        }    #T_f4ef1a10_a118_11eb_ad2b_705a0f3f1b44row3_col0 {\n            background-color:  #800000;\n            color:  #f1f1f1;\n        }    #T_f4ef1a10_a118_11eb_ad2b_705a0f3f1b44row3_col1 {\n            background-color:  #800000;\n            color:  #f1f1f1;\n        }    #T_f4ef1a10_a118_11eb_ad2b_705a0f3f1b44row4_col0 {\n            background-color:  #edc5c5;\n            color:  #000000;\n        }    #T_f4ef1a10_a118_11eb_ad2b_705a0f3f1b44row4_col1 {\n            background-color:  #edc5c5;\n            color:  #000000;\n        }    #T_f4ef1a10_a118_11eb_ad2b_705a0f3f1b44row5_col0 {\n            background-color:  #f6d5d5;\n            color:  #000000;\n        }    #T_f4ef1a10_a118_11eb_ad2b_705a0f3f1b44row5_col1 {\n            background-color:  #f6d5d5;\n            color:  #000000;\n        }    #T_f4ef1a10_a118_11eb_ad2b_705a0f3f1b44row6_col0 {\n            background-color:  #f6d5d5;\n            color:  #000000;\n        }    #T_f4ef1a10_a118_11eb_ad2b_705a0f3f1b44row6_col1 {\n            background-color:  #f6d5d5;\n            color:  #000000;\n        }    #T_f4ef1a10_a118_11eb_ad2b_705a0f3f1b44row7_col0 {\n            background-color:  #9b3131;\n            color:  #f1f1f1;\n        }    #T_f4ef1a10_a118_11eb_ad2b_705a0f3f1b44row7_col1 {\n            background-color:  #9b3131;\n            color:  #f1f1f1;\n        }    #T_f4ef1a10_a118_11eb_ad2b_705a0f3f1b44row8_col0 {\n            background-color:  #d29494;\n            color:  #000000;\n        }    #T_f4ef1a10_a118_11eb_ad2b_705a0f3f1b44row8_col1 {\n            background-color:  #d29494;\n            color:  #000000;\n        }    #T_f4ef1a10_a118_11eb_ad2b_705a0f3f1b44row9_col0 {\n            background-color:  #ad5252;\n            color:  #f1f1f1;\n        }    #T_f4ef1a10_a118_11eb_ad2b_705a0f3f1b44row9_col1 {\n            background-color:  #ad5252;\n            color:  #f1f1f1;\n        }    #T_f4ef1a10_a118_11eb_ad2b_705a0f3f1b44row10_col0 {\n            background-color:  #e4b5b5;\n            color:  #000000;\n        }    #T_f4ef1a10_a118_11eb_ad2b_705a0f3f1b44row10_col1 {\n            background-color:  #e4b5b5;\n            color:  #000000;\n        }    #T_f4ef1a10_a118_11eb_ad2b_705a0f3f1b44row11_col0 {\n            background-color:  #9b3131;\n            color:  #f1f1f1;\n        }    #T_f4ef1a10_a118_11eb_ad2b_705a0f3f1b44row11_col1 {\n            background-color:  #9b3131;\n            color:  #f1f1f1;\n        }    #T_f4ef1a10_a118_11eb_ad2b_705a0f3f1b44row12_col0 {\n            background-color:  #f6d5d5;\n            color:  #000000;\n        }    #T_f4ef1a10_a118_11eb_ad2b_705a0f3f1b44row12_col1 {\n            background-color:  #f6d5d5;\n            color:  #000000;\n        }    #T_f4ef1a10_a118_11eb_ad2b_705a0f3f1b44row13_col0 {\n            background-color:  #dba4a4;\n            color:  #000000;\n        }    #T_f4ef1a10_a118_11eb_ad2b_705a0f3f1b44row13_col1 {\n            background-color:  #dba4a4;\n            color:  #000000;\n        }    #T_f4ef1a10_a118_11eb_ad2b_705a0f3f1b44row14_col0 {\n            background-color:  #ffe5e5;\n            color:  #000000;\n        }    #T_f4ef1a10_a118_11eb_ad2b_705a0f3f1b44row14_col1 {\n            background-color:  #ffe5e5;\n            color:  #000000;\n        }</style><table id=\"T_f4ef1a10_a118_11eb_ad2b_705a0f3f1b44\" ><thead>    <tr>        <th class=\"blank\" ></th>        <th class=\"blank level0\" ></th>        <th class=\"col_heading level0 col0\" >Núm_Ingresos</th>        <th class=\"col_heading level0 col1\" >%Núm_Ingresos</th>    </tr>    <tr>        <th class=\"index_name level0\" >Sucursal</th>        <th class=\"index_name level1\" >Tipo_Cta</th>        <th class=\"blank\" ></th>        <th class=\"blank\" ></th>    </tr></thead><tbody>\n                <tr>\n                        <th id=\"T_f4ef1a10_a118_11eb_ad2b_705a0f3f1b44level0_row0\" class=\"row_heading level0 row0\" rowspan=3>Barcelona</th>\n                        <th id=\"T_f4ef1a10_a118_11eb_ad2b_705a0f3f1b44level1_row0\" class=\"row_heading level1 row0\" >Corriente</th>\n                        <td id=\"T_f4ef1a10_a118_11eb_ad2b_705a0f3f1b44row0_col0\" class=\"data row0 col0\" >16</td>\n                        <td id=\"T_f4ef1a10_a118_11eb_ad2b_705a0f3f1b44row0_col1\" class=\"data row0 col1\" >6.723%</td>\n            </tr>\n            <tr>\n                                <th id=\"T_f4ef1a10_a118_11eb_ad2b_705a0f3f1b44level1_row1\" class=\"row_heading level1 row1\" >Cuenta Vivienda</th>\n                        <td id=\"T_f4ef1a10_a118_11eb_ad2b_705a0f3f1b44row1_col0\" class=\"data row1 col0\" >12</td>\n                        <td id=\"T_f4ef1a10_a118_11eb_ad2b_705a0f3f1b44row1_col1\" class=\"data row1 col1\" >5.042%</td>\n            </tr>\n            <tr>\n                                <th id=\"T_f4ef1a10_a118_11eb_ad2b_705a0f3f1b44level1_row2\" class=\"row_heading level1 row2\" >Fondo Inversión</th>\n                        <td id=\"T_f4ef1a10_a118_11eb_ad2b_705a0f3f1b44row2_col0\" class=\"data row2 col0\" >14</td>\n                        <td id=\"T_f4ef1a10_a118_11eb_ad2b_705a0f3f1b44row2_col1\" class=\"data row2 col1\" >5.882%</td>\n            </tr>\n            <tr>\n                        <th id=\"T_f4ef1a10_a118_11eb_ad2b_705a0f3f1b44level0_row3\" class=\"row_heading level0 row3\" rowspan=4>Madrid</th>\n                        <th id=\"T_f4ef1a10_a118_11eb_ad2b_705a0f3f1b44level1_row3\" class=\"row_heading level1 row3\" >Corriente</th>\n                        <td id=\"T_f4ef1a10_a118_11eb_ad2b_705a0f3f1b44row3_col0\" class=\"data row3 col0\" >34</td>\n                        <td id=\"T_f4ef1a10_a118_11eb_ad2b_705a0f3f1b44row3_col1\" class=\"data row3 col1\" >14.286%</td>\n            </tr>\n            <tr>\n                                <th id=\"T_f4ef1a10_a118_11eb_ad2b_705a0f3f1b44level1_row4\" class=\"row_heading level1 row4\" >Cuenta Vivienda</th>\n                        <td id=\"T_f4ef1a10_a118_11eb_ad2b_705a0f3f1b44row4_col0\" class=\"data row4 col0\" >10</td>\n                        <td id=\"T_f4ef1a10_a118_11eb_ad2b_705a0f3f1b44row4_col1\" class=\"data row4 col1\" >4.202%</td>\n            </tr>\n            <tr>\n                                <th id=\"T_f4ef1a10_a118_11eb_ad2b_705a0f3f1b44level1_row5\" class=\"row_heading level1 row5\" >Fondo Inversión</th>\n                        <td id=\"T_f4ef1a10_a118_11eb_ad2b_705a0f3f1b44row5_col0\" class=\"data row5 col0\" >8</td>\n                        <td id=\"T_f4ef1a10_a118_11eb_ad2b_705a0f3f1b44row5_col1\" class=\"data row5 col1\" >3.361%</td>\n            </tr>\n            <tr>\n                                <th id=\"T_f4ef1a10_a118_11eb_ad2b_705a0f3f1b44level1_row6\" class=\"row_heading level1 row6\" >Plan Jubilación</th>\n                        <td id=\"T_f4ef1a10_a118_11eb_ad2b_705a0f3f1b44row6_col0\" class=\"data row6 col0\" >8</td>\n                        <td id=\"T_f4ef1a10_a118_11eb_ad2b_705a0f3f1b44row6_col1\" class=\"data row6 col1\" >3.361%</td>\n            </tr>\n            <tr>\n                        <th id=\"T_f4ef1a10_a118_11eb_ad2b_705a0f3f1b44level0_row7\" class=\"row_heading level0 row7\" rowspan=4>Pamplona</th>\n                        <th id=\"T_f4ef1a10_a118_11eb_ad2b_705a0f3f1b44level1_row7\" class=\"row_heading level1 row7\" >Corriente</th>\n                        <td id=\"T_f4ef1a10_a118_11eb_ad2b_705a0f3f1b44row7_col0\" class=\"data row7 col0\" >28</td>\n                        <td id=\"T_f4ef1a10_a118_11eb_ad2b_705a0f3f1b44row7_col1\" class=\"data row7 col1\" >11.765%</td>\n            </tr>\n            <tr>\n                                <th id=\"T_f4ef1a10_a118_11eb_ad2b_705a0f3f1b44level1_row8\" class=\"row_heading level1 row8\" >Cuenta Vivienda</th>\n                        <td id=\"T_f4ef1a10_a118_11eb_ad2b_705a0f3f1b44row8_col0\" class=\"data row8 col0\" >16</td>\n                        <td id=\"T_f4ef1a10_a118_11eb_ad2b_705a0f3f1b44row8_col1\" class=\"data row8 col1\" >6.723%</td>\n            </tr>\n            <tr>\n                                <th id=\"T_f4ef1a10_a118_11eb_ad2b_705a0f3f1b44level1_row9\" class=\"row_heading level1 row9\" >Fondo Inversión</th>\n                        <td id=\"T_f4ef1a10_a118_11eb_ad2b_705a0f3f1b44row9_col0\" class=\"data row9 col0\" >24</td>\n                        <td id=\"T_f4ef1a10_a118_11eb_ad2b_705a0f3f1b44row9_col1\" class=\"data row9 col1\" >10.084%</td>\n            </tr>\n            <tr>\n                                <th id=\"T_f4ef1a10_a118_11eb_ad2b_705a0f3f1b44level1_row10\" class=\"row_heading level1 row10\" >Plan Jubilación</th>\n                        <td id=\"T_f4ef1a10_a118_11eb_ad2b_705a0f3f1b44row10_col0\" class=\"data row10 col0\" >12</td>\n                        <td id=\"T_f4ef1a10_a118_11eb_ad2b_705a0f3f1b44row10_col1\" class=\"data row10 col1\" >5.042%</td>\n            </tr>\n            <tr>\n                        <th id=\"T_f4ef1a10_a118_11eb_ad2b_705a0f3f1b44level0_row11\" class=\"row_heading level0 row11\" rowspan=4>Salamanca</th>\n                        <th id=\"T_f4ef1a10_a118_11eb_ad2b_705a0f3f1b44level1_row11\" class=\"row_heading level1 row11\" >Corriente</th>\n                        <td id=\"T_f4ef1a10_a118_11eb_ad2b_705a0f3f1b44row11_col0\" class=\"data row11 col0\" >28</td>\n                        <td id=\"T_f4ef1a10_a118_11eb_ad2b_705a0f3f1b44row11_col1\" class=\"data row11 col1\" >11.765%</td>\n            </tr>\n            <tr>\n                                <th id=\"T_f4ef1a10_a118_11eb_ad2b_705a0f3f1b44level1_row12\" class=\"row_heading level1 row12\" >Cuenta Vivienda</th>\n                        <td id=\"T_f4ef1a10_a118_11eb_ad2b_705a0f3f1b44row12_col0\" class=\"data row12 col0\" >8</td>\n                        <td id=\"T_f4ef1a10_a118_11eb_ad2b_705a0f3f1b44row12_col1\" class=\"data row12 col1\" >3.361%</td>\n            </tr>\n            <tr>\n                                <th id=\"T_f4ef1a10_a118_11eb_ad2b_705a0f3f1b44level1_row13\" class=\"row_heading level1 row13\" >Fondo Inversión</th>\n                        <td id=\"T_f4ef1a10_a118_11eb_ad2b_705a0f3f1b44row13_col0\" class=\"data row13 col0\" >14</td>\n                        <td id=\"T_f4ef1a10_a118_11eb_ad2b_705a0f3f1b44row13_col1\" class=\"data row13 col1\" >5.882%</td>\n            </tr>\n            <tr>\n                                <th id=\"T_f4ef1a10_a118_11eb_ad2b_705a0f3f1b44level1_row14\" class=\"row_heading level1 row14\" >Plan Jubilación</th>\n                        <td id=\"T_f4ef1a10_a118_11eb_ad2b_705a0f3f1b44row14_col0\" class=\"data row14 col0\" >6</td>\n                        <td id=\"T_f4ef1a10_a118_11eb_ad2b_705a0f3f1b44row14_col1\" class=\"data row14 col1\" >2.521%</td>\n            </tr>\n    </tbody></table>"
     },
     "metadata": {},
     "execution_count": 120
    }
   ],
   "source": [
    "datos_ciudades=data.groupby([\"Sucursal\",\"Tipo_Cta\"]).Importe.agg(['count']).rename(columns={'count':'Núm_Ingresos'})\n",
    "datos_ciudades[\"%Núm_Ingresos\"]=datos_ciudades.Núm_Ingresos.apply(lambda x:x/(datos_ciudades.Núm_Ingresos.sum()))\n",
    "\n",
    "datos_ciudades_style=datos_ciudades.style.background_gradient(cmap=cm_crsn,high=False).format({'%Núm_Ingresos':'{:.3%}'})\n",
    "\n",
    "\n",
    "datos_ciudades_style\n"
   ]
  },
  {
   "cell_type": "raw",
   "metadata": {},
   "source": [
    "Respuesta:\n",
    "    \n",
    "En la tabla de arriba se ordenan por sucursal y en orden alfabético el número de ingresos que se realizan en los distintos tipos de cuenta. La intensidad del color de las celdas respresenta el peso de los datos. Además, se propociona un gráfico que permite visualizar el peso de los datos."
   ]
  },
  {
   "cell_type": "markdown",
   "metadata": {},
   "source": [
    "### 6.\t¿Qué tipo de cuenta es la más fuerte en cada ciudad?\n"
   ]
  },
  {
   "cell_type": "code",
   "execution_count": 83,
   "metadata": {},
   "outputs": [],
   "source": [
    "# Fuerza de tipos de cuenta por ciudad (ordenando las ciudades en órden alfabético)"
   ]
  },
  {
   "cell_type": "code",
   "execution_count": 85,
   "metadata": {},
   "outputs": [
    {
     "output_type": "execute_result",
     "data": {
      "text/plain": [
       "<pandas.io.formats.style.Styler at 0x25d5f153710>"
      ],
      "text/html": "<style  type=\"text/css\" >\n    #T_4cd5c5fe_a118_11eb_aaf1_705a0f3f1b44row0_col0 {\n            background-color:  #72bf72;\n            color:  #000000;\n            color:  green;\n        }    #T_4cd5c5fe_a118_11eb_aaf1_705a0f3f1b44row1_col0 {\n            background-color:  #7ec67e;\n            color:  #000000;\n            color:  green;\n        }    #T_4cd5c5fe_a118_11eb_aaf1_705a0f3f1b44row2_col0 {\n            background-color:  #9dd79d;\n            color:  #000000;\n            color:  green;\n        }    #T_4cd5c5fe_a118_11eb_aaf1_705a0f3f1b44row3_col0 {\n            background-color:  #e5ffe5;\n            color:  #000000;\n            color:  green;\n        }</style><table id=\"T_4cd5c5fe_a118_11eb_aaf1_705a0f3f1b44\" ><thead>    <tr>        <th class=\"blank\" ></th>        <th class=\"blank level0\" ></th>        <th class=\"col_heading level0 col0\" >Importe</th>    </tr>    <tr>        <th class=\"index_name level0\" >Sucursal</th>        <th class=\"index_name level1\" >Tipo_Cta</th>        <th class=\"blank\" ></th>    </tr></thead><tbody>\n                <tr>\n                        <th id=\"T_4cd5c5fe_a118_11eb_aaf1_705a0f3f1b44level0_row0\" class=\"row_heading level0 row0\" >Madrid</th>\n                        <th id=\"T_4cd5c5fe_a118_11eb_aaf1_705a0f3f1b44level1_row0\" class=\"row_heading level1 row0\" >Cuenta Vivienda</th>\n                        <td id=\"T_4cd5c5fe_a118_11eb_aaf1_705a0f3f1b44row0_col0\" class=\"data row0 col0\" >        1,037,070.00€</td>\n            </tr>\n            <tr>\n                        <th id=\"T_4cd5c5fe_a118_11eb_aaf1_705a0f3f1b44level0_row1\" class=\"row_heading level0 row1\" >Pamplona</th>\n                        <th id=\"T_4cd5c5fe_a118_11eb_aaf1_705a0f3f1b44level1_row1\" class=\"row_heading level1 row1\" >Fondo Inversión</th>\n                        <td id=\"T_4cd5c5fe_a118_11eb_aaf1_705a0f3f1b44row1_col0\" class=\"data row1 col0\" >          950,900.00€</td>\n            </tr>\n            <tr>\n                        <th id=\"T_4cd5c5fe_a118_11eb_aaf1_705a0f3f1b44level0_row2\" class=\"row_heading level0 row2\" >Barcelona</th>\n                        <th id=\"T_4cd5c5fe_a118_11eb_aaf1_705a0f3f1b44level1_row2\" class=\"row_heading level1 row2\" >Corriente</th>\n                        <td id=\"T_4cd5c5fe_a118_11eb_aaf1_705a0f3f1b44row2_col0\" class=\"data row2 col0\" >          723,400.00€</td>\n            </tr>\n            <tr>\n                        <th id=\"T_4cd5c5fe_a118_11eb_aaf1_705a0f3f1b44level0_row3\" class=\"row_heading level0 row3\" >Salamanca</th>\n                        <th id=\"T_4cd5c5fe_a118_11eb_aaf1_705a0f3f1b44level1_row3\" class=\"row_heading level1 row3\" >Plan Jubilación</th>\n                        <td id=\"T_4cd5c5fe_a118_11eb_aaf1_705a0f3f1b44row3_col0\" class=\"data row3 col0\" >          179,500.00€</td>\n            </tr>\n    </tbody></table>"
     },
     "metadata": {},
     "execution_count": 85
    }
   ],
   "source": [
    "cuenta_fuerte=data.groupby([\"Sucursal\",\"Tipo_Cta\"]).Importe.agg(['sum']).rename(columns={'sum':'Importe'})\n",
    "\n",
    "cuenta_fuerte_1=cuenta_fuerte.max(level=0).reset_index()\n",
    "cuenta_fuerte_2=pd.DataFrame(cuenta_fuerte.max(level=1).reset_index()[\"Tipo_Cta\"])\n",
    "cuenta_fuerte_1[\"Tipo_Cta\"]=cuenta_fuerte_2[\"Tipo_Cta\"]\n",
    "cuenta_fuerte=cuenta_fuerte_1\n",
    "\n",
    "cuenta_fuerte=cuenta_fuerte.set_index(['Sucursal', 'Tipo_Cta']).sort_values(\"Importe\").sort_values(\"Importe\", ascending=False)\n",
    "cuenta_fuerte=cuenta_fuerte.style.background_gradient(cmap=cm_g,high=True,subset='Importe').format({'Importe': \"{:20,.2f}€\"})\n",
    "cuenta_fuerte=cuenta_fuerte.applymap(color_negative_red)\n",
    "cuenta_fuerte"
   ]
  },
  {
   "cell_type": "raw",
   "metadata": {},
   "source": [
    "Respuesta:\n",
    "    \n",
    "En la tabla se muestran los importes acumulados de mayor cantidad de todas las ciudades e indicando en qué tipo de cuenta se dan, se ordenan los importes en orden descendente."
   ]
  },
  {
   "cell_type": "markdown",
   "metadata": {},
   "source": [
    "### 7.\t¿Qué cuenta habría que fortalecer en Barcelona? ¿Y en Madrid?"
   ]
  },
  {
   "cell_type": "code",
   "execution_count": 61,
   "metadata": {},
   "outputs": [],
   "source": [
    "# Cuenta a fortalecer en Barcelona "
   ]
  },
  {
   "cell_type": "code",
   "execution_count": 86,
   "metadata": {},
   "outputs": [
    {
     "output_type": "execute_result",
     "data": {
      "text/plain": [
       "<pandas.io.formats.style.Styler at 0x25d5f1cd4a8>"
      ],
      "text/html": "<style  type=\"text/css\" >\n    #T_5e9b2636_a118_11eb_8246_705a0f3f1b44row0_col0 {\n            background-color:  #72bf72;\n            color:  #000000;\n            color:  green;\n        }    #T_5e9b2636_a118_11eb_8246_705a0f3f1b44row1_col0 {\n            background-color:  #cbf1cb;\n            color:  #000000;\n            color:  green;\n        }    #T_5e9b2636_a118_11eb_8246_705a0f3f1b44row2_col0 {\n            background-color:  #e5ffe5;\n            color:  #000000;\n            color:  green;\n        }</style><table id=\"T_5e9b2636_a118_11eb_8246_705a0f3f1b44\" ><thead>    <tr>        <th class=\"blank\" ></th>        <th class=\"blank level0\" ></th>        <th class=\"col_heading level0 col0\" >Importe</th>    </tr>    <tr>        <th class=\"index_name level0\" >Sucursal</th>        <th class=\"index_name level1\" >Tipo_Cta</th>        <th class=\"blank\" ></th>    </tr></thead><tbody>\n                <tr>\n                        <th id=\"T_5e9b2636_a118_11eb_8246_705a0f3f1b44level0_row0\" class=\"row_heading level0 row0\" rowspan=3>Barcelona</th>\n                        <th id=\"T_5e9b2636_a118_11eb_8246_705a0f3f1b44level1_row0\" class=\"row_heading level1 row0\" >Corriente</th>\n                        <td id=\"T_5e9b2636_a118_11eb_8246_705a0f3f1b44row0_col0\" class=\"data row0 col0\" >          723,400.00€</td>\n            </tr>\n            <tr>\n                                <th id=\"T_5e9b2636_a118_11eb_8246_705a0f3f1b44level1_row1\" class=\"row_heading level1 row1\" >Fondo Inversión</th>\n                        <td id=\"T_5e9b2636_a118_11eb_8246_705a0f3f1b44row1_col0\" class=\"data row1 col0\" >          497,500.00€</td>\n            </tr>\n            <tr>\n                                <th id=\"T_5e9b2636_a118_11eb_8246_705a0f3f1b44level1_row2\" class=\"row_heading level1 row2\" >Cuenta Vivienda</th>\n                        <td id=\"T_5e9b2636_a118_11eb_8246_705a0f3f1b44row2_col0\" class=\"data row2 col0\" >          430,600.00€</td>\n            </tr>\n    </tbody></table>"
     },
     "metadata": {},
     "execution_count": 86
    }
   ],
   "source": [
    "fortalecer_Barcelona=data[data.Sucursal == \"Barcelona\"].groupby([\"Sucursal\",\"Tipo_Cta\"]).Importe.agg([\"sum\"]).rename(columns={'sum':'Importe'}).sort_values(\"Importe\",ascending=False)\n",
    "fortalecer_Barcelona=fortalecer_Barcelona.style.background_gradient(cmap=cm_g,high=True,subset='Importe').format({'Importe': \"{:20,.2f}€\"})\n",
    "fortalecer_Barcelona=fortalecer_Barcelona.applymap(color_negative_red)\n",
    "fortalecer_Barcelona"
   ]
  },
  {
   "cell_type": "raw",
   "metadata": {},
   "source": [
    "Respuesta:\n",
    "    \n",
    "En la tabla se muestran los importes clasificados por cuentas en valor descendente. por tanto, la ultima celda del Tipo_Cta será  será la cuenta que se ha de fortalecer. Cuenta Vivienda con 430,600.00€"
   ]
  },
  {
   "cell_type": "code",
   "execution_count": 88,
   "metadata": {},
   "outputs": [
    {
     "output_type": "execute_result",
     "data": {
      "text/plain": [
       "<pandas.io.formats.style.Styler at 0x25d5f789978>"
      ],
      "text/html": "<style  type=\"text/css\" >\n    #T_62a5e6e6_a118_11eb_83e4_705a0f3f1b44row0_col0 {\n            background-color:  #e5ffe5;\n            color:  #000000;\n            color:  green;\n        }</style><table id=\"T_62a5e6e6_a118_11eb_83e4_705a0f3f1b44\" ><thead>    <tr>        <th class=\"blank\" ></th>        <th class=\"blank level0\" ></th>        <th class=\"col_heading level0 col0\" >Importe</th>    </tr>    <tr>        <th class=\"index_name level0\" >Sucursal</th>        <th class=\"index_name level1\" >Tipo_Cta</th>        <th class=\"blank\" ></th>    </tr></thead><tbody>\n                <tr>\n                        <th id=\"T_62a5e6e6_a118_11eb_83e4_705a0f3f1b44level0_row0\" class=\"row_heading level0 row0\" >Barcelona</th>\n                        <th id=\"T_62a5e6e6_a118_11eb_83e4_705a0f3f1b44level1_row0\" class=\"row_heading level1 row0\" >Cuenta Vivienda</th>\n                        <td id=\"T_62a5e6e6_a118_11eb_83e4_705a0f3f1b44row0_col0\" class=\"data row0 col0\" >          430,600.00€</td>\n            </tr>\n    </tbody></table>"
     },
     "metadata": {},
     "execution_count": 88
    }
   ],
   "source": [
    "fortalecer_Barcelona=data[data.Sucursal == \"Barcelona\"].groupby([\"Sucursal\",\"Tipo_Cta\"]).Importe.agg([\"sum\"]).rename(columns={'sum':'Importe'}).sort_values(\"Importe\",ascending=False).tail(1)\n",
    "fortalecer_Barcelona=fortalecer_Barcelona.style.background_gradient(cmap=cm_g,high=True,subset='Importe').format({'Importe': \"{:20,.2f}€\"})\n",
    "fortalecer_Barcelona=fortalecer_Barcelona.applymap(color_negative_red)\n",
    "fortalecer_Barcelona"
   ]
  },
  {
   "cell_type": "code",
   "execution_count": 89,
   "metadata": {},
   "outputs": [],
   "source": [
    "# Cuenta a fortalecer en Madrid "
   ]
  },
  {
   "cell_type": "code",
   "execution_count": 90,
   "metadata": {},
   "outputs": [
    {
     "output_type": "execute_result",
     "data": {
      "text/plain": [
       "<pandas.io.formats.style.Styler at 0x25d5e529860>"
      ],
      "text/html": "<style  type=\"text/css\" >\n    #T_64b41c9c_a118_11eb_a403_705a0f3f1b44row0_col0 {\n            background-color:  #72bf72;\n            color:  #000000;\n            color:  green;\n        }    #T_64b41c9c_a118_11eb_a403_705a0f3f1b44row1_col0 {\n            background-color:  #d6f7d6;\n            color:  #000000;\n            color:  green;\n        }    #T_64b41c9c_a118_11eb_a403_705a0f3f1b44row2_col0 {\n            background-color:  #defbde;\n            color:  #000000;\n            color:  green;\n        }    #T_64b41c9c_a118_11eb_a403_705a0f3f1b44row3_col0 {\n            background-color:  #e5ffe5;\n            color:  #000000;\n            color:  green;\n        }</style><table id=\"T_64b41c9c_a118_11eb_a403_705a0f3f1b44\" ><thead>    <tr>        <th class=\"blank\" ></th>        <th class=\"blank level0\" ></th>        <th class=\"col_heading level0 col0\" >Importe</th>    </tr>    <tr>        <th class=\"index_name level0\" >Sucursal</th>        <th class=\"index_name level1\" >Tipo_Cta</th>        <th class=\"blank\" ></th>    </tr></thead><tbody>\n                <tr>\n                        <th id=\"T_64b41c9c_a118_11eb_a403_705a0f3f1b44level0_row0\" class=\"row_heading level0 row0\" rowspan=4>Madrid</th>\n                        <th id=\"T_64b41c9c_a118_11eb_a403_705a0f3f1b44level1_row0\" class=\"row_heading level1 row0\" >Cuenta Vivienda</th>\n                        <td id=\"T_64b41c9c_a118_11eb_a403_705a0f3f1b44row0_col0\" class=\"data row0 col0\" >        1,037,070.00€</td>\n            </tr>\n            <tr>\n                                <th id=\"T_64b41c9c_a118_11eb_a403_705a0f3f1b44level1_row1\" class=\"row_heading level1 row1\" >Corriente</th>\n                        <td id=\"T_64b41c9c_a118_11eb_a403_705a0f3f1b44row1_col0\" class=\"data row1 col0\" >          173,600.00€</td>\n            </tr>\n            <tr>\n                                <th id=\"T_64b41c9c_a118_11eb_a403_705a0f3f1b44level1_row2\" class=\"row_heading level1 row2\" >Fondo Inversión</th>\n                        <td id=\"T_64b41c9c_a118_11eb_a403_705a0f3f1b44row2_col0\" class=\"data row2 col0\" >           96,200.00€</td>\n            </tr>\n            <tr>\n                                <th id=\"T_64b41c9c_a118_11eb_a403_705a0f3f1b44level1_row3\" class=\"row_heading level1 row3\" >Plan Jubilación</th>\n                        <td id=\"T_64b41c9c_a118_11eb_a403_705a0f3f1b44row3_col0\" class=\"data row3 col0\" >           32,800.00€</td>\n            </tr>\n    </tbody></table>"
     },
     "metadata": {},
     "execution_count": 90
    }
   ],
   "source": [
    "fortalecer_Barcelona=data[data.Sucursal == \"Madrid\"].groupby([\"Sucursal\",\"Tipo_Cta\"]).Importe.agg([\"sum\"]).rename(columns={'sum':'Importe'}).sort_values(\"Importe\",ascending=False)\n",
    "fortalecer_Barcelona=fortalecer_Barcelona.style.background_gradient(cmap=cm_g,high=True,subset='Importe').format({'Importe': \"{:20,.2f}€\"})\n",
    "fortalecer_Barcelona=fortalecer_Barcelona.applymap(color_negative_red)\n",
    "fortalecer_Barcelona"
   ]
  },
  {
   "cell_type": "raw",
   "metadata": {},
   "source": [
    "Respuesta:\n",
    "    \n",
    "En la tabla se muestran los importes clasificados por cuentas en valor descendente. por tanto, la ultima celda del Tipo_Cta será  será la cuenta que se ha de fortalecer. Plan Jubilación con 32,800.00€"
   ]
  },
  {
   "cell_type": "code",
   "execution_count": 91,
   "metadata": {},
   "outputs": [
    {
     "output_type": "execute_result",
     "data": {
      "text/plain": [
       "<pandas.io.formats.style.Styler at 0x25d5f66e7f0>"
      ],
      "text/html": "<style  type=\"text/css\" >\n    #T_66e88688_a118_11eb_87b7_705a0f3f1b44row0_col0 {\n            background-color:  #e5ffe5;\n            color:  #000000;\n            color:  green;\n        }</style><table id=\"T_66e88688_a118_11eb_87b7_705a0f3f1b44\" ><thead>    <tr>        <th class=\"blank\" ></th>        <th class=\"blank level0\" ></th>        <th class=\"col_heading level0 col0\" >Importe</th>    </tr>    <tr>        <th class=\"index_name level0\" >Sucursal</th>        <th class=\"index_name level1\" >Tipo_Cta</th>        <th class=\"blank\" ></th>    </tr></thead><tbody>\n                <tr>\n                        <th id=\"T_66e88688_a118_11eb_87b7_705a0f3f1b44level0_row0\" class=\"row_heading level0 row0\" >Madrid</th>\n                        <th id=\"T_66e88688_a118_11eb_87b7_705a0f3f1b44level1_row0\" class=\"row_heading level1 row0\" >Plan Jubilación</th>\n                        <td id=\"T_66e88688_a118_11eb_87b7_705a0f3f1b44row0_col0\" class=\"data row0 col0\" >           32,800.00€</td>\n            </tr>\n    </tbody></table>"
     },
     "metadata": {},
     "execution_count": 91
    }
   ],
   "source": [
    "fortalecer_Barcelona=data[data.Sucursal == \"Madrid\"].groupby([\"Sucursal\",\"Tipo_Cta\"]).Importe.agg([\"sum\"]).rename(columns={'sum':'Importe'}).sort_values(\"Importe\",ascending=False).tail(1)\n",
    "fortalecer_Barcelona=fortalecer_Barcelona.style.background_gradient(cmap=cm_g,high=True,subset='Importe').format({'Importe': \"{:20,.2f}€\"})\n",
    "fortalecer_Barcelona=fortalecer_Barcelona.applymap(color_negative_red)\n",
    "fortalecer_Barcelona"
   ]
  },
  {
   "cell_type": "markdown",
   "metadata": {},
   "source": [
    "### 8.\t¿Cuántos nuevos clientes se han conseguido en 2010? ¿y en 2011? "
   ]
  },
  {
   "cell_type": "code",
   "execution_count": 92,
   "metadata": {},
   "outputs": [],
   "source": [
    "# Nuevos clientes a lo largo de los años"
   ]
  },
  {
   "cell_type": "code",
   "execution_count": 93,
   "metadata": {},
   "outputs": [
    {
     "output_type": "execute_result",
     "data": {
      "text/plain": [
       "<pandas.io.formats.style.Styler at 0x25d5f66ef28>"
      ],
      "text/html": "<style  type=\"text/css\" >\n    #T_68ef9c76_a118_11eb_9cb7_705a0f3f1b44row0_col0 {\n            background-color:  #d9bfbf;\n            color:  #000000;\n        }    #T_68ef9c76_a118_11eb_9cb7_705a0f3f1b44row1_col0 {\n            background-color:  #f5efef;\n            color:  #000000;\n        }</style><table id=\"T_68ef9c76_a118_11eb_9cb7_705a0f3f1b44\" ><thead>    <tr>        <th class=\"blank level0\" ></th>        <th class=\"col_heading level0 col0\" >Núm.Nuevos_Clientes</th>    </tr>    <tr>        <th class=\"index_name level0\" >Año</th>        <th class=\"blank\" ></th>    </tr></thead><tbody>\n                <tr>\n                        <th id=\"T_68ef9c76_a118_11eb_9cb7_705a0f3f1b44level0_row0\" class=\"row_heading level0 row0\" >2010</th>\n                        <td id=\"T_68ef9c76_a118_11eb_9cb7_705a0f3f1b44row0_col0\" class=\"data row0 col0\" >66</td>\n            </tr>\n            <tr>\n                        <th id=\"T_68ef9c76_a118_11eb_9cb7_705a0f3f1b44level0_row1\" class=\"row_heading level0 row1\" >2011</th>\n                        <td id=\"T_68ef9c76_a118_11eb_9cb7_705a0f3f1b44row1_col0\" class=\"data row1 col0\" >65</td>\n            </tr>\n    </tbody></table>"
     },
     "metadata": {},
     "execution_count": 93
    }
   ],
   "source": [
    "clientes_nuevos=pd.DataFrame(data)\n",
    "clientes_nuevos=clientes_nuevos[clientes_nuevos[\"Nuevo_Cliente\"] =='Sí'].groupby([\"Año\"]).Nuevo_Cliente.count()\n",
    "clientes_nuevos=pd.DataFrame(clientes_nuevos).rename(columns={'Nuevo_Cliente':'Núm.Nuevos_Clientes'}).sort_values(\"Año\",ascending=True).tail()\n",
    "clientes_nuevos=clientes_nuevos.style.background_gradient(cmap=cm_rsb,high=True)\n",
    "clientes_nuevos"
   ]
  },
  {
   "cell_type": "code",
   "execution_count": 94,
   "metadata": {},
   "outputs": [],
   "source": [
    "# Nuevos clientes 2010"
   ]
  },
  {
   "cell_type": "code",
   "execution_count": 95,
   "metadata": {},
   "outputs": [
    {
     "output_type": "execute_result",
     "data": {
      "text/plain": [
       "<pandas.io.formats.style.Styler at 0x25d5e529f98>"
      ],
      "text/html": "<style  type=\"text/css\" >\n    #T_6aa9bbf6_a118_11eb_9876_705a0f3f1b44row0_col0 {\n            background-color:  #f5efef;\n            color:  #000000;\n        }</style><table id=\"T_6aa9bbf6_a118_11eb_9876_705a0f3f1b44\" ><thead>    <tr>        <th class=\"blank level0\" ></th>        <th class=\"col_heading level0 col0\" >Núm.Nuevos_Clientes</th>    </tr>    <tr>        <th class=\"index_name level0\" >Año</th>        <th class=\"blank\" ></th>    </tr></thead><tbody>\n                <tr>\n                        <th id=\"T_6aa9bbf6_a118_11eb_9876_705a0f3f1b44level0_row0\" class=\"row_heading level0 row0\" >2010</th>\n                        <td id=\"T_6aa9bbf6_a118_11eb_9876_705a0f3f1b44row0_col0\" class=\"data row0 col0\" >66</td>\n            </tr>\n    </tbody></table>"
     },
     "metadata": {},
     "execution_count": 95
    }
   ],
   "source": [
    "clientes_n2010=pd.DataFrame(data)\n",
    "clientes_n2010=clientes_n2010[clientes_n2010[\"Nuevo_Cliente\"] =='Sí'].groupby([\"Año\"]).Nuevo_Cliente.count().reset_index().rename(columns={'Nuevo_Cliente':'Núm.Nuevos_Clientes'})\n",
    "clientes_n2010=pd.DataFrame(clientes_n2010).loc[clientes_n2010[\"Año\"]==2010,[\"Año\",\"Núm.Nuevos_Clientes\"]].set_index([\"Año\"])\n",
    "clientes_n2010=clientes_n2010.style.background_gradient(cmap=cm_rsb,high=True)\n",
    "clientes_n2010"
   ]
  },
  {
   "cell_type": "raw",
   "metadata": {},
   "source": [
    "Resultado:\n",
    "    \n",
    "Número de nuevos clientes en 2010: 66"
   ]
  },
  {
   "cell_type": "code",
   "execution_count": 96,
   "metadata": {},
   "outputs": [],
   "source": [
    "# Nuevos clientes 2011"
   ]
  },
  {
   "cell_type": "code",
   "execution_count": 97,
   "metadata": {},
   "outputs": [
    {
     "output_type": "execute_result",
     "data": {
      "text/plain": [
       "<pandas.io.formats.style.Styler at 0x25d5ed362e8>"
      ],
      "text/html": "<style  type=\"text/css\" >\n    #T_6b80558a_a118_11eb_9dd4_705a0f3f1b44row0_col0 {\n            background-color:  #f5efef;\n            color:  #000000;\n        }</style><table id=\"T_6b80558a_a118_11eb_9dd4_705a0f3f1b44\" ><thead>    <tr>        <th class=\"blank level0\" ></th>        <th class=\"col_heading level0 col0\" >Núm.Nuevos_Clientes</th>    </tr>    <tr>        <th class=\"index_name level0\" >Año</th>        <th class=\"blank\" ></th>    </tr></thead><tbody>\n                <tr>\n                        <th id=\"T_6b80558a_a118_11eb_9dd4_705a0f3f1b44level0_row0\" class=\"row_heading level0 row0\" >2011</th>\n                        <td id=\"T_6b80558a_a118_11eb_9dd4_705a0f3f1b44row0_col0\" class=\"data row0 col0\" >65</td>\n            </tr>\n    </tbody></table>"
     },
     "metadata": {},
     "execution_count": 97
    }
   ],
   "source": [
    "clientes_n2011=pd.DataFrame(data)\n",
    "clientes_n2011=clientes_n2011[clientes_n2011[\"Nuevo_Cliente\"] =='Sí'].groupby([\"Año\"]).Nuevo_Cliente.count().reset_index().rename(columns={'Nuevo_Cliente':'Núm.Nuevos_Clientes'})\n",
    "clientes_n2011=pd.DataFrame(clientes_n2011).loc[clientes_n2011[\"Año\"]==2011,[\"Año\",\"Núm.Nuevos_Clientes\"]].set_index([\"Año\"])\n",
    "clientes_n2011=clientes_n2011.style.background_gradient(cmap=cm_rsb,high=True)\n",
    "clientes_n2011"
   ]
  },
  {
   "cell_type": "raw",
   "metadata": {},
   "source": [
    "Resultado:\n",
    "    \n",
    "Número de nuevos clientes en 2010: 65"
   ]
  },
  {
   "cell_type": "markdown",
   "metadata": {},
   "source": [
    "### 9.\tHaga un análisis de los nuevos clientes. Si usted fuera el director del banco, ¿Dónde le gustaría mejorar? Haga un análisis detallado y comentado. (2 pts)"
   ]
  },
  {
   "cell_type": "code",
   "execution_count": 98,
   "metadata": {},
   "outputs": [],
   "source": [
    "# Primero, se analizará cómo varía la entrada de los nuevos clientes a lo largo del año en los dos años"
   ]
  },
  {
   "cell_type": "code",
   "execution_count": 118,
   "metadata": {},
   "outputs": [
    {
     "output_type": "execute_result",
     "data": {
      "text/plain": [
       "<pandas.io.formats.style.Styler at 0x25d61d07e10>"
      ],
      "text/html": "<style  type=\"text/css\" >\n    #T_e639c5d0_a118_11eb_b60d_705a0f3f1b44row0_col0 {\n            background-color:  #bf7272;\n            color:  #000000;\n            color:  black;\n        }    #T_e639c5d0_a118_11eb_b60d_705a0f3f1b44row0_col1 {\n            color:  black;\n        }    #T_e639c5d0_a118_11eb_b60d_705a0f3f1b44row1_col0 {\n            background-color:  #ffe5e5;\n            color:  #000000;\n            color:  black;\n        }    #T_e639c5d0_a118_11eb_b60d_705a0f3f1b44row1_col1 {\n            color:  red;\n        }    #T_e639c5d0_a118_11eb_b60d_705a0f3f1b44row2_col0 {\n            background-color:  #cf8f8f;\n            color:  #000000;\n            color:  black;\n        }    #T_e639c5d0_a118_11eb_b60d_705a0f3f1b44row2_col1 {\n            color:  black;\n        }    #T_e639c5d0_a118_11eb_b60d_705a0f3f1b44row3_col0 {\n            background-color:  #f7d7d7;\n            color:  #000000;\n            color:  black;\n        }    #T_e639c5d0_a118_11eb_b60d_705a0f3f1b44row3_col1 {\n            color:  red;\n        }</style><table id=\"T_e639c5d0_a118_11eb_b60d_705a0f3f1b44\" ><thead>    <tr>        <th class=\"blank\" ></th>        <th class=\"blank level0\" ></th>        <th class=\"col_heading level0 col0\" >Núm_Nuevos_Clientes</th>        <th class=\"col_heading level0 col1\" >Variación</th>    </tr>    <tr>        <th class=\"index_name level0\" >Año</th>        <th class=\"index_name level1\" >Mes</th>        <th class=\"blank\" ></th>        <th class=\"blank\" ></th>    </tr></thead><tbody>\n                <tr>\n                        <th id=\"T_e639c5d0_a118_11eb_b60d_705a0f3f1b44level0_row0\" class=\"row_heading level0 row0\" rowspan=2>2010</th>\n                        <th id=\"T_e639c5d0_a118_11eb_b60d_705a0f3f1b44level1_row0\" class=\"row_heading level1 row0\" >Enero</th>\n                        <td id=\"T_e639c5d0_a118_11eb_b60d_705a0f3f1b44row0_col0\" class=\"data row0 col0\" >37</td>\n                        <td id=\"T_e639c5d0_a118_11eb_b60d_705a0f3f1b44row0_col1\" class=\"data row0 col1\" >                +nan</td>\n            </tr>\n            <tr>\n                                <th id=\"T_e639c5d0_a118_11eb_b60d_705a0f3f1b44level1_row1\" class=\"row_heading level1 row1\" >Febrero</th>\n                        <td id=\"T_e639c5d0_a118_11eb_b60d_705a0f3f1b44row1_col0\" class=\"data row1 col0\" >29</td>\n                        <td id=\"T_e639c5d0_a118_11eb_b60d_705a0f3f1b44row1_col1\" class=\"data row1 col1\" >                  -8</td>\n            </tr>\n            <tr>\n                        <th id=\"T_e639c5d0_a118_11eb_b60d_705a0f3f1b44level0_row2\" class=\"row_heading level0 row2\" rowspan=2>2011</th>\n                        <th id=\"T_e639c5d0_a118_11eb_b60d_705a0f3f1b44level1_row2\" class=\"row_heading level1 row2\" >Enero</th>\n                        <td id=\"T_e639c5d0_a118_11eb_b60d_705a0f3f1b44row2_col0\" class=\"data row2 col0\" >35</td>\n                        <td id=\"T_e639c5d0_a118_11eb_b60d_705a0f3f1b44row2_col1\" class=\"data row2 col1\" >                  +6</td>\n            </tr>\n            <tr>\n                                <th id=\"T_e639c5d0_a118_11eb_b60d_705a0f3f1b44level1_row3\" class=\"row_heading level1 row3\" >Febrero</th>\n                        <td id=\"T_e639c5d0_a118_11eb_b60d_705a0f3f1b44row3_col0\" class=\"data row3 col0\" >30</td>\n                        <td id=\"T_e639c5d0_a118_11eb_b60d_705a0f3f1b44row3_col1\" class=\"data row3 col1\" >                  -5</td>\n            </tr>\n    </tbody></table>"
     },
     "metadata": {},
     "execution_count": 118
    }
   ],
   "source": [
    "# YOUR TURN\n"
   ]
  },
  {
   "cell_type": "raw",
   "metadata": {},
   "source": [
    "Observaciones:\n",
    "\n",
    "Como se pueden observar tanto en la tabla como en el diagrama, en los meses de enero el número de clientes es máximo, mientras que en febrero su valor disminuye. Además, la variación que se da entre meses es ligeramente mayor en 2010 que en 2011."
   ]
  },
  {
   "cell_type": "code",
   "execution_count": 101,
   "metadata": {},
   "outputs": [],
   "source": [
    "# A continuación, se analizará cómo varía el importe medio de los nuevos clientes"
   ]
  },
  {
   "cell_type": "code",
   "execution_count": 117,
   "metadata": {},
   "outputs": [
    {
     "output_type": "execute_result",
     "data": {
      "text/plain": [
       "<pandas.io.formats.style.Styler at 0x25d61d07320>"
      ],
      "text/html": "<style  type=\"text/css\" >\n    #T_c0f64cc8_a118_11eb_8f7d_705a0f3f1b44row0_col0 {\n            background-color:  #73c073;\n            color:  #000000;\n            color:  green;\n        }    #T_c0f64cc8_a118_11eb_8f7d_705a0f3f1b44row0_col1 {\n            background-color:  #72bf72;\n            color:  #000000;\n            color:  green;\n        }    #T_c0f64cc8_a118_11eb_8f7d_705a0f3f1b44row0_col2 {\n            color:  green;\n        }    #T_c0f64cc8_a118_11eb_8f7d_705a0f3f1b44row0_col3 {\n            color:  green;\n        }    #T_c0f64cc8_a118_11eb_8f7d_705a0f3f1b44row1_col0 {\n            background-color:  #e5ffe5;\n            color:  #000000;\n            color:  green;\n        }    #T_c0f64cc8_a118_11eb_8f7d_705a0f3f1b44row1_col1 {\n            background-color:  #e5ffe5;\n            color:  #000000;\n            color:  green;\n        }    #T_c0f64cc8_a118_11eb_8f7d_705a0f3f1b44row1_col2 {\n            color:  red;\n        }    #T_c0f64cc8_a118_11eb_8f7d_705a0f3f1b44row1_col3 {\n            color:  red;\n        }    #T_c0f64cc8_a118_11eb_8f7d_705a0f3f1b44row2_col0 {\n            background-color:  #dcfadc;\n            color:  #000000;\n            color:  green;\n        }    #T_c0f64cc8_a118_11eb_8f7d_705a0f3f1b44row2_col1 {\n            background-color:  #dcfadc;\n            color:  #000000;\n            color:  green;\n        }    #T_c0f64cc8_a118_11eb_8f7d_705a0f3f1b44row2_col2 {\n            color:  green;\n        }    #T_c0f64cc8_a118_11eb_8f7d_705a0f3f1b44row2_col3 {\n            color:  green;\n        }    #T_c0f64cc8_a118_11eb_8f7d_705a0f3f1b44row3_col0 {\n            background-color:  #9cd69c;\n            color:  #000000;\n            color:  green;\n        }    #T_c0f64cc8_a118_11eb_8f7d_705a0f3f1b44row3_col1 {\n            background-color:  #aadeaa;\n            color:  #000000;\n            color:  green;\n        }    #T_c0f64cc8_a118_11eb_8f7d_705a0f3f1b44row3_col2 {\n            color:  green;\n        }    #T_c0f64cc8_a118_11eb_8f7d_705a0f3f1b44row3_col3 {\n            color:  green;\n        }</style><table id=\"T_c0f64cc8_a118_11eb_8f7d_705a0f3f1b44\" ><thead>    <tr>        <th class=\"blank\" ></th>        <th class=\"blank level0\" ></th>        <th class=\"col_heading level0 col0\" >Importe_Medio</th>        <th class=\"col_heading level0 col1\" >Importe_Total</th>        <th class=\"col_heading level0 col2\" >Variación_Importe_Medio</th>        <th class=\"col_heading level0 col3\" >Variación_Importe_Total</th>    </tr>    <tr>        <th class=\"index_name level0\" >Año</th>        <th class=\"index_name level1\" >Mes</th>        <th class=\"blank\" ></th>        <th class=\"blank\" ></th>        <th class=\"blank\" ></th>        <th class=\"blank\" ></th>    </tr></thead><tbody>\n                <tr>\n                        <th id=\"T_c0f64cc8_a118_11eb_8f7d_705a0f3f1b44level0_row0\" class=\"row_heading level0 row0\" rowspan=2>2010</th>\n                        <th id=\"T_c0f64cc8_a118_11eb_8f7d_705a0f3f1b44level1_row0\" class=\"row_heading level1 row0\" >Enero</th>\n                        <td id=\"T_c0f64cc8_a118_11eb_8f7d_705a0f3f1b44row0_col0\" class=\"data row0 col0\" >           53,755.95€</td>\n                        <td id=\"T_c0f64cc8_a118_11eb_8f7d_705a0f3f1b44row0_col1\" class=\"data row0 col1\" >        1,988,970.00€</td>\n                        <td id=\"T_c0f64cc8_a118_11eb_8f7d_705a0f3f1b44row0_col2\" class=\"data row0 col2\" >                 nan€</td>\n                        <td id=\"T_c0f64cc8_a118_11eb_8f7d_705a0f3f1b44row0_col3\" class=\"data row0 col3\" >                 nan€</td>\n            </tr>\n            <tr>\n                                <th id=\"T_c0f64cc8_a118_11eb_8f7d_705a0f3f1b44level1_row1\" class=\"row_heading level1 row1\" >Febrero</th>\n                        <td id=\"T_c0f64cc8_a118_11eb_8f7d_705a0f3f1b44row1_col0\" class=\"data row1 col0\" >            1,017.93€</td>\n                        <td id=\"T_c0f64cc8_a118_11eb_8f7d_705a0f3f1b44row1_col1\" class=\"data row1 col1\" >           29,520.00€</td>\n                        <td id=\"T_c0f64cc8_a118_11eb_8f7d_705a0f3f1b44row1_col2\" class=\"data row1 col2\" >          -52,738.01€</td>\n                        <td id=\"T_c0f64cc8_a118_11eb_8f7d_705a0f3f1b44row1_col3\" class=\"data row1 col3\" >       -1,959,450.00€</td>\n            </tr>\n            <tr>\n                        <th id=\"T_c0f64cc8_a118_11eb_8f7d_705a0f3f1b44level0_row2\" class=\"row_heading level0 row2\" rowspan=2>2011</th>\n                        <th id=\"T_c0f64cc8_a118_11eb_8f7d_705a0f3f1b44level1_row2\" class=\"row_heading level1 row2\" >Enero</th>\n                        <td id=\"T_c0f64cc8_a118_11eb_8f7d_705a0f3f1b44row2_col0\" class=\"data row2 col0\" >            5,385.71€</td>\n                        <td id=\"T_c0f64cc8_a118_11eb_8f7d_705a0f3f1b44row2_col1\" class=\"data row2 col1\" >          188,500.00€</td>\n                        <td id=\"T_c0f64cc8_a118_11eb_8f7d_705a0f3f1b44row2_col2\" class=\"data row2 col2\" >            4,367.78€</td>\n                        <td id=\"T_c0f64cc8_a118_11eb_8f7d_705a0f3f1b44row2_col3\" class=\"data row2 col3\" >          158,980.00€</td>\n            </tr>\n            <tr>\n                                <th id=\"T_c0f64cc8_a118_11eb_8f7d_705a0f3f1b44level1_row3\" class=\"row_heading level1 row3\" >Febrero</th>\n                        <td id=\"T_c0f64cc8_a118_11eb_8f7d_705a0f3f1b44row3_col0\" class=\"data row3 col0\" >           34,966.67€</td>\n                        <td id=\"T_c0f64cc8_a118_11eb_8f7d_705a0f3f1b44row3_col1\" class=\"data row3 col1\" >        1,049,000.00€</td>\n                        <td id=\"T_c0f64cc8_a118_11eb_8f7d_705a0f3f1b44row3_col2\" class=\"data row3 col2\" >           29,580.95€</td>\n                        <td id=\"T_c0f64cc8_a118_11eb_8f7d_705a0f3f1b44row3_col3\" class=\"data row3 col3\" >          860,500.00€</td>\n            </tr>\n    </tbody></table>"
     },
     "metadata": {},
     "execution_count": 117
    }
   ],
   "source": [
    "# YOUR TURN\n"
   ]
  },
  {
   "cell_type": "raw",
   "metadata": {},
   "source": [
    "Observaciones:\n",
    "\n",
    "Se ha graficado la evolución del número de clientes con el importe medio que relizan estos clientes. Como se puede observar en el gráfico, exceptuando el primer intervalo de enero a febrero, la relación es dispar. Por ello, ocurre que en febrero de 2011 pese a que aumente el número de nuevos clientes la cantidad media de los importes disminuye. Lo mismo ocurre con los importes totales."
   ]
  },
  {
   "cell_type": "raw",
   "metadata": {},
   "source": [
    "Observaciones:\n",
    "\n",
    "Para estar seguros de la conclusión realizada en el apartado anterior se realiza el gráfico que compara el importe total con el número de nuevos clientes. En este caso, la conclusión alcanzada es la misma."
   ]
  },
  {
   "cell_type": "raw",
   "metadata": {},
   "source": [
    "Conclusión:\n",
    "Como directores del banco es importante frenar lo máximo posible la caída que se da entre los meses de enero y febrero para mantener un nivel de clientela nueva lo más constante posible. Sobre todo, es importante la primer caída de enero a febrero, porque en la segunda pese a que el número de nuevos clientes disminuya los importes medios y totales aumentan."
   ]
  },
  {
   "cell_type": "code",
   "execution_count": 79,
   "metadata": {},
   "outputs": [],
   "source": [
    "# A continuación se va a observar cómo se distribuyen los nuevos clientes por sucursales a lo largo de los años"
   ]
  },
  {
   "cell_type": "code",
   "execution_count": 116,
   "metadata": {},
   "outputs": [
    {
     "output_type": "execute_result",
     "data": {
      "text/plain": [
       "<pandas.io.formats.style.Styler at 0x25d61a38dd8>"
      ],
      "text/html": "<style  type=\"text/css\" >\n    #T_b59ee652_a118_11eb_b415_705a0f3f1b44row0_col0 {\n            background-color:  #f1cccc;\n            color:  #000000;\n            color:  black;\n        }    #T_b59ee652_a118_11eb_b415_705a0f3f1b44row0_col1 {\n            color:  black;\n        }    #T_b59ee652_a118_11eb_b415_705a0f3f1b44row1_col0 {\n            background-color:  #e8bcbc;\n            color:  #000000;\n            color:  black;\n        }    #T_b59ee652_a118_11eb_b415_705a0f3f1b44row1_col1 {\n            color:  black;\n        }    #T_b59ee652_a118_11eb_b415_705a0f3f1b44row2_col0 {\n            background-color:  #d79d9d;\n            color:  #000000;\n            color:  black;\n        }    #T_b59ee652_a118_11eb_b415_705a0f3f1b44row2_col1 {\n            color:  black;\n        }    #T_b59ee652_a118_11eb_b415_705a0f3f1b44row3_col0 {\n            background-color:  #e7b9b9;\n            color:  #000000;\n            color:  black;\n        }    #T_b59ee652_a118_11eb_b415_705a0f3f1b44row3_col1 {\n            color:  black;\n        }    #T_b59ee652_a118_11eb_b415_705a0f3f1b44row4_col0 {\n            background-color:  #f1cccc;\n            color:  #000000;\n            color:  black;\n        }    #T_b59ee652_a118_11eb_b415_705a0f3f1b44row4_col1 {\n            color:  black;\n        }    #T_b59ee652_a118_11eb_b415_705a0f3f1b44row5_col0 {\n            background-color:  #e8bcbc;\n            color:  #000000;\n            color:  black;\n        }    #T_b59ee652_a118_11eb_b415_705a0f3f1b44row5_col1 {\n            color:  black;\n        }    #T_b59ee652_a118_11eb_b415_705a0f3f1b44row6_col0 {\n            background-color:  #bf7272;\n            color:  #000000;\n            color:  black;\n        }    #T_b59ee652_a118_11eb_b415_705a0f3f1b44row6_col1 {\n            color:  black;\n        }    #T_b59ee652_a118_11eb_b415_705a0f3f1b44row7_col0 {\n            background-color:  #ffe5e5;\n            color:  #000000;\n            color:  black;\n        }    #T_b59ee652_a118_11eb_b415_705a0f3f1b44row7_col1 {\n            color:  red;\n        }</style><table id=\"T_b59ee652_a118_11eb_b415_705a0f3f1b44\" ><thead>    <tr>        <th class=\"blank\" ></th>        <th class=\"blank level0\" ></th>        <th class=\"col_heading level0 col0\" >Núm_Nuevos_Clientes</th>        <th class=\"col_heading level0 col1\" >%Cambio_Anual</th>    </tr>    <tr>        <th class=\"index_name level0\" >Año</th>        <th class=\"index_name level1\" >Sucursal</th>        <th class=\"blank\" ></th>        <th class=\"blank\" ></th>    </tr></thead><tbody>\n                <tr>\n                        <th id=\"T_b59ee652_a118_11eb_b415_705a0f3f1b44level0_row0\" class=\"row_heading level0 row0\" rowspan=4>2010</th>\n                        <th id=\"T_b59ee652_a118_11eb_b415_705a0f3f1b44level1_row0\" class=\"row_heading level1 row0\" >Barcelona</th>\n                        <td id=\"T_b59ee652_a118_11eb_b415_705a0f3f1b44row0_col0\" class=\"data row0 col0\" >10</td>\n                        <td id=\"T_b59ee652_a118_11eb_b415_705a0f3f1b44row0_col1\" class=\"data row0 col1\" >+nan%</td>\n            </tr>\n            <tr>\n                                <th id=\"T_b59ee652_a118_11eb_b415_705a0f3f1b44level1_row1\" class=\"row_heading level1 row1\" >Madrid</th>\n                        <td id=\"T_b59ee652_a118_11eb_b415_705a0f3f1b44row1_col0\" class=\"data row1 col0\" >15</td>\n                        <td id=\"T_b59ee652_a118_11eb_b415_705a0f3f1b44row1_col1\" class=\"data row1 col1\" >+nan%</td>\n            </tr>\n            <tr>\n                                <th id=\"T_b59ee652_a118_11eb_b415_705a0f3f1b44level1_row2\" class=\"row_heading level1 row2\" >Pamplona</th>\n                        <td id=\"T_b59ee652_a118_11eb_b415_705a0f3f1b44row2_col0\" class=\"data row2 col0\" >25</td>\n                        <td id=\"T_b59ee652_a118_11eb_b415_705a0f3f1b44row2_col1\" class=\"data row2 col1\" >+nan%</td>\n            </tr>\n            <tr>\n                                <th id=\"T_b59ee652_a118_11eb_b415_705a0f3f1b44level1_row3\" class=\"row_heading level1 row3\" >Salamanca</th>\n                        <td id=\"T_b59ee652_a118_11eb_b415_705a0f3f1b44row3_col0\" class=\"data row3 col0\" >16</td>\n                        <td id=\"T_b59ee652_a118_11eb_b415_705a0f3f1b44row3_col1\" class=\"data row3 col1\" >+nan%</td>\n            </tr>\n            <tr>\n                        <th id=\"T_b59ee652_a118_11eb_b415_705a0f3f1b44level0_row4\" class=\"row_heading level0 row4\" rowspan=4>2011</th>\n                        <th id=\"T_b59ee652_a118_11eb_b415_705a0f3f1b44level1_row4\" class=\"row_heading level1 row4\" >Barcelona</th>\n                        <td id=\"T_b59ee652_a118_11eb_b415_705a0f3f1b44row4_col0\" class=\"data row4 col0\" >10</td>\n                        <td id=\"T_b59ee652_a118_11eb_b415_705a0f3f1b44row4_col1\" class=\"data row4 col1\" >+0.000%</td>\n            </tr>\n            <tr>\n                                <th id=\"T_b59ee652_a118_11eb_b415_705a0f3f1b44level1_row5\" class=\"row_heading level1 row5\" >Madrid</th>\n                        <td id=\"T_b59ee652_a118_11eb_b415_705a0f3f1b44row5_col0\" class=\"data row5 col0\" >15</td>\n                        <td id=\"T_b59ee652_a118_11eb_b415_705a0f3f1b44row5_col1\" class=\"data row5 col1\" >+0.000%</td>\n            </tr>\n            <tr>\n                                <th id=\"T_b59ee652_a118_11eb_b415_705a0f3f1b44level1_row6\" class=\"row_heading level1 row6\" >Pamplona</th>\n                        <td id=\"T_b59ee652_a118_11eb_b415_705a0f3f1b44row6_col0\" class=\"data row6 col0\" >38</td>\n                        <td id=\"T_b59ee652_a118_11eb_b415_705a0f3f1b44row6_col1\" class=\"data row6 col1\" >+52.000%</td>\n            </tr>\n            <tr>\n                                <th id=\"T_b59ee652_a118_11eb_b415_705a0f3f1b44level1_row7\" class=\"row_heading level1 row7\" >Salamanca</th>\n                        <td id=\"T_b59ee652_a118_11eb_b415_705a0f3f1b44row7_col0\" class=\"data row7 col0\" >2</td>\n                        <td id=\"T_b59ee652_a118_11eb_b415_705a0f3f1b44row7_col1\" class=\"data row7 col1\" >-87.500%</td>\n            </tr>\n    </tbody></table>"
     },
     "metadata": {},
     "execution_count": 116
    }
   ],
   "source": [
    "# YOUR TURN\n",
    "\n"
   ]
  },
  {
   "cell_type": "raw",
   "metadata": {},
   "source": [
    "Observaciones:\n",
    "\n",
    "Se ha decidido graficar la distribución de nuevos clientes según el año y según la sucursal para observar dónde se atraen más fácilmente a nuevos clientes. Se observa que para ambos años Pamplona es la sucursal con la mayor cantidad de nuevos clientes (con 25 y 38 en los años 2010 y 2011 respectivamente). \n",
    "\n",
    "Asimismo, se decide calcular la variación porcentual anual de estos datos. En el caso de la sucursales de Madrid y Barcelona no existe variación alguna, mientras que en Pamplona la subida es notoria y en Salamanca la bajada es muy pronunciada."
   ]
  },
  {
   "cell_type": "raw",
   "metadata": {},
   "source": [
    "Conclusión:\n",
    "    \n",
    "Como directores del banco pediría replicar la estrategia que está siendo empleanda para la captación de clientes en Pamplona para que pueda ser replicada a todas las demás sucursales. Además, no se debería pasar por alto el decrecimiento repentino que sufre Salamanca en 2011 con respecto al 2010 y se debería tomar medidas inmediatas para que no ocurriera lo mismo de 2012 en adelante. "
   ]
  },
  {
   "cell_type": "code",
   "execution_count": 107,
   "metadata": {},
   "outputs": [],
   "source": [
    "# También se va a observar cómo se distribuyen los nuevos clientes por tipo de cuenta a lo largo de los años"
   ]
  },
  {
   "cell_type": "code",
   "execution_count": 115,
   "metadata": {},
   "outputs": [
    {
     "output_type": "execute_result",
     "data": {
      "text/plain": [
       "<pandas.io.formats.style.Styler at 0x25d61a53048>"
      ],
      "text/html": "<style  type=\"text/css\" >\n    #T_afc3198c_a118_11eb_8c46_705a0f3f1b44row0_col0 {\n            background-color:  #bf7272;\n            color:  #000000;\n            color:  black;\n        }    #T_afc3198c_a118_11eb_8c46_705a0f3f1b44row0_col1 {\n            color:  black;\n        }    #T_afc3198c_a118_11eb_8c46_705a0f3f1b44row1_col0 {\n            background-color:  #e3b3b3;\n            color:  #000000;\n            color:  black;\n        }    #T_afc3198c_a118_11eb_8c46_705a0f3f1b44row1_col1 {\n            color:  black;\n        }    #T_afc3198c_a118_11eb_8c46_705a0f3f1b44row2_col0 {\n            background-color:  #e3b3b3;\n            color:  #000000;\n            color:  black;\n        }    #T_afc3198c_a118_11eb_8c46_705a0f3f1b44row2_col1 {\n            color:  black;\n        }    #T_afc3198c_a118_11eb_8c46_705a0f3f1b44row3_col0 {\n            background-color:  #ffe5e5;\n            color:  #000000;\n            color:  black;\n        }    #T_afc3198c_a118_11eb_8c46_705a0f3f1b44row3_col1 {\n            color:  black;\n        }    #T_afc3198c_a118_11eb_8c46_705a0f3f1b44row4_col0 {\n            background-color:  #bf7272;\n            color:  #000000;\n            color:  black;\n        }    #T_afc3198c_a118_11eb_8c46_705a0f3f1b44row4_col1 {\n            color:  black;\n        }    #T_afc3198c_a118_11eb_8c46_705a0f3f1b44row5_col0 {\n            background-color:  #e3b3b3;\n            color:  #000000;\n            color:  black;\n        }    #T_afc3198c_a118_11eb_8c46_705a0f3f1b44row5_col1 {\n            color:  black;\n        }    #T_afc3198c_a118_11eb_8c46_705a0f3f1b44row6_col0 {\n            background-color:  #e7b9b9;\n            color:  #000000;\n            color:  black;\n        }    #T_afc3198c_a118_11eb_8c46_705a0f3f1b44row6_col1 {\n            color:  red;\n        }    #T_afc3198c_a118_11eb_8c46_705a0f3f1b44row7_col0 {\n            background-color:  #ffe5e5;\n            color:  #000000;\n            color:  black;\n        }    #T_afc3198c_a118_11eb_8c46_705a0f3f1b44row7_col1 {\n            color:  black;\n        }</style><table id=\"T_afc3198c_a118_11eb_8c46_705a0f3f1b44\" ><thead>    <tr>        <th class=\"blank\" ></th>        <th class=\"blank level0\" ></th>        <th class=\"col_heading level0 col0\" >Núm_Nuevos_Clientes</th>        <th class=\"col_heading level0 col1\" >%Cambio_Anual</th>    </tr>    <tr>        <th class=\"index_name level0\" >Año</th>        <th class=\"index_name level1\" >Tipo_Cta</th>        <th class=\"blank\" ></th>        <th class=\"blank\" ></th>    </tr></thead><tbody>\n                <tr>\n                        <th id=\"T_afc3198c_a118_11eb_8c46_705a0f3f1b44level0_row0\" class=\"row_heading level0 row0\" rowspan=4>2010</th>\n                        <th id=\"T_afc3198c_a118_11eb_8c46_705a0f3f1b44level1_row0\" class=\"row_heading level1 row0\" >Corriente</th>\n                        <td id=\"T_afc3198c_a118_11eb_8c46_705a0f3f1b44row0_col0\" class=\"data row0 col0\" >26</td>\n                        <td id=\"T_afc3198c_a118_11eb_8c46_705a0f3f1b44row0_col1\" class=\"data row0 col1\" >+nan%</td>\n            </tr>\n            <tr>\n                                <th id=\"T_afc3198c_a118_11eb_8c46_705a0f3f1b44level1_row1\" class=\"row_heading level1 row1\" >Cuenta Vivienda</th>\n                        <td id=\"T_afc3198c_a118_11eb_8c46_705a0f3f1b44row1_col0\" class=\"data row1 col0\" >16</td>\n                        <td id=\"T_afc3198c_a118_11eb_8c46_705a0f3f1b44row1_col1\" class=\"data row1 col1\" >+nan%</td>\n            </tr>\n            <tr>\n                                <th id=\"T_afc3198c_a118_11eb_8c46_705a0f3f1b44level1_row2\" class=\"row_heading level1 row2\" >Fondo Inversión</th>\n                        <td id=\"T_afc3198c_a118_11eb_8c46_705a0f3f1b44row2_col0\" class=\"data row2 col0\" >16</td>\n                        <td id=\"T_afc3198c_a118_11eb_8c46_705a0f3f1b44row2_col1\" class=\"data row2 col1\" >+nan%</td>\n            </tr>\n            <tr>\n                                <th id=\"T_afc3198c_a118_11eb_8c46_705a0f3f1b44level1_row3\" class=\"row_heading level1 row3\" >Plan Jubilación</th>\n                        <td id=\"T_afc3198c_a118_11eb_8c46_705a0f3f1b44row3_col0\" class=\"data row3 col0\" >8</td>\n                        <td id=\"T_afc3198c_a118_11eb_8c46_705a0f3f1b44row3_col1\" class=\"data row3 col1\" >+nan%</td>\n            </tr>\n            <tr>\n                        <th id=\"T_afc3198c_a118_11eb_8c46_705a0f3f1b44level0_row4\" class=\"row_heading level0 row4\" rowspan=4>2011</th>\n                        <th id=\"T_afc3198c_a118_11eb_8c46_705a0f3f1b44level1_row4\" class=\"row_heading level1 row4\" >Corriente</th>\n                        <td id=\"T_afc3198c_a118_11eb_8c46_705a0f3f1b44row4_col0\" class=\"data row4 col0\" >26</td>\n                        <td id=\"T_afc3198c_a118_11eb_8c46_705a0f3f1b44row4_col1\" class=\"data row4 col1\" >+0.000%</td>\n            </tr>\n            <tr>\n                                <th id=\"T_afc3198c_a118_11eb_8c46_705a0f3f1b44level1_row5\" class=\"row_heading level1 row5\" >Cuenta Vivienda</th>\n                        <td id=\"T_afc3198c_a118_11eb_8c46_705a0f3f1b44row5_col0\" class=\"data row5 col0\" >16</td>\n                        <td id=\"T_afc3198c_a118_11eb_8c46_705a0f3f1b44row5_col1\" class=\"data row5 col1\" >+0.000%</td>\n            </tr>\n            <tr>\n                                <th id=\"T_afc3198c_a118_11eb_8c46_705a0f3f1b44level1_row6\" class=\"row_heading level1 row6\" >Fondo Inversión</th>\n                        <td id=\"T_afc3198c_a118_11eb_8c46_705a0f3f1b44row6_col0\" class=\"data row6 col0\" >15</td>\n                        <td id=\"T_afc3198c_a118_11eb_8c46_705a0f3f1b44row6_col1\" class=\"data row6 col1\" >-6.250%</td>\n            </tr>\n            <tr>\n                                <th id=\"T_afc3198c_a118_11eb_8c46_705a0f3f1b44level1_row7\" class=\"row_heading level1 row7\" >Plan Jubilación</th>\n                        <td id=\"T_afc3198c_a118_11eb_8c46_705a0f3f1b44row7_col0\" class=\"data row7 col0\" >8</td>\n                        <td id=\"T_afc3198c_a118_11eb_8c46_705a0f3f1b44row7_col1\" class=\"data row7 col1\" >+0.000%</td>\n            </tr>\n    </tbody></table>"
     },
     "metadata": {},
     "execution_count": 115
    }
   ],
   "source": [
    "# YOUR TURN\n"
   ]
  },
  {
   "cell_type": "raw",
   "metadata": {},
   "source": [
    "Observaciones:\n",
    "\n",
    "Se grafica la distribución de nuevos clientes según el año y según el tipo de cuenta para observar qué tipo de cuenta es más deseable para los nuevos clientes. Se observa que para ambos años la cuenta corriente es el tipo de cuenta con la mayor cantidad de nuevos clientes (con 26 nuevos clientes en ambos años) \n",
    "\n",
    "Asimismo, se decide calcular la variación porcentual anual de estos datos. El único caso en el que se aprecia una variación es en el fondo de inversión que disminuye un 6.25% con respecto al año anterior. "
   ]
  },
  {
   "cell_type": "raw",
   "metadata": {},
   "source": [
    "Conlusión:\n",
    "    \n",
    "Como director, quizás sea necesario fomentar las nuevas cuentas de Plan de Jubilación que, pese a que no hayan sufrido ningún cambio de 2010 a 2011 en cuanto al número de nuevos clientes, es el tipo de cuenta que más necesita ser fortalecida de las 5 (solo presenta 8 nuevos clientes en 2010 y 2011)."
   ]
  },
  {
   "cell_type": "code",
   "execution_count": null,
   "metadata": {},
   "outputs": [],
   "source": [
    "# Por último se va a relizar un cálculo exhaustivo de los importes de los nuevos clientes"
   ]
  },
  {
   "cell_type": "code",
   "execution_count": 114,
   "metadata": {},
   "outputs": [
    {
     "output_type": "execute_result",
     "data": {
      "text/plain": [
       "<pandas.io.formats.style.Styler at 0x25d61a86ef0>"
      ],
      "text/html": "<style  type=\"text/css\" >\n    #T_a2608830_a118_11eb_83c7_705a0f3f1b44row0_col0 {\n            background-color:  #e2fde2;\n            color:  #000000;\n            color:  green;\n        }    #T_a2608830_a118_11eb_83c7_705a0f3f1b44row0_col1 {\n            background-color:  #dffcdf;\n            color:  #000000;\n            color:  green;\n        }    #T_a2608830_a118_11eb_83c7_705a0f3f1b44row0_col2 {\n            color:  green;\n        }    #T_a2608830_a118_11eb_83c7_705a0f3f1b44row0_col3 {\n            color:  green;\n        }    #T_a2608830_a118_11eb_83c7_705a0f3f1b44row1_col0 {\n            background-color:  #72bf72;\n            color:  #000000;\n            color:  green;\n        }    #T_a2608830_a118_11eb_83c7_705a0f3f1b44row1_col1 {\n            background-color:  #72bf72;\n            color:  #000000;\n            color:  green;\n        }    #T_a2608830_a118_11eb_83c7_705a0f3f1b44row1_col2 {\n            color:  green;\n        }    #T_a2608830_a118_11eb_83c7_705a0f3f1b44row1_col3 {\n            color:  green;\n        }    #T_a2608830_a118_11eb_83c7_705a0f3f1b44row2_col0 {\n            background-color:  #88cb88;\n            color:  #000000;\n            color:  green;\n        }    #T_a2608830_a118_11eb_83c7_705a0f3f1b44row2_col1 {\n            background-color:  #87cb87;\n            color:  #000000;\n            color:  green;\n        }    #T_a2608830_a118_11eb_83c7_705a0f3f1b44row2_col2 {\n            color:  green;\n        }    #T_a2608830_a118_11eb_83c7_705a0f3f1b44row2_col3 {\n            color:  green;\n        }    #T_a2608830_a118_11eb_83c7_705a0f3f1b44row3_col0 {\n            background-color:  #e2fde2;\n            color:  #000000;\n            color:  green;\n        }    #T_a2608830_a118_11eb_83c7_705a0f3f1b44row3_col1 {\n            background-color:  #e5ffe5;\n            color:  #000000;\n            color:  green;\n        }    #T_a2608830_a118_11eb_83c7_705a0f3f1b44row3_col2 {\n            color:  green;\n        }    #T_a2608830_a118_11eb_83c7_705a0f3f1b44row3_col3 {\n            color:  green;\n        }    #T_a2608830_a118_11eb_83c7_705a0f3f1b44row4_col0 {\n            background-color:  #e5ffe5;\n            color:  #000000;\n            color:  green;\n        }    #T_a2608830_a118_11eb_83c7_705a0f3f1b44row4_col1 {\n            background-color:  #e5ffe5;\n            color:  #000000;\n            color:  green;\n        }    #T_a2608830_a118_11eb_83c7_705a0f3f1b44row4_col2 {\n            color:  green;\n        }    #T_a2608830_a118_11eb_83c7_705a0f3f1b44row4_col3 {\n            color:  red;\n        }    #T_a2608830_a118_11eb_83c7_705a0f3f1b44row5_col0 {\n            background-color:  #e5ffe5;\n            color:  #000000;\n            color:  green;\n        }    #T_a2608830_a118_11eb_83c7_705a0f3f1b44row5_col1 {\n            background-color:  #e5ffe5;\n            color:  #000000;\n            color:  green;\n        }    #T_a2608830_a118_11eb_83c7_705a0f3f1b44row5_col2 {\n            color:  green;\n        }    #T_a2608830_a118_11eb_83c7_705a0f3f1b44row5_col3 {\n            color:  red;\n        }    #T_a2608830_a118_11eb_83c7_705a0f3f1b44row6_col0 {\n            background-color:  #e5ffe5;\n            color:  #000000;\n            color:  green;\n        }    #T_a2608830_a118_11eb_83c7_705a0f3f1b44row6_col1 {\n            background-color:  #e5ffe5;\n            color:  #000000;\n            color:  green;\n        }    #T_a2608830_a118_11eb_83c7_705a0f3f1b44row6_col2 {\n            color:  green;\n        }    #T_a2608830_a118_11eb_83c7_705a0f3f1b44row6_col3 {\n            color:  red;\n        }    #T_a2608830_a118_11eb_83c7_705a0f3f1b44row7_col0 {\n            background-color:  #e5ffe5;\n            color:  #000000;\n            color:  green;\n        }    #T_a2608830_a118_11eb_83c7_705a0f3f1b44row7_col1 {\n            background-color:  #e5ffe5;\n            color:  #000000;\n            color:  green;\n        }    #T_a2608830_a118_11eb_83c7_705a0f3f1b44row7_col2 {\n            color:  green;\n        }    #T_a2608830_a118_11eb_83c7_705a0f3f1b44row7_col3 {\n            color:  red;\n        }    #T_a2608830_a118_11eb_83c7_705a0f3f1b44row8_col0 {\n            background-color:  #e1fde1;\n            color:  #000000;\n            color:  green;\n        }    #T_a2608830_a118_11eb_83c7_705a0f3f1b44row8_col1 {\n            background-color:  #defbde;\n            color:  #000000;\n            color:  green;\n        }    #T_a2608830_a118_11eb_83c7_705a0f3f1b44row8_col2 {\n            color:  green;\n        }    #T_a2608830_a118_11eb_83c7_705a0f3f1b44row8_col3 {\n            color:  green;\n        }    #T_a2608830_a118_11eb_83c7_705a0f3f1b44row9_col0 {\n            background-color:  #e0fce0;\n            color:  #000000;\n            color:  green;\n        }    #T_a2608830_a118_11eb_83c7_705a0f3f1b44row9_col1 {\n            background-color:  #e0fce0;\n            color:  #000000;\n            color:  green;\n        }    #T_a2608830_a118_11eb_83c7_705a0f3f1b44row9_col2 {\n            color:  red;\n        }    #T_a2608830_a118_11eb_83c7_705a0f3f1b44row9_col3 {\n            color:  green;\n        }    #T_a2608830_a118_11eb_83c7_705a0f3f1b44row10_col0 {\n            background-color:  #e1fde1;\n            color:  #000000;\n            color:  green;\n        }    #T_a2608830_a118_11eb_83c7_705a0f3f1b44row10_col1 {\n            background-color:  #e2fde2;\n            color:  #000000;\n            color:  green;\n        }    #T_a2608830_a118_11eb_83c7_705a0f3f1b44row10_col2 {\n            color:  red;\n        }    #T_a2608830_a118_11eb_83c7_705a0f3f1b44row10_col3 {\n            color:  green;\n        }    #T_a2608830_a118_11eb_83c7_705a0f3f1b44row11_col0 {\n            background-color:  #e2fde2;\n            color:  #000000;\n            color:  green;\n        }    #T_a2608830_a118_11eb_83c7_705a0f3f1b44row11_col1 {\n            background-color:  #e5ffe5;\n            color:  #000000;\n            color:  green;\n        }    #T_a2608830_a118_11eb_83c7_705a0f3f1b44row11_col2 {\n            color:  red;\n        }    #T_a2608830_a118_11eb_83c7_705a0f3f1b44row11_col3 {\n            color:  green;\n        }    #T_a2608830_a118_11eb_83c7_705a0f3f1b44row12_col0 {\n            background-color:  #d1f4d1;\n            color:  #000000;\n            color:  green;\n        }    #T_a2608830_a118_11eb_83c7_705a0f3f1b44row12_col1 {\n            background-color:  #cbf1cb;\n            color:  #000000;\n            color:  green;\n        }    #T_a2608830_a118_11eb_83c7_705a0f3f1b44row12_col2 {\n            color:  green;\n        }    #T_a2608830_a118_11eb_83c7_705a0f3f1b44row12_col3 {\n            color:  green;\n        }    #T_a2608830_a118_11eb_83c7_705a0f3f1b44row13_col0 {\n            background-color:  #a1d9a1;\n            color:  #000000;\n            color:  green;\n        }    #T_a2608830_a118_11eb_83c7_705a0f3f1b44row13_col1 {\n            background-color:  #b6e5b6;\n            color:  #000000;\n            color:  green;\n        }    #T_a2608830_a118_11eb_83c7_705a0f3f1b44row13_col2 {\n            color:  green;\n        }    #T_a2608830_a118_11eb_83c7_705a0f3f1b44row13_col3 {\n            color:  green;\n        }    #T_a2608830_a118_11eb_83c7_705a0f3f1b44row14_col0 {\n            background-color:  #bde9bd;\n            color:  #000000;\n            color:  green;\n        }    #T_a2608830_a118_11eb_83c7_705a0f3f1b44row14_col1 {\n            background-color:  #caf0ca;\n            color:  #000000;\n            color:  green;\n        }    #T_a2608830_a118_11eb_83c7_705a0f3f1b44row14_col2 {\n            color:  green;\n        }    #T_a2608830_a118_11eb_83c7_705a0f3f1b44row14_col3 {\n            color:  green;\n        }    #T_a2608830_a118_11eb_83c7_705a0f3f1b44row15_col0 {\n            background-color:  #caf0ca;\n            color:  #000000;\n            color:  green;\n        }    #T_a2608830_a118_11eb_83c7_705a0f3f1b44row15_col1 {\n            background-color:  #dbf9db;\n            color:  #000000;\n            color:  green;\n        }    #T_a2608830_a118_11eb_83c7_705a0f3f1b44row15_col2 {\n            color:  green;\n        }    #T_a2608830_a118_11eb_83c7_705a0f3f1b44row15_col3 {\n            color:  green;\n        }</style><table id=\"T_a2608830_a118_11eb_83c7_705a0f3f1b44\" ><thead>    <tr>        <th class=\"blank\" ></th>        <th class=\"blank\" ></th>        <th class=\"blank level0\" ></th>        <th class=\"col_heading level0 col0\" >Importe_Medio</th>        <th class=\"col_heading level0 col1\" >Importe_Total</th>        <th class=\"col_heading level0 col2\" >%Cambio_Anual_Importe_Total</th>        <th class=\"col_heading level0 col3\" >%Cambio_Mensual_Importe_Total</th>    </tr>    <tr>        <th class=\"index_name level0\" >Año</th>        <th class=\"index_name level1\" >Mes</th>        <th class=\"index_name level2\" >Tipo_Cta</th>        <th class=\"blank\" ></th>        <th class=\"blank\" ></th>        <th class=\"blank\" ></th>        <th class=\"blank\" ></th>    </tr></thead><tbody>\n                <tr>\n                        <th id=\"T_a2608830_a118_11eb_83c7_705a0f3f1b44level0_row0\" class=\"row_heading level0 row0\" rowspan=8>2010</th>\n                        <th id=\"T_a2608830_a118_11eb_83c7_705a0f3f1b44level1_row0\" class=\"row_heading level1 row0\" rowspan=4>Enero</th>\n                        <th id=\"T_a2608830_a118_11eb_83c7_705a0f3f1b44level2_row0\" class=\"row_heading level2 row0\" >Corriente</th>\n                        <td id=\"T_a2608830_a118_11eb_83c7_705a0f3f1b44row0_col0\" class=\"data row0 col0\" >            4,696.15€</td>\n                        <td id=\"T_a2608830_a118_11eb_83c7_705a0f3f1b44row0_col1\" class=\"data row0 col1\" >           61,050.00€</td>\n                        <td id=\"T_a2608830_a118_11eb_83c7_705a0f3f1b44row0_col2\" class=\"data row0 col2\" >+nan%</td>\n                        <td id=\"T_a2608830_a118_11eb_83c7_705a0f3f1b44row0_col3\" class=\"data row0 col3\" >+nan%</td>\n            </tr>\n            <tr>\n                                        <th id=\"T_a2608830_a118_11eb_83c7_705a0f3f1b44level2_row1\" class=\"row_heading level2 row1\" >Cuenta Vivienda</th>\n                        <td id=\"T_a2608830_a118_11eb_83c7_705a0f3f1b44row1_col0\" class=\"data row1 col0\" >          104,810.00€</td>\n                        <td id=\"T_a2608830_a118_11eb_83c7_705a0f3f1b44row1_col1\" class=\"data row1 col1\" >        1,048,100.00€</td>\n                        <td id=\"T_a2608830_a118_11eb_83c7_705a0f3f1b44row1_col2\" class=\"data row1 col2\" >+nan%</td>\n                        <td id=\"T_a2608830_a118_11eb_83c7_705a0f3f1b44row1_col3\" class=\"data row1 col3\" >+nan%</td>\n            </tr>\n            <tr>\n                                        <th id=\"T_a2608830_a118_11eb_83c7_705a0f3f1b44level2_row2\" class=\"row_heading level2 row2\" >Fondo Inversión</th>\n                        <td id=\"T_a2608830_a118_11eb_83c7_705a0f3f1b44row2_col0\" class=\"data row2 col0\" >           86,100.00€</td>\n                        <td id=\"T_a2608830_a118_11eb_83c7_705a0f3f1b44row2_col1\" class=\"data row2 col1\" >          861,000.00€</td>\n                        <td id=\"T_a2608830_a118_11eb_83c7_705a0f3f1b44row2_col2\" class=\"data row2 col2\" >+nan%</td>\n                        <td id=\"T_a2608830_a118_11eb_83c7_705a0f3f1b44row2_col3\" class=\"data row2 col3\" >+nan%</td>\n            </tr>\n            <tr>\n                                        <th id=\"T_a2608830_a118_11eb_83c7_705a0f3f1b44level2_row3\" class=\"row_heading level2 row3\" >Plan Jubilación</th>\n                        <td id=\"T_a2608830_a118_11eb_83c7_705a0f3f1b44row3_col0\" class=\"data row3 col0\" >            4,705.00€</td>\n                        <td id=\"T_a2608830_a118_11eb_83c7_705a0f3f1b44row3_col1\" class=\"data row3 col1\" >           18,820.00€</td>\n                        <td id=\"T_a2608830_a118_11eb_83c7_705a0f3f1b44row3_col2\" class=\"data row3 col2\" >+nan%</td>\n                        <td id=\"T_a2608830_a118_11eb_83c7_705a0f3f1b44row3_col3\" class=\"data row3 col3\" >+nan%</td>\n            </tr>\n            <tr>\n                                <th id=\"T_a2608830_a118_11eb_83c7_705a0f3f1b44level1_row4\" class=\"row_heading level1 row4\" rowspan=4>Febrero</th>\n                        <th id=\"T_a2608830_a118_11eb_83c7_705a0f3f1b44level2_row4\" class=\"row_heading level2 row4\" >Corriente</th>\n                        <td id=\"T_a2608830_a118_11eb_83c7_705a0f3f1b44row4_col0\" class=\"data row4 col0\" >              715.38€</td>\n                        <td id=\"T_a2608830_a118_11eb_83c7_705a0f3f1b44row4_col1\" class=\"data row4 col1\" >            9,300.00€</td>\n                        <td id=\"T_a2608830_a118_11eb_83c7_705a0f3f1b44row4_col2\" class=\"data row4 col2\" >+nan%</td>\n                        <td id=\"T_a2608830_a118_11eb_83c7_705a0f3f1b44row4_col3\" class=\"data row4 col3\" >-84.767%</td>\n            </tr>\n            <tr>\n                                        <th id=\"T_a2608830_a118_11eb_83c7_705a0f3f1b44level2_row5\" class=\"row_heading level2 row5\" >Cuenta Vivienda</th>\n                        <td id=\"T_a2608830_a118_11eb_83c7_705a0f3f1b44row5_col0\" class=\"data row5 col0\" >            1,470.00€</td>\n                        <td id=\"T_a2608830_a118_11eb_83c7_705a0f3f1b44row5_col1\" class=\"data row5 col1\" >            8,820.00€</td>\n                        <td id=\"T_a2608830_a118_11eb_83c7_705a0f3f1b44row5_col2\" class=\"data row5 col2\" >+nan%</td>\n                        <td id=\"T_a2608830_a118_11eb_83c7_705a0f3f1b44row5_col3\" class=\"data row5 col3\" >-98.597%</td>\n            </tr>\n            <tr>\n                                        <th id=\"T_a2608830_a118_11eb_83c7_705a0f3f1b44level2_row6\" class=\"row_heading level2 row6\" >Fondo Inversión</th>\n                        <td id=\"T_a2608830_a118_11eb_83c7_705a0f3f1b44row6_col0\" class=\"data row6 col0\" >            1,250.00€</td>\n                        <td id=\"T_a2608830_a118_11eb_83c7_705a0f3f1b44row6_col1\" class=\"data row6 col1\" >            7,500.00€</td>\n                        <td id=\"T_a2608830_a118_11eb_83c7_705a0f3f1b44row6_col2\" class=\"data row6 col2\" >+nan%</td>\n                        <td id=\"T_a2608830_a118_11eb_83c7_705a0f3f1b44row6_col3\" class=\"data row6 col3\" >-98.548%</td>\n            </tr>\n            <tr>\n                                        <th id=\"T_a2608830_a118_11eb_83c7_705a0f3f1b44level2_row7\" class=\"row_heading level2 row7\" >Plan Jubilación</th>\n                        <td id=\"T_a2608830_a118_11eb_83c7_705a0f3f1b44row7_col0\" class=\"data row7 col0\" >              975.00€</td>\n                        <td id=\"T_a2608830_a118_11eb_83c7_705a0f3f1b44row7_col1\" class=\"data row7 col1\" >            3,900.00€</td>\n                        <td id=\"T_a2608830_a118_11eb_83c7_705a0f3f1b44row7_col2\" class=\"data row7 col2\" >+nan%</td>\n                        <td id=\"T_a2608830_a118_11eb_83c7_705a0f3f1b44row7_col3\" class=\"data row7 col3\" >-79.277%</td>\n            </tr>\n            <tr>\n                        <th id=\"T_a2608830_a118_11eb_83c7_705a0f3f1b44level0_row8\" class=\"row_heading level0 row8\" rowspan=8>2011</th>\n                        <th id=\"T_a2608830_a118_11eb_83c7_705a0f3f1b44level1_row8\" class=\"row_heading level1 row8\" rowspan=4>Enero</th>\n                        <th id=\"T_a2608830_a118_11eb_83c7_705a0f3f1b44level2_row8\" class=\"row_heading level2 row8\" >Corriente</th>\n                        <td id=\"T_a2608830_a118_11eb_83c7_705a0f3f1b44row8_col0\" class=\"data row8 col0\" >            5,321.43€</td>\n                        <td id=\"T_a2608830_a118_11eb_83c7_705a0f3f1b44row8_col1\" class=\"data row8 col1\" >           74,500.00€</td>\n                        <td id=\"T_a2608830_a118_11eb_83c7_705a0f3f1b44row8_col2\" class=\"data row8 col2\" >+22.031%</td>\n                        <td id=\"T_a2608830_a118_11eb_83c7_705a0f3f1b44row8_col3\" class=\"data row8 col3\" >+643.856%</td>\n            </tr>\n            <tr>\n                                        <th id=\"T_a2608830_a118_11eb_83c7_705a0f3f1b44level2_row9\" class=\"row_heading level2 row9\" >Cuenta Vivienda</th>\n                        <td id=\"T_a2608830_a118_11eb_83c7_705a0f3f1b44row9_col0\" class=\"data row9 col0\" >            5,944.44€</td>\n                        <td id=\"T_a2608830_a118_11eb_83c7_705a0f3f1b44row9_col1\" class=\"data row9 col1\" >           53,500.00€</td>\n                        <td id=\"T_a2608830_a118_11eb_83c7_705a0f3f1b44row9_col2\" class=\"data row9 col2\" >-94.896%</td>\n                        <td id=\"T_a2608830_a118_11eb_83c7_705a0f3f1b44row9_col3\" class=\"data row9 col3\" >+304.384%</td>\n            </tr>\n            <tr>\n                                        <th id=\"T_a2608830_a118_11eb_83c7_705a0f3f1b44level2_row10\" class=\"row_heading level2 row10\" >Fondo Inversión</th>\n                        <td id=\"T_a2608830_a118_11eb_83c7_705a0f3f1b44row10_col0\" class=\"data row10 col0\" >            5,562.50€</td>\n                        <td id=\"T_a2608830_a118_11eb_83c7_705a0f3f1b44row10_col1\" class=\"data row10 col1\" >           44,500.00€</td>\n                        <td id=\"T_a2608830_a118_11eb_83c7_705a0f3f1b44row10_col2\" class=\"data row10 col2\" >-94.832%</td>\n                        <td id=\"T_a2608830_a118_11eb_83c7_705a0f3f1b44row10_col3\" class=\"data row10 col3\" >+345.000%</td>\n            </tr>\n            <tr>\n                                        <th id=\"T_a2608830_a118_11eb_83c7_705a0f3f1b44level2_row11\" class=\"row_heading level2 row11\" >Plan Jubilación</th>\n                        <td id=\"T_a2608830_a118_11eb_83c7_705a0f3f1b44row11_col0\" class=\"data row11 col0\" >            4,000.00€</td>\n                        <td id=\"T_a2608830_a118_11eb_83c7_705a0f3f1b44row11_col1\" class=\"data row11 col1\" >           16,000.00€</td>\n                        <td id=\"T_a2608830_a118_11eb_83c7_705a0f3f1b44row11_col2\" class=\"data row11 col2\" >-14.984%</td>\n                        <td id=\"T_a2608830_a118_11eb_83c7_705a0f3f1b44row11_col3\" class=\"data row11 col3\" >+310.256%</td>\n            </tr>\n            <tr>\n                                <th id=\"T_a2608830_a118_11eb_83c7_705a0f3f1b44level1_row12\" class=\"row_heading level1 row12\" rowspan=4>Febrero</th>\n                        <th id=\"T_a2608830_a118_11eb_83c7_705a0f3f1b44level2_row12\" class=\"row_heading level2 row12\" >Corriente</th>\n                        <td id=\"T_a2608830_a118_11eb_83c7_705a0f3f1b44row12_col0\" class=\"data row12 col0\" >           20,166.67€</td>\n                        <td id=\"T_a2608830_a118_11eb_83c7_705a0f3f1b44row12_col1\" class=\"data row12 col1\" >          242,000.00€</td>\n                        <td id=\"T_a2608830_a118_11eb_83c7_705a0f3f1b44row12_col2\" class=\"data row12 col2\" >+2502.151%</td>\n                        <td id=\"T_a2608830_a118_11eb_83c7_705a0f3f1b44row12_col3\" class=\"data row12 col3\" >+278.971%</td>\n            </tr>\n            <tr>\n                                        <th id=\"T_a2608830_a118_11eb_83c7_705a0f3f1b44level2_row13\" class=\"row_heading level2 row13\" >Cuenta Vivienda</th>\n                        <td id=\"T_a2608830_a118_11eb_83c7_705a0f3f1b44row13_col0\" class=\"data row13 col0\" >           63,142.86€</td>\n                        <td id=\"T_a2608830_a118_11eb_83c7_705a0f3f1b44row13_col1\" class=\"data row13 col1\" >          442,000.00€</td>\n                        <td id=\"T_a2608830_a118_11eb_83c7_705a0f3f1b44row13_col2\" class=\"data row13 col2\" >+4911.338%</td>\n                        <td id=\"T_a2608830_a118_11eb_83c7_705a0f3f1b44row13_col3\" class=\"data row13 col3\" >+962.216%</td>\n            </tr>\n            <tr>\n                                        <th id=\"T_a2608830_a118_11eb_83c7_705a0f3f1b44level2_row14\" class=\"row_heading level2 row14\" >Fondo Inversión</th>\n                        <td id=\"T_a2608830_a118_11eb_83c7_705a0f3f1b44row14_col0\" class=\"data row14 col0\" >           37,571.43€</td>\n                        <td id=\"T_a2608830_a118_11eb_83c7_705a0f3f1b44row14_col1\" class=\"data row14 col1\" >          263,000.00€</td>\n                        <td id=\"T_a2608830_a118_11eb_83c7_705a0f3f1b44row14_col2\" class=\"data row14 col2\" >+3406.667%</td>\n                        <td id=\"T_a2608830_a118_11eb_83c7_705a0f3f1b44row14_col3\" class=\"data row14 col3\" >+575.441%</td>\n            </tr>\n            <tr>\n                                        <th id=\"T_a2608830_a118_11eb_83c7_705a0f3f1b44level2_row15\" class=\"row_heading level2 row15\" >Plan Jubilación</th>\n                        <td id=\"T_a2608830_a118_11eb_83c7_705a0f3f1b44row15_col0\" class=\"data row15 col0\" >           25,500.00€</td>\n                        <td id=\"T_a2608830_a118_11eb_83c7_705a0f3f1b44row15_col1\" class=\"data row15 col1\" >          102,000.00€</td>\n                        <td id=\"T_a2608830_a118_11eb_83c7_705a0f3f1b44row15_col2\" class=\"data row15 col2\" >+2515.385%</td>\n                        <td id=\"T_a2608830_a118_11eb_83c7_705a0f3f1b44row15_col3\" class=\"data row15 col3\" >+537.500%</td>\n            </tr>\n    </tbody></table>"
     },
     "metadata": {},
     "execution_count": 114
    }
   ],
   "source": [
    "# YOUR TURN\n"
   ]
  },
  {
   "cell_type": "raw",
   "metadata": {},
   "source": [
    "Observaciones:\n",
    "    \n",
    "1.En la gráfica superior se presenta el histórico de los importes clasificados por años, meses y tipo de cuenta. Como se observa en la leyenda de la gráfica, se representan tanto el importe total como la media de los importes. También se destaca que los importes han disminuido en cantidad con respecto al año 2010, pero se puede ver que los importes se distribuyen más uniformemente en los distintos tipos de cuenta en 2011. Esto es algo muy destacable que también se puede observar en el crecimiento de las variaciones de los importes (totales y medios) con respecto al año anterior.\n",
    "\n",
    "2.Mediante este gráfico también se puede observar la gran caída que sufren los importes de los nuevos clientes en el més de febrero (las barras prácticamente son invisibles) y las posterior subida de ingresos que se genera a partir de enero de 2011 (las barras tienden al alza, aunque siguen sin sin alcanzar los valores de enero de 2010).\n",
    "\n",
    "3.El valor medio de los importes es de un valor no tan dispar en el caso de febrero de 2011, esto indica que el banco no está registrando tantos clientes en 2010 como lo hacía en 2011 anque este dato se conocía por la gráfica \"Evolución de nuevos clientes.  "
   ]
  },
  {
   "cell_type": "raw",
   "metadata": {},
   "source": [
    "Conlusión:\n",
    "    \n",
    "Como director del banco, parece que la estrategia de distribuir a los nuevos clientes de manera uniforme en los distintos tipos de cuenta va bien encaminda. La curva que se observa en los datos de 2011 es más aplanada y; como se puede ver en las gráficas \"Evolución de importe medio\" y \"Evolución de importe total\", las ganancias con los nuevos clientes están al alza con respecto a meses pasados. Como se ha mencionado en las observaciones, es necesaria la captación de nuevos clientes para que exista un aumento en los importes totales a partir del año 2011. Cabe destacar que la nueva clientela ha de estar homogéneamente distribuida como ya ha sido expresado en la conclusión de la distribución de clientes."
   ]
  }
 ],
 "metadata": {
  "kernelspec": {
   "name": "python373jvsc74a57bd0c97667df2b417b2c1861b0657aa3ae5f4027c11dc1281e8eb66bf81e33002a48",
   "display_name": "Python 3.7.3 64-bit ('Python3.7': conda)"
  },
  "language_info": {
   "codemirror_mode": {
    "name": "ipython",
    "version": 3
   },
   "file_extension": ".py",
   "mimetype": "text/x-python",
   "name": "python",
   "nbconvert_exporter": "python",
   "pygments_lexer": "ipython3",
   "version": "3.7.3-final"
  }
 },
 "nbformat": 4,
 "nbformat_minor": 2
}