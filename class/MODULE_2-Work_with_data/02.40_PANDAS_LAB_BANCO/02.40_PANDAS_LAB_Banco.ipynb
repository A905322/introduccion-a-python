{
 "cells": [
  {
   "cell_type": "markdown",
   "metadata": {},
   "source": [
    "# Práctica Pandas: \n",
    "# INFORME SOBRE CUENTAS BANCARIAS DE LOS AÑOS 2010 Y 2011\n",
    "\n",
    "Introducción a la Programación en Python 2021\n",
    "by Fernando Carazo\n"
   ]
  },
  {
   "cell_type": "code",
   "execution_count": 95,
   "metadata": {},
   "outputs": [],
   "source": [
    "%config IPCompleter.greedy=True\n",
    "import pandas as pd"
   ]
  },
  {
   "cell_type": "markdown",
   "metadata": {},
   "source": [
    "### Load data"
   ]
  },
  {
   "cell_type": "code",
   "execution_count": 96,
   "metadata": {},
   "outputs": [
    {
     "output_type": "execute_result",
     "data": {
      "text/plain": [
       "    Año      Mes   Sucursal         Tipo Cta Nuevo Cliente  Importe\n",
       "0  2011    Enero     Madrid        Corriente            Sí     2500\n",
       "1  2011    Enero  Barcelona  Fondo Inversión            Sí    10000\n",
       "2  2011    Enero  Salamanca        Corriente            Sí     3500\n",
       "3  2011  Febrero  Barcelona  Fondo Inversión            No    75000\n",
       "4  2011  Febrero  Barcelona  Fondo Inversión            No   100000"
      ],
      "text/html": "<div>\n<style scoped>\n    .dataframe tbody tr th:only-of-type {\n        vertical-align: middle;\n    }\n\n    .dataframe tbody tr th {\n        vertical-align: top;\n    }\n\n    .dataframe thead th {\n        text-align: right;\n    }\n</style>\n<table border=\"1\" class=\"dataframe\">\n  <thead>\n    <tr style=\"text-align: right;\">\n      <th></th>\n      <th>Año</th>\n      <th>Mes</th>\n      <th>Sucursal</th>\n      <th>Tipo Cta</th>\n      <th>Nuevo Cliente</th>\n      <th>Importe</th>\n    </tr>\n  </thead>\n  <tbody>\n    <tr>\n      <th>0</th>\n      <td>2011</td>\n      <td>Enero</td>\n      <td>Madrid</td>\n      <td>Corriente</td>\n      <td>Sí</td>\n      <td>2500</td>\n    </tr>\n    <tr>\n      <th>1</th>\n      <td>2011</td>\n      <td>Enero</td>\n      <td>Barcelona</td>\n      <td>Fondo Inversión</td>\n      <td>Sí</td>\n      <td>10000</td>\n    </tr>\n    <tr>\n      <th>2</th>\n      <td>2011</td>\n      <td>Enero</td>\n      <td>Salamanca</td>\n      <td>Corriente</td>\n      <td>Sí</td>\n      <td>3500</td>\n    </tr>\n    <tr>\n      <th>3</th>\n      <td>2011</td>\n      <td>Febrero</td>\n      <td>Barcelona</td>\n      <td>Fondo Inversión</td>\n      <td>No</td>\n      <td>75000</td>\n    </tr>\n    <tr>\n      <th>4</th>\n      <td>2011</td>\n      <td>Febrero</td>\n      <td>Barcelona</td>\n      <td>Fondo Inversión</td>\n      <td>No</td>\n      <td>100000</td>\n    </tr>\n  </tbody>\n</table>\n</div>"
     },
     "metadata": {},
     "execution_count": 96
    }
   ],
   "source": [
    "data = pd.read_excel(\"Banco.xlsx\")\n",
    "data = pd.DataFrame(data)\n",
    "data.head()"
   ]
  },
  {
   "cell_type": "markdown",
   "metadata": {},
   "source": [
    "### 0. Numero de cuentas por año. ¿Y por mes y año?"
   ]
  },
  {
   "cell_type": "code",
   "execution_count": 97,
   "metadata": {},
   "outputs": [
    {
     "output_type": "stream",
     "name": "stdout",
     "text": [
      "Número de cuentas por año:\n\n      Mes  Sucursal  Tipo Cta  Nuevo Cliente  Importe\nAño                                                  \n2010  119       119       119            119      119\n2011  119       119       119            119      119\nNumero de cuentas por año y mes\n              Sucursal  Tipo Cta  Nuevo Cliente  Importe\nAño  Mes                                                \n2010 Enero          59        59             59       59\n     Febrero        60        60             60       60\n2011 Enero          59        59             59       59\n     Febrero        60        60             60       60\n"
     ]
    }
   ],
   "source": [
    "print(\"Número de cuentas por año:\\n\\r\")\n",
    "print(data.groupby([\"Año\"]).count())\n",
    "\n",
    "# Meses diferentes\n",
    "# set(data[\"Mes\"])\n",
    "\n",
    "\n",
    "print(\"Numero de cuentas por año y mes\")\n",
    "print(data.groupby([\"Año\", \"Mes\"]).count())\n",
    "\n"
   ]
  },
  {
   "cell_type": "markdown",
   "metadata": {},
   "source": [
    "### 1.\tCantidad total de importe de clientes por año"
   ]
  },
  {
   "cell_type": "code",
   "execution_count": 98,
   "metadata": {},
   "outputs": [
    {
     "output_type": "stream",
     "name": "stdout",
     "text": [
      "Año\n2010    2231240\n2011    2678000\nName: Importe, dtype: int64\n"
     ]
    }
   ],
   "source": [
    "print(data.groupby([\"Año\"])[\"Importe\"].sum())"
   ]
  },
  {
   "cell_type": "markdown",
   "metadata": {},
   "source": [
    "### 2.\t¿Cuánto ha aumentado /disminuido 2011 vs 2010? ¿Y según tipo de cuenta?\n"
   ]
  },
  {
   "cell_type": "code",
   "execution_count": 99,
   "metadata": {},
   "outputs": [
    {
     "output_type": "stream",
     "name": "stdout",
     "text": [
      "Año\n2010         NaN\n2011    446760.0\nName: Importe, dtype: float64\n\n\nIndex(['Importe'], dtype='object')\n                        Importe\nAño  Tipo Cta                  \n2010 Corriente              NaN\n     Cuenta Vivienda        NaN\n     Fondo Inversión        NaN\n     Plan Jubilación        NaN\n2011 Corriente        1016200.0\n     Cuenta Vivienda  -570770.0\n     Fondo Inversión  -162600.0\n     Plan Jubilación   163930.0\n"
     ]
    }
   ],
   "source": [
    "diffImportePorAño = (data.groupby([\"Año\"])[\"Importe\"].sum()).diff()\n",
    "\n",
    "print(diffImportePorAño)\n",
    "print(\"\\n\\r\")\n",
    "\n",
    "diffImportePorAñoYTC = (data.groupby([\"Año\", \"Tipo Cta\"]).sum()).diff(periods=4)\n",
    "\n",
    "print(diffImportePorAñoYTC.columns)\n",
    "\n",
    "print(diffImportePorAñoYTC)\n"
   ]
  },
  {
   "cell_type": "markdown",
   "metadata": {},
   "source": [
    "### 3.\t¿Cómo se distribuye el importe según las sucursales? ¿y en porcentajes? ¿Qué sucursal ha ingresado más?"
   ]
  },
  {
   "cell_type": "code",
   "execution_count": 100,
   "metadata": {},
   "outputs": [
    {
     "output_type": "stream",
     "name": "stdout",
     "text": [
      "\n\n\nImporte por sucursal en bruto:\nSucursal\nBarcelona    1651500\nPamplona     1493520\nMadrid       1339670\nSalamanca     424550\nName: Importe, dtype: int64\n\n\n\nImporte en porcentaje\nSucursal\nBarcelona    33.640645\nMadrid       27.288745\nPamplona     30.422632\nSalamanca     8.647978\nName: Importe, dtype: float64\n\n\n\nLa sucursal que más ha ganado es:\nSucursal\nBarcelona    1651500\nName: Importe, dtype: int64\n"
     ]
    }
   ],
   "source": [
    "# print(data.head(5))\n",
    "\n",
    "sucursalGroup = data.groupby([\"Sucursal\"])\n",
    "print(\"\\n\\n\\nImporte por sucursal en bruto:\")\n",
    "importeTotalPorSucursal = sucursalGroup[\"Importe\"].sum()\n",
    "print(importeTotalPorSucursal.sort_values(ascending=False))\n",
    "\n",
    "total = importeTotalPorSucursal.sum()\n",
    "print(\"\\n\\n\\nImporte en porcentaje\")\n",
    "print(importeTotalPorSucursal / total*100)\n",
    "\n",
    "print(\"\\n\\n\\nLa sucursal que más ha ganado es:\")\n",
    "print(importeTotalPorSucursal[importeTotalPorSucursal == importeTotalPorSucursal.max()])"
   ]
  },
  {
   "cell_type": "markdown",
   "metadata": {},
   "source": [
    "### 4.\t¿Y por tipo de cuenta bancaria? ¿Qué tipo de cuenta habría que fortalecer?"
   ]
  },
  {
   "cell_type": "code",
   "execution_count": 101,
   "metadata": {},
   "outputs": [
    {
     "output_type": "stream",
     "name": "stdout",
     "text": [
      "Importe por tipo de cuenta:\n\nTipo Cta\nFondo Inversión    1703600\nCuenta Vivienda    1636770\nCorriente          1345800\nPlan Jubilación     223070\nName: Importe, dtype: int64\n\n\n\nImporte en porcentaje\nTipo Cta\nFondo Inversión    34.701909\nCuenta Vivienda    33.340599\nCorriente          27.413612\nPlan Jubilación     4.543881\nName: Importe, dtype: float64\n\n\n\nEl tipo de cuenta que hay que fortalecer es:\n\nTipo Cta\nPlan Jubilación    223070\nName: Importe, dtype: int64\n"
     ]
    }
   ],
   "source": [
    "tipoGroup = data.groupby([\"Tipo Cta\"])\n",
    "ImportePorTipo = tipoGroup[\"Importe\"].sum()\n",
    "print(\"Importe por tipo de cuenta:\\n\\r\")\n",
    "print(ImportePorTipo.sort_values(ascending=False))\n",
    "print(\"\\n\\n\\nImporte en porcentaje\")\n",
    "print((ImportePorTipo / ImportePorTipo.sum() * 100).sort_values(ascending=False))\n",
    "print(\"\\n\\n\\nEl tipo de cuenta que hay que fortalecer es:\\n\\r\")\n",
    "print(ImportePorTipo[ImportePorTipo == ImportePorTipo.min()])"
   ]
  },
  {
   "cell_type": "markdown",
   "metadata": {},
   "source": [
    "### 5.\t¿Cómo se distribuyen los tipos de cuenta según ciudad? "
   ]
  },
  {
   "cell_type": "code",
   "execution_count": 111,
   "metadata": {},
   "outputs": [
    {
     "output_type": "stream",
     "name": "stdout",
     "text": [
      "Número de cuentas por ciudad y tipo de cuenta:\n\n"
     ]
    },
    {
     "output_type": "execute_result",
     "data": {
      "text/plain": [
       "                           Importe\n",
       "Sucursal  Tipo Cta                \n",
       "Barcelona Corriente             16\n",
       "          Cuenta Vivienda       12\n",
       "          Fondo Inversión       14\n",
       "Madrid    Corriente             34\n",
       "          Cuenta Vivienda       10\n",
       "          Fondo Inversión        8\n",
       "          Plan Jubilación        8\n",
       "Pamplona  Corriente             28\n",
       "          Cuenta Vivienda       16\n",
       "          Fondo Inversión       24\n",
       "          Plan Jubilación       12\n",
       "Salamanca Corriente             28\n",
       "          Cuenta Vivienda        8\n",
       "          Fondo Inversión       14\n",
       "          Plan Jubilación        6"
      ],
      "text/html": "<div>\n<style scoped>\n    .dataframe tbody tr th:only-of-type {\n        vertical-align: middle;\n    }\n\n    .dataframe tbody tr th {\n        vertical-align: top;\n    }\n\n    .dataframe thead th {\n        text-align: right;\n    }\n</style>\n<table border=\"1\" class=\"dataframe\">\n  <thead>\n    <tr style=\"text-align: right;\">\n      <th></th>\n      <th></th>\n      <th>Importe</th>\n    </tr>\n    <tr>\n      <th>Sucursal</th>\n      <th>Tipo Cta</th>\n      <th></th>\n    </tr>\n  </thead>\n  <tbody>\n    <tr>\n      <th rowspan=\"3\" valign=\"top\">Barcelona</th>\n      <th>Corriente</th>\n      <td>16</td>\n    </tr>\n    <tr>\n      <th>Cuenta Vivienda</th>\n      <td>12</td>\n    </tr>\n    <tr>\n      <th>Fondo Inversión</th>\n      <td>14</td>\n    </tr>\n    <tr>\n      <th rowspan=\"4\" valign=\"top\">Madrid</th>\n      <th>Corriente</th>\n      <td>34</td>\n    </tr>\n    <tr>\n      <th>Cuenta Vivienda</th>\n      <td>10</td>\n    </tr>\n    <tr>\n      <th>Fondo Inversión</th>\n      <td>8</td>\n    </tr>\n    <tr>\n      <th>Plan Jubilación</th>\n      <td>8</td>\n    </tr>\n    <tr>\n      <th rowspan=\"4\" valign=\"top\">Pamplona</th>\n      <th>Corriente</th>\n      <td>28</td>\n    </tr>\n    <tr>\n      <th>Cuenta Vivienda</th>\n      <td>16</td>\n    </tr>\n    <tr>\n      <th>Fondo Inversión</th>\n      <td>24</td>\n    </tr>\n    <tr>\n      <th>Plan Jubilación</th>\n      <td>12</td>\n    </tr>\n    <tr>\n      <th rowspan=\"4\" valign=\"top\">Salamanca</th>\n      <th>Corriente</th>\n      <td>28</td>\n    </tr>\n    <tr>\n      <th>Cuenta Vivienda</th>\n      <td>8</td>\n    </tr>\n    <tr>\n      <th>Fondo Inversión</th>\n      <td>14</td>\n    </tr>\n    <tr>\n      <th>Plan Jubilación</th>\n      <td>6</td>\n    </tr>\n  </tbody>\n</table>\n</div>"
     },
     "metadata": {},
     "execution_count": 111
    }
   ],
   "source": [
    "groupCityType = data.groupby([\"Sucursal\", \"Tipo Cta\"])\n",
    "print(\"Número de cuentas por ciudad y tipo de cuenta:\\n\\r\")\n",
    "pd.DataFrame(groupCityType[\"Importe\"].count())"
   ]
  },
  {
   "cell_type": "markdown",
   "metadata": {},
   "source": [
    "### 6.\t¿Qué tipo de cuenta es la más fuerte en cada ciudad?"
   ]
  },
  {
   "cell_type": "code",
   "execution_count": 103,
   "metadata": {},
   "outputs": [
    {
     "output_type": "execute_result",
     "data": {
      "text/plain": [
       "    Sucursal  Importe         Tipo Cta\n",
       "0  Barcelona   723400        Corriente\n",
       "1     Madrid  1037070  Cuenta Vivienda\n",
       "2   Pamplona   950900  Fondo Inversión\n",
       "3  Salamanca   179500  Plan Jubilación"
      ],
      "text/html": "<div>\n<style scoped>\n    .dataframe tbody tr th:only-of-type {\n        vertical-align: middle;\n    }\n\n    .dataframe tbody tr th {\n        vertical-align: top;\n    }\n\n    .dataframe thead th {\n        text-align: right;\n    }\n</style>\n<table border=\"1\" class=\"dataframe\">\n  <thead>\n    <tr style=\"text-align: right;\">\n      <th></th>\n      <th>Sucursal</th>\n      <th>Importe</th>\n      <th>Tipo Cta</th>\n    </tr>\n  </thead>\n  <tbody>\n    <tr>\n      <th>0</th>\n      <td>Barcelona</td>\n      <td>723400</td>\n      <td>Corriente</td>\n    </tr>\n    <tr>\n      <th>1</th>\n      <td>Madrid</td>\n      <td>1037070</td>\n      <td>Cuenta Vivienda</td>\n    </tr>\n    <tr>\n      <th>2</th>\n      <td>Pamplona</td>\n      <td>950900</td>\n      <td>Fondo Inversión</td>\n    </tr>\n    <tr>\n      <th>3</th>\n      <td>Salamanca</td>\n      <td>179500</td>\n      <td>Plan Jubilación</td>\n    </tr>\n  </tbody>\n</table>\n</div>"
     },
     "metadata": {},
     "execution_count": 103
    }
   ],
   "source": [
    "mejorCuenta = pd.DataFrame(data.groupby([\"Sucursal\", \"Tipo Cta\"])[\"Importe\"].sum())\n",
    "mejorCuenta1 = mejor_cuenta.max(level=0).reset_index()\n",
    "mejorTipo = pd.DataFrame(mejor_cuenta.max(level=1).reset_index()[\"Tipo Cta\"])\n",
    "mejorCuenta1[\"Tipo Cta\"] = mejor_tipo[\"Tipo Cta\"]\n",
    "mejorCuenta1"
   ]
  },
  {
   "cell_type": "markdown",
   "metadata": {},
   "source": [
    "### 7.\t¿Qué cuenta habría que fortalecer en Barcelona? ¿Y en Madrid?"
   ]
  },
  {
   "cell_type": "code",
   "execution_count": 104,
   "metadata": {},
   "outputs": [
    {
     "output_type": "execute_result",
     "data": {
      "text/plain": [
       "                           Importe\n",
       "Sucursal  Tipo Cta                \n",
       "Barcelona Cuenta Vivienda   430600"
      ],
      "text/html": "<div>\n<style scoped>\n    .dataframe tbody tr th:only-of-type {\n        vertical-align: middle;\n    }\n\n    .dataframe tbody tr th {\n        vertical-align: top;\n    }\n\n    .dataframe thead th {\n        text-align: right;\n    }\n</style>\n<table border=\"1\" class=\"dataframe\">\n  <thead>\n    <tr style=\"text-align: right;\">\n      <th></th>\n      <th></th>\n      <th>Importe</th>\n    </tr>\n    <tr>\n      <th>Sucursal</th>\n      <th>Tipo Cta</th>\n      <th></th>\n    </tr>\n  </thead>\n  <tbody>\n    <tr>\n      <th>Barcelona</th>\n      <th>Cuenta Vivienda</th>\n      <td>430600</td>\n    </tr>\n  </tbody>\n</table>\n</div>"
     },
     "metadata": {},
     "execution_count": 104
    }
   ],
   "source": [
    "mejorarBarcelona = pd.DataFrame(data[data[\"Sucursal\"] == \"Barcelona\"].groupby([\"Sucursal\", \"Tipo Cta\"])[\"Importe\"].sum()).sort_values(\"Importe\",ascending=False)\n",
    "mejorarBarcelona = mejorarBarcelona[mejorarBarcelona[\"Importe\"] == mejorarBarcelona[\"Importe\"].min()]\n",
    "mejorarBarcelona"
   ]
  },
  {
   "cell_type": "code",
   "execution_count": 105,
   "metadata": {},
   "outputs": [
    {
     "output_type": "execute_result",
     "data": {
      "text/plain": [
       "                          Importe\n",
       "Sucursal Tipo Cta                \n",
       "Madrid   Plan Jubilación    32800"
      ],
      "text/html": "<div>\n<style scoped>\n    .dataframe tbody tr th:only-of-type {\n        vertical-align: middle;\n    }\n\n    .dataframe tbody tr th {\n        vertical-align: top;\n    }\n\n    .dataframe thead th {\n        text-align: right;\n    }\n</style>\n<table border=\"1\" class=\"dataframe\">\n  <thead>\n    <tr style=\"text-align: right;\">\n      <th></th>\n      <th></th>\n      <th>Importe</th>\n    </tr>\n    <tr>\n      <th>Sucursal</th>\n      <th>Tipo Cta</th>\n      <th></th>\n    </tr>\n  </thead>\n  <tbody>\n    <tr>\n      <th>Madrid</th>\n      <th>Plan Jubilación</th>\n      <td>32800</td>\n    </tr>\n  </tbody>\n</table>\n</div>"
     },
     "metadata": {},
     "execution_count": 105
    }
   ],
   "source": [
    "mejorarMadrid = pd.DataFrame(data[data[\"Sucursal\"] == \"Madrid\"].groupby([\"Sucursal\", \"Tipo Cta\"])[\"Importe\"].sum()).sort_values(\"Importe\",ascending=False)\n",
    "mejorarMadrid = mejorarMadrid[mejorarMadrid[\"Importe\"] == mejorarMadrid[\"Importe\"].min()]\n",
    "mejorarMadrid"
   ]
  },
  {
   "cell_type": "markdown",
   "metadata": {},
   "source": [
    "### 8.\t¿Cuántos nuevos clientes se han conseguido en 2010? ¿y en 2011? "
   ]
  },
  {
   "cell_type": "code",
   "execution_count": 106,
   "metadata": {},
   "outputs": [
    {
     "output_type": "execute_result",
     "data": {
      "text/plain": [
       "      Nuevo Cliente\n",
       "Año                \n",
       "2010             66\n",
       "2011             65"
      ],
      "text/html": "<div>\n<style scoped>\n    .dataframe tbody tr th:only-of-type {\n        vertical-align: middle;\n    }\n\n    .dataframe tbody tr th {\n        vertical-align: top;\n    }\n\n    .dataframe thead th {\n        text-align: right;\n    }\n</style>\n<table border=\"1\" class=\"dataframe\">\n  <thead>\n    <tr style=\"text-align: right;\">\n      <th></th>\n      <th>Nuevo Cliente</th>\n    </tr>\n    <tr>\n      <th>Año</th>\n      <th></th>\n    </tr>\n  </thead>\n  <tbody>\n    <tr>\n      <th>2010</th>\n      <td>66</td>\n    </tr>\n    <tr>\n      <th>2011</th>\n      <td>65</td>\n    </tr>\n  </tbody>\n</table>\n</div>"
     },
     "metadata": {},
     "execution_count": 106
    }
   ],
   "source": [
    "nClientesAño = pd.DataFrame(data[data[\"Nuevo Cliente\"] == \"Sí\"].groupby([\"Año\"])[\"Nuevo Cliente\"].count())\n",
    "nClientesAño"
   ]
  },
  {
   "cell_type": "markdown",
   "metadata": {},
   "source": [
    "### 9.\tHaga un análisis de los nuevos clientes. Si usted fuera el director del banco, ¿Dónde le gustaría mejorar?"
   ]
  },
  {
   "cell_type": "code",
   "execution_count": 107,
   "metadata": {},
   "outputs": [
    {
     "output_type": "execute_result",
     "data": {
      "text/plain": [
       "                Nuevo Cliente\n",
       "Año  Sucursal                \n",
       "2010 Barcelona             10\n",
       "     Madrid                15\n",
       "     Pamplona              25\n",
       "     Salamanca             16\n",
       "2011 Barcelona             10\n",
       "     Madrid                15\n",
       "     Pamplona              38\n",
       "     Salamanca              2"
      ],
      "text/html": "<div>\n<style scoped>\n    .dataframe tbody tr th:only-of-type {\n        vertical-align: middle;\n    }\n\n    .dataframe tbody tr th {\n        vertical-align: top;\n    }\n\n    .dataframe thead th {\n        text-align: right;\n    }\n</style>\n<table border=\"1\" class=\"dataframe\">\n  <thead>\n    <tr style=\"text-align: right;\">\n      <th></th>\n      <th></th>\n      <th>Nuevo Cliente</th>\n    </tr>\n    <tr>\n      <th>Año</th>\n      <th>Sucursal</th>\n      <th></th>\n    </tr>\n  </thead>\n  <tbody>\n    <tr>\n      <th rowspan=\"4\" valign=\"top\">2010</th>\n      <th>Barcelona</th>\n      <td>10</td>\n    </tr>\n    <tr>\n      <th>Madrid</th>\n      <td>15</td>\n    </tr>\n    <tr>\n      <th>Pamplona</th>\n      <td>25</td>\n    </tr>\n    <tr>\n      <th>Salamanca</th>\n      <td>16</td>\n    </tr>\n    <tr>\n      <th rowspan=\"4\" valign=\"top\">2011</th>\n      <th>Barcelona</th>\n      <td>10</td>\n    </tr>\n    <tr>\n      <th>Madrid</th>\n      <td>15</td>\n    </tr>\n    <tr>\n      <th>Pamplona</th>\n      <td>38</td>\n    </tr>\n    <tr>\n      <th>Salamanca</th>\n      <td>2</td>\n    </tr>\n  </tbody>\n</table>\n</div>"
     },
     "metadata": {},
     "execution_count": 107
    }
   ],
   "source": [
    "nClientesAñoSucursal = pd.DataFrame(data[data[\"Nuevo Cliente\"] == \"Sí\"].groupby([\"Año\", \"Sucursal\"])[\"Nuevo Cliente\"].count())\n",
    "nClientesAñoSucursal"
   ]
  },
  {
   "cell_type": "code",
   "execution_count": 108,
   "metadata": {},
   "outputs": [
    {
     "output_type": "execute_result",
     "data": {
      "text/plain": [
       "           Importe\n",
       "Sucursal          \n",
       "Barcelona       10"
      ],
      "text/html": "<div>\n<style scoped>\n    .dataframe tbody tr th:only-of-type {\n        vertical-align: middle;\n    }\n\n    .dataframe tbody tr th {\n        vertical-align: top;\n    }\n\n    .dataframe thead th {\n        text-align: right;\n    }\n</style>\n<table border=\"1\" class=\"dataframe\">\n  <thead>\n    <tr style=\"text-align: right;\">\n      <th></th>\n      <th>Importe</th>\n    </tr>\n    <tr>\n      <th>Sucursal</th>\n      <th></th>\n    </tr>\n  </thead>\n  <tbody>\n    <tr>\n      <th>Barcelona</th>\n      <td>10</td>\n    </tr>\n  </tbody>\n</table>\n</div>"
     },
     "metadata": {},
     "execution_count": 108
    }
   ],
   "source": [
    "nClientesAñoSucursal2010 = pd.DataFrame(data.loc[(data[\"Año\"] == 2010) & (data[\"Nuevo Cliente\"] == \"Sí\")].groupby([\"Sucursal\"])[\"Importe\"].count())\n",
    "nClientesAñoSucursal2010 = nClientesAñoSucursal2010[nClientesAñoSucursal2010[\"Importe\"] == nClientesAñoSucursal2010[\"Importe\"].min()]\n",
    "nClientesAñoSucursal2010"
   ]
  },
  {
   "source": [
    "Tendríamos que mejorar en este caso en Barcelona ya que es la sucursal que menos consiguió en el 2010"
   ],
   "cell_type": "markdown",
   "metadata": {}
  },
  {
   "cell_type": "code",
   "execution_count": 109,
   "metadata": {},
   "outputs": [
    {
     "output_type": "execute_result",
     "data": {
      "text/plain": [
       "           Importe\n",
       "Sucursal          \n",
       "Salamanca        2"
      ],
      "text/html": "<div>\n<style scoped>\n    .dataframe tbody tr th:only-of-type {\n        vertical-align: middle;\n    }\n\n    .dataframe tbody tr th {\n        vertical-align: top;\n    }\n\n    .dataframe thead th {\n        text-align: right;\n    }\n</style>\n<table border=\"1\" class=\"dataframe\">\n  <thead>\n    <tr style=\"text-align: right;\">\n      <th></th>\n      <th>Importe</th>\n    </tr>\n    <tr>\n      <th>Sucursal</th>\n      <th></th>\n    </tr>\n  </thead>\n  <tbody>\n    <tr>\n      <th>Salamanca</th>\n      <td>2</td>\n    </tr>\n  </tbody>\n</table>\n</div>"
     },
     "metadata": {},
     "execution_count": 109
    }
   ],
   "source": [
    "nClientesAñoSucursal2011 = pd.DataFrame(data.loc[(data[\"Año\"] == 2011) & (data[\"Nuevo Cliente\"] == \"Sí\")].groupby([\"Sucursal\"])[\"Importe\"].count())\n",
    "nClientesAñoSucursal2011 = nClientesAñoSucursal2011[nClientesAñoSucursal2011[\"Importe\"] == nClientesAñoSucursal2011[\"Importe\"].min()]\n",
    "nClientesAñoSucursal2011"
   ]
  },
  {
   "source": [
    "También habría que mejorar Salamanca que en el 2011 fue la que menos clientes nuevos obtuvo"
   ],
   "cell_type": "markdown",
   "metadata": {}
  }
 ],
 "metadata": {
  "kernelspec": {
   "name": "python379jvsc74a57bd0fd3a8996e0acf5343d074e675d410fb19183f797a5c70d53c910525512c681cc",
   "display_name": "Python 3.7.9 64-bit ('venv')"
  },
  "language_info": {
   "codemirror_mode": {
    "name": "ipython",
    "version": 3
   },
   "file_extension": ".py",
   "mimetype": "text/x-python",
   "name": "python",
   "nbconvert_exporter": "python",
   "pygments_lexer": "ipython3",
   "version": "3.7.9-final"
  }
 },
 "nbformat": 4,
 "nbformat_minor": 2
}