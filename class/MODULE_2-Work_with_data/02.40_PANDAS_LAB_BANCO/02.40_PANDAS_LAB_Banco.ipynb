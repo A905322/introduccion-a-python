{
 "cells": [
  {
   "cell_type": "markdown",
   "metadata": {},
   "source": [
    "# Práctica Pandas: \n",
    "# INFORME SOBRE CUENTAS BANCARIAS DE LOS AÑOS 2010 Y 2011\n",
    "\n",
    "Introducción a la Programación en Python 2021\n",
    "by Fernando Carazo\n"
   ]
  },
  {
   "cell_type": "code",
   "execution_count": 1,
   "metadata": {},
   "outputs": [],
   "source": [
    "%config IPCompleter.greedy=True\n",
    "import pandas as pd"
   ]
  },
  {
   "cell_type": "markdown",
   "metadata": {},
   "source": [
    "### Load data"
   ]
  },
  {
   "cell_type": "code",
   "execution_count": 37,
   "metadata": {},
   "outputs": [
    {
     "data": {
      "text/html": [
       "<div>\n",
       "<style scoped>\n",
       "    .dataframe tbody tr th:only-of-type {\n",
       "        vertical-align: middle;\n",
       "    }\n",
       "\n",
       "    .dataframe tbody tr th {\n",
       "        vertical-align: top;\n",
       "    }\n",
       "\n",
       "    .dataframe thead th {\n",
       "        text-align: right;\n",
       "    }\n",
       "</style>\n",
       "<table border=\"1\" class=\"dataframe\">\n",
       "  <thead>\n",
       "    <tr style=\"text-align: right;\">\n",
       "      <th></th>\n",
       "      <th>Año</th>\n",
       "      <th>Mes</th>\n",
       "      <th>Sucursal</th>\n",
       "      <th>Tipo Cta</th>\n",
       "      <th>Nuevo Cliente</th>\n",
       "      <th>Importe</th>\n",
       "    </tr>\n",
       "  </thead>\n",
       "  <tbody>\n",
       "    <tr>\n",
       "      <th>0</th>\n",
       "      <td>2011</td>\n",
       "      <td>Enero</td>\n",
       "      <td>Madrid</td>\n",
       "      <td>Corriente</td>\n",
       "      <td>Sí</td>\n",
       "      <td>2500</td>\n",
       "    </tr>\n",
       "    <tr>\n",
       "      <th>1</th>\n",
       "      <td>2011</td>\n",
       "      <td>Enero</td>\n",
       "      <td>Barcelona</td>\n",
       "      <td>Fondo Inversión</td>\n",
       "      <td>Sí</td>\n",
       "      <td>10000</td>\n",
       "    </tr>\n",
       "    <tr>\n",
       "      <th>2</th>\n",
       "      <td>2011</td>\n",
       "      <td>Enero</td>\n",
       "      <td>Salamanca</td>\n",
       "      <td>Corriente</td>\n",
       "      <td>Sí</td>\n",
       "      <td>3500</td>\n",
       "    </tr>\n",
       "    <tr>\n",
       "      <th>3</th>\n",
       "      <td>2011</td>\n",
       "      <td>Febrero</td>\n",
       "      <td>Barcelona</td>\n",
       "      <td>Fondo Inversión</td>\n",
       "      <td>No</td>\n",
       "      <td>75000</td>\n",
       "    </tr>\n",
       "    <tr>\n",
       "      <th>4</th>\n",
       "      <td>2011</td>\n",
       "      <td>Febrero</td>\n",
       "      <td>Barcelona</td>\n",
       "      <td>Fondo Inversión</td>\n",
       "      <td>No</td>\n",
       "      <td>100000</td>\n",
       "    </tr>\n",
       "  </tbody>\n",
       "</table>\n",
       "</div>"
      ],
      "text/plain": [
       "    Año      Mes   Sucursal         Tipo Cta Nuevo Cliente  Importe\n",
       "0  2011    Enero     Madrid        Corriente            Sí     2500\n",
       "1  2011    Enero  Barcelona  Fondo Inversión            Sí    10000\n",
       "2  2011    Enero  Salamanca        Corriente            Sí     3500\n",
       "3  2011  Febrero  Barcelona  Fondo Inversión            No    75000\n",
       "4  2011  Febrero  Barcelona  Fondo Inversión            No   100000"
      ]
     },
     "execution_count": 37,
     "metadata": {},
     "output_type": "execute_result"
    }
   ],
   "source": [
    "data = pd.read_excel(\"Banco.xlsx\")\n",
    "data = pd.DataFrame(data)\n",
    "data.head()"
   ]
  },
  {
   "cell_type": "markdown",
   "metadata": {},
   "source": [
    "### 0. Numero de cuentas por año. ¿Y por mes y año?"
   ]
  },
  {
   "cell_type": "markdown",
   "metadata": {},
   "source": [
    "### 1.\tCantidad total de importe de clientes por año"
   ]
  },
  {
   "cell_type": "markdown",
   "metadata": {},
   "source": [
    "### 2.\t¿Cuánto ha aumentado /disminuido 2011 vs 2010? ¿Y según tipo de cuenta?\n"
   ]
  },
  {
   "cell_type": "markdown",
   "metadata": {},
   "source": [
    "### 3.\t¿Cómo se distribuye el importe según las sucursales? ¿y en porcentajes? ¿Qué sucursal ha ingresado más?"
   ]
  },
  {
   "cell_type": "markdown",
   "metadata": {},
   "source": [
    "### 4.\t¿Y por tipo de cuenta bancaria? ¿Qué tipo de cuenta habría que fortalecer?"
   ]
  },
  {
   "cell_type": "markdown",
   "metadata": {},
   "source": [
    "### 5.\t¿Cómo se distribuyen los tipos de cuenta según ciudad? "
   ]
  },
  {
   "cell_type": "markdown",
   "metadata": {},
   "source": [
    "### 6.\t¿Qué tipo de cuenta es la más fuerte en cada ciudad?"
   ]
  },
  {
   "cell_type": "markdown",
   "metadata": {},
   "source": [
    "### 7.\t¿Qué cuenta habría que fortalecer en Barcelona? ¿Y en Madrid?"
   ]
  },
  {
   "cell_type": "markdown",
   "metadata": {},
   "source": [
    "### 8.\t¿Cuántos nuevos clientes se han conseguido en 2010? ¿y en 2011? "
   ]
  },
  {
   "cell_type": "markdown",
   "metadata": {},
   "source": [
    "### 9.\tHaga un análisis de los nuevos clientes. Si usted fuera el director del banco, ¿Dónde le gustaría mejorar?"
   ]
  },
  {
   "cell_type": "code",
   "execution_count": null,
   "metadata": {},
   "outputs": [],
   "source": []
  }
 ],
 "metadata": {
  "kernelspec": {
   "display_name": "Python 3",
   "language": "python",
   "name": "python3"
  },
  "language_info": {
   "codemirror_mode": {
    "name": "ipython",
    "version": 3
   },
   "file_extension": ".py",
   "mimetype": "text/x-python",
   "name": "python",
   "nbconvert_exporter": "python",
   "pygments_lexer": "ipython3",
   "version": "3.6.8"
  }
 },
 "nbformat": 4,
 "nbformat_minor": 2
}